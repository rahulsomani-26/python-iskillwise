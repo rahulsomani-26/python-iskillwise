{
 "cells": [
  {
   "cell_type": "markdown",
   "id": "d291088d",
   "metadata": {},
   "source": [
    "# global, local, nonlocal "
   ]
  },
  {
   "cell_type": "code",
   "execution_count": 2,
   "id": "83389d87",
   "metadata": {},
   "outputs": [],
   "source": [
    "a = 10 \n",
    "def my_local():\n",
    "    a = 30 \n",
    "    print(a)\n",
    "    "
   ]
  },
  {
   "cell_type": "code",
   "execution_count": 3,
   "id": "ce395350",
   "metadata": {},
   "outputs": [
    {
     "data": {
      "text/plain": [
       "{'__name__': '__main__',\n",
       " '__doc__': 'Automatically created module for IPython interactive environment',\n",
       " '__package__': None,\n",
       " '__loader__': None,\n",
       " '__spec__': None,\n",
       " '__builtin__': <module 'builtins' (built-in)>,\n",
       " '__builtins__': <module 'builtins' (built-in)>,\n",
       " '_ih': ['',\n",
       "  'a = 10 \\ndef my_local():',\n",
       "  'a = 10 \\ndef my_local():\\n    a = 30 \\n    print(a)\\n    ',\n",
       "  'globals()'],\n",
       " '_oh': {},\n",
       " '_dh': [WindowsPath('C:/Users/Rahul somani/Desktop/iskillbox python/day-3')],\n",
       " 'In': ['',\n",
       "  'a = 10 \\ndef my_local():',\n",
       "  'a = 10 \\ndef my_local():\\n    a = 30 \\n    print(a)\\n    ',\n",
       "  'globals()'],\n",
       " 'Out': {},\n",
       " 'get_ipython': <bound method InteractiveShell.get_ipython of <ipykernel.zmqshell.ZMQInteractiveShell object at 0x0000018E924D49D0>>,\n",
       " 'exit': <IPython.core.autocall.ZMQExitAutocall at 0x18e924d4e50>,\n",
       " 'quit': <IPython.core.autocall.ZMQExitAutocall at 0x18e924d4e50>,\n",
       " '_': '',\n",
       " '__': '',\n",
       " '___': '',\n",
       " '_i': 'a = 10 \\ndef my_local():\\n    a = 30 \\n    print(a)\\n    ',\n",
       " '_ii': 'a = 10 \\ndef my_local():',\n",
       " '_iii': '',\n",
       " '_i1': 'a = 10 \\ndef my_local():',\n",
       " '_i2': 'a = 10 \\ndef my_local():\\n    a = 30 \\n    print(a)\\n    ',\n",
       " 'a': 10,\n",
       " 'my_local': <function __main__.my_local()>,\n",
       " '_i3': 'globals()'}"
      ]
     },
     "execution_count": 3,
     "metadata": {},
     "output_type": "execute_result"
    }
   ],
   "source": [
    "globals()"
   ]
  },
  {
   "cell_type": "code",
   "execution_count": 4,
   "id": "d5b022cf",
   "metadata": {},
   "outputs": [
    {
     "data": {
      "text/plain": [
       "10"
      ]
     },
     "execution_count": 4,
     "metadata": {},
     "output_type": "execute_result"
    }
   ],
   "source": [
    "globals()['a']"
   ]
  },
  {
   "cell_type": "code",
   "execution_count": 5,
   "id": "ba86f1c4",
   "metadata": {},
   "outputs": [
    {
     "data": {
      "text/plain": [
       "<function __main__.my_local()>"
      ]
     },
     "execution_count": 5,
     "metadata": {},
     "output_type": "execute_result"
    }
   ],
   "source": [
    "globals()['my_local']"
   ]
  },
  {
   "cell_type": "code",
   "execution_count": 6,
   "id": "93fba5ea",
   "metadata": {},
   "outputs": [
    {
     "name": "stdout",
     "output_type": "stream",
     "text": [
      "30\n"
     ]
    }
   ],
   "source": [
    "globals()['my_local']()"
   ]
  },
  {
   "cell_type": "code",
   "execution_count": 7,
   "id": "04a02c29",
   "metadata": {},
   "outputs": [],
   "source": [
    "a = 10 \n",
    "def my_local():\n",
    "    a = 30 \n",
    "    print(a)\n",
    "    "
   ]
  },
  {
   "cell_type": "code",
   "execution_count": 8,
   "id": "8ef70a9c",
   "metadata": {},
   "outputs": [
    {
     "data": {
      "text/plain": [
       "10"
      ]
     },
     "execution_count": 8,
     "metadata": {},
     "output_type": "execute_result"
    }
   ],
   "source": [
    "a"
   ]
  },
  {
   "cell_type": "code",
   "execution_count": 9,
   "id": "5af297cc",
   "metadata": {},
   "outputs": [
    {
     "name": "stdout",
     "output_type": "stream",
     "text": [
      "30\n"
     ]
    }
   ],
   "source": [
    "my_local()"
   ]
  },
  {
   "cell_type": "code",
   "execution_count": 10,
   "id": "4f1b7fce",
   "metadata": {},
   "outputs": [],
   "source": [
    "a = 10 \n",
    "def my_local():\n",
    "    global a\n",
    "    a = 30 \n",
    "    print(a)\n",
    "    "
   ]
  },
  {
   "cell_type": "code",
   "execution_count": 11,
   "id": "c7caa7b5",
   "metadata": {},
   "outputs": [
    {
     "data": {
      "text/plain": [
       "10"
      ]
     },
     "execution_count": 11,
     "metadata": {},
     "output_type": "execute_result"
    }
   ],
   "source": [
    "a"
   ]
  },
  {
   "cell_type": "code",
   "execution_count": 12,
   "id": "d4af1974",
   "metadata": {},
   "outputs": [
    {
     "name": "stdout",
     "output_type": "stream",
     "text": [
      "30\n"
     ]
    }
   ],
   "source": [
    "my_local()"
   ]
  },
  {
   "cell_type": "code",
   "execution_count": 13,
   "id": "8e8af711",
   "metadata": {},
   "outputs": [
    {
     "data": {
      "text/plain": [
       "30"
      ]
     },
     "execution_count": 13,
     "metadata": {},
     "output_type": "execute_result"
    }
   ],
   "source": [
    "a"
   ]
  },
  {
   "cell_type": "markdown",
   "id": "247c0802",
   "metadata": {},
   "source": [
    "# Nested Functions "
   ]
  },
  {
   "cell_type": "code",
   "execution_count": 17,
   "id": "79996f1b",
   "metadata": {},
   "outputs": [],
   "source": [
    "def outer():\n",
    "    a = 10 \n",
    "    print(\" a from outer {}\".format(a))# 10 \n",
    "    def inner():\n",
    "        a = 20 \n",
    "        print('a from inner = {}'.format(a)) # 20\n",
    "    inner()\n",
    "    print('a = {}'.format(a)) # 10 "
   ]
  },
  {
   "cell_type": "code",
   "execution_count": 18,
   "id": "d4e50a9b",
   "metadata": {},
   "outputs": [
    {
     "name": "stdout",
     "output_type": "stream",
     "text": [
      " a from outer 10\n",
      "a from inner = 20\n",
      "a = 10\n"
     ]
    }
   ],
   "source": [
    "outer()"
   ]
  },
  {
   "cell_type": "code",
   "execution_count": 19,
   "id": "c38ff027",
   "metadata": {},
   "outputs": [],
   "source": [
    "def outer():\n",
    "    a = 10 \n",
    "    print(\" a from outer {}\".format(a)) # 10 \n",
    "    def inner():\n",
    "        nonlocal a \n",
    "        a = 20 \n",
    "        print('a from inner = {}'.format(a)) # 20 \n",
    "    inner()\n",
    "    print('a = {}'.format(a)) # 20 "
   ]
  },
  {
   "cell_type": "code",
   "execution_count": 20,
   "id": "4e5b987e",
   "metadata": {},
   "outputs": [
    {
     "name": "stdout",
     "output_type": "stream",
     "text": [
      " a from outer 10\n",
      "a from inner = 20\n",
      "a = 20\n"
     ]
    }
   ],
   "source": [
    "outer()"
   ]
  },
  {
   "cell_type": "code",
   "execution_count": 25,
   "id": "6bf9b577",
   "metadata": {},
   "outputs": [],
   "source": [
    "f = open('test','w')\n",
    "f.write('test')\n",
    "f.close()"
   ]
  },
  {
   "cell_type": "code",
   "execution_count": 27,
   "id": "ed5165d4",
   "metadata": {},
   "outputs": [
    {
     "name": "stdout",
     "output_type": "stream",
     "text": [
      "['_CHUNK_SIZE', '__class__', '__del__', '__delattr__', '__dict__', '__dir__', '__doc__', '__enter__', '__eq__', '__exit__', '__format__', '__ge__', '__getattribute__', '__gt__', '__hash__', '__init__', '__init_subclass__', '__iter__', '__le__', '__lt__', '__ne__', '__new__', '__next__', '__reduce__', '__reduce_ex__', '__repr__', '__setattr__', '__sizeof__', '__str__', '__subclasshook__', '_checkClosed', '_checkReadable', '_checkSeekable', '_checkWritable', '_finalizing', 'buffer', 'close', 'closed', 'detach', 'encoding', 'errors', 'fileno', 'flush', 'isatty', 'line_buffering', 'mode', 'name', 'newlines', 'read', 'readable', 'readline', 'readlines', 'reconfigure', 'seek', 'seekable', 'tell', 'truncate', 'writable', 'write', 'write_through', 'writelines']\n"
     ]
    }
   ],
   "source": [
    "print(dir(f))"
   ]
  },
  {
   "cell_type": "code",
   "execution_count": 28,
   "id": "2a7dc973",
   "metadata": {},
   "outputs": [
    {
     "data": {
      "text/plain": [
       "'test'"
      ]
     },
     "execution_count": 28,
     "metadata": {},
     "output_type": "execute_result"
    }
   ],
   "source": [
    "f.name"
   ]
  },
  {
   "cell_type": "code",
   "execution_count": 31,
   "id": "0f9c08e5",
   "metadata": {},
   "outputs": [
    {
     "data": {
      "text/plain": [
       "{'mode': 'w'}"
      ]
     },
     "execution_count": 31,
     "metadata": {},
     "output_type": "execute_result"
    }
   ],
   "source": [
    "f.__dict__"
   ]
  },
  {
   "cell_type": "code",
   "execution_count": 35,
   "id": "e422df78",
   "metadata": {},
   "outputs": [
    {
     "name": "stdout",
     "output_type": "stream",
     "text": [
      "FirstSecondThirdFourth\n"
     ]
    }
   ],
   "source": [
    "f = open('mydata.txt','r')\n",
    "print(f.read(-1))"
   ]
  },
  {
   "cell_type": "code",
   "execution_count": 33,
   "id": "ab10d421",
   "metadata": {},
   "outputs": [
    {
     "name": "stdout",
     "output_type": "stream",
     "text": [
      "Help on built-in function read:\n",
      "\n",
      "read(size=-1, /) method of _io.TextIOWrapper instance\n",
      "    Read at most n characters from stream.\n",
      "    \n",
      "    Read from underlying buffer until we have n characters or we hit EOF.\n",
      "    If n is negative or omitted, read until EOF.\n",
      "\n"
     ]
    }
   ],
   "source": [
    "help(f.read)"
   ]
  },
  {
   "cell_type": "code",
   "execution_count": 36,
   "id": "587ce6dc",
   "metadata": {},
   "outputs": [
    {
     "data": {
      "text/plain": [
       "'Return a list of lines from the stream.\\n\\nhint can be specified to control the number of lines read: no more\\nlines will be read if the total size (in bytes/characters) of all\\nlines so far exceeds hint.'"
      ]
     },
     "execution_count": 36,
     "metadata": {},
     "output_type": "execute_result"
    }
   ],
   "source": [
    "f.readlines.__doc__"
   ]
  },
  {
   "cell_type": "code",
   "execution_count": 40,
   "id": "f47dd7f6",
   "metadata": {},
   "outputs": [],
   "source": [
    "f = open('test.txt','r')\n",
    "# print(f.read())\n",
    "l = f.readlines()"
   ]
  },
  {
   "cell_type": "code",
   "execution_count": 42,
   "id": "a48fe2b2",
   "metadata": {},
   "outputs": [
    {
     "data": {
      "text/plain": [
       "(['Second Line Third line Curent value of i = 0Curent value of i = 1Curent value of i = 2Curent value of i = 3Curent value of i = 4Curent value of i = 5Curent value of i = 6Curent value of i = 7Curent value of i = 8Curent value of i = 9Curent value of i = 10Curent value of i = 11Curent value of i = 12Curent value of i = 13Curent value of i = 14Curent value of i = 15Curent value of i = 16Curent value of i = 17Curent value of i = 18Curent value of i = 19Curent value of i = 20Curent value of i = 21Curent value of i = 22Curent value of i = 23Curent value of i = 24Curent value of i = 25Curent value of i = 26Curent value of i = 27Curent value of i = 28Curent value of i = 29Curent value of i = 30Curent value of i = 31Curent value of i = 32Curent value of i = 33Curent value of i = 34Curent value of i = 35Curent value of i = 36Curent value of i = 37Curent value of i = 38Curent value of i = 39Curent value of i = 40Curent value of i = 41Curent value of i = 42Curent value of i = 43Curent value of i = 44Curent value of i = 45Curent value of i = 46Curent value of i = 47Curent value of i = 48Curent value of i = 49Curent value of i = 50Curent value of i = 51Curent value of i = 52Curent value of i = 53Curent value of i = 54Curent value of i = 55Curent value of i = 56Curent value of i = 57Curent value of i = 58Curent value of i = 59Curent value of i = 60Curent value of i = 61Curent value of i = 62Curent value of i = 63Curent value of i = 64Curent value of i = 65Curent value of i = 66Curent value of i = 67Curent value of i = 68Curent value of i = 69Curent value of i = 70Curent value of i = 71Curent value of i = 72Curent value of i = 73Curent value of i = 74Curent value of i = 75Curent value of i = 76Curent value of i = 77Curent value of i = 78Curent value of i = 79Curent value of i = 80Curent value of i = 81Curent value of i = 82Curent value of i = 83Curent value of i = 84Curent value of i = 85Curent value of i = 86Curent value of i = 87Curent value of i = 88Curent value of i = 89Curent value of i = 90Curent value of i = 91Curent value of i = 92Curent value of i = 93Curent value of i = 94Curent value of i = 95Curent value of i = 96Curent value of i = 97Curent value of i = 98Curent value of i = 99'],\n",
       " 1)"
      ]
     },
     "execution_count": 42,
     "metadata": {},
     "output_type": "execute_result"
    }
   ],
   "source": [
    "l, len(l)"
   ]
  },
  {
   "cell_type": "code",
   "execution_count": 43,
   "id": "074d7a71",
   "metadata": {},
   "outputs": [],
   "source": [
    "f = open('requirments.txt','w')\n",
    "f.writelines('Hello world \\n First \\n second \\n third \\n\\t fourth')\n",
    "f.close()"
   ]
  },
  {
   "cell_type": "code",
   "execution_count": 44,
   "id": "7a861185",
   "metadata": {},
   "outputs": [],
   "source": [
    "del f "
   ]
  },
  {
   "cell_type": "code",
   "execution_count": 45,
   "id": "baf8eee8",
   "metadata": {},
   "outputs": [
    {
     "ename": "NameError",
     "evalue": "name 'f' is not defined",
     "output_type": "error",
     "traceback": [
      "\u001b[1;31m---------------------------------------------------------------------------\u001b[0m",
      "\u001b[1;31mNameError\u001b[0m                                 Traceback (most recent call last)",
      "Input \u001b[1;32mIn [45]\u001b[0m, in \u001b[0;36m<cell line: 1>\u001b[1;34m()\u001b[0m\n\u001b[1;32m----> 1\u001b[0m \u001b[43mf\u001b[49m\n",
      "\u001b[1;31mNameError\u001b[0m: name 'f' is not defined"
     ]
    }
   ],
   "source": [
    "f"
   ]
  },
  {
   "cell_type": "code",
   "execution_count": 51,
   "id": "4dbf064c",
   "metadata": {},
   "outputs": [],
   "source": [
    "f = open('requirments.txt','w')\n",
    "f.write('Python')\n",
    "f.write('\\n Jupyter notebook')\n",
    "f.close()\n",
    "f = open('requirments.txt','r')\n",
    "f.read(1)\n",
    "f.tell()\n",
    "f.read(1)\n",
    "f.tell()\n",
    "f.read(2)\n",
    "f.close()"
   ]
  },
  {
   "cell_type": "code",
   "execution_count": 47,
   "id": "87b63957",
   "metadata": {},
   "outputs": [
    {
     "data": {
      "text/plain": [
       "<function TextIOWrapper.tell()>"
      ]
     },
     "execution_count": 47,
     "metadata": {},
     "output_type": "execute_result"
    }
   ],
   "source": [
    "\n"
   ]
  },
  {
   "cell_type": "code",
   "execution_count": 49,
   "id": "1880aad8",
   "metadata": {},
   "outputs": [],
   "source": [
    "f.tell.__doc__"
   ]
  },
  {
   "cell_type": "code",
   "execution_count": 50,
   "id": "ebcbb769",
   "metadata": {},
   "outputs": [
    {
     "name": "stdout",
     "output_type": "stream",
     "text": [
      "Help on built-in function tell:\n",
      "\n",
      "tell() method of _io.TextIOWrapper instance\n",
      "    Return current stream position.\n",
      "\n"
     ]
    }
   ],
   "source": [
    "help(f.tell)"
   ]
  },
  {
   "cell_type": "code",
   "execution_count": 52,
   "id": "0025e485",
   "metadata": {},
   "outputs": [
    {
     "name": "stdout",
     "output_type": "stream",
     "text": [
      "Help on built-in function seek:\n",
      "\n",
      "seek(cookie, whence=0, /) method of _io.TextIOWrapper instance\n",
      "    Change stream position.\n",
      "    \n",
      "    Change the stream position to the given byte offset. The offset is\n",
      "    interpreted relative to the position indicated by whence.  Values\n",
      "    for whence are:\n",
      "    \n",
      "    * 0 -- start of stream (the default); offset should be zero or positive\n",
      "    * 1 -- current stream position; offset may be negative\n",
      "    * 2 -- end of stream; offset is usually negative\n",
      "    \n",
      "    Return the new absolute position.\n",
      "\n"
     ]
    }
   ],
   "source": [
    "help(f.seek)"
   ]
  },
  {
   "cell_type": "code",
   "execution_count": 54,
   "id": "e6215d93",
   "metadata": {},
   "outputs": [
    {
     "name": "stdout",
     "output_type": "stream",
     "text": [
      "P\n",
      "1\n",
      "y\n",
      "2\n",
      "th\n"
     ]
    }
   ],
   "source": [
    "f = open('requirments.txt','w')\n",
    "f.write('Python')\n",
    "f.write('\\n Jupyter notebook')\n",
    "f.close()\n",
    "f = open('requirments.txt','r')\n",
    "print(f.read(1))\n",
    "print(f.tell())\n",
    "print(f.read(1))\n",
    "print(f.tell())\n",
    "print(f.read(2))\n",
    "\n",
    "f.close()"
   ]
  },
  {
   "cell_type": "code",
   "execution_count": 55,
   "id": "91e5c2e8",
   "metadata": {},
   "outputs": [
    {
     "data": {
      "text/plain": [
       "['_CHUNK_SIZE',\n",
       " '__class__',\n",
       " '__del__',\n",
       " '__delattr__',\n",
       " '__dict__',\n",
       " '__dir__',\n",
       " '__doc__',\n",
       " '__enter__',\n",
       " '__eq__',\n",
       " '__exit__',\n",
       " '__format__',\n",
       " '__ge__',\n",
       " '__getattribute__',\n",
       " '__gt__',\n",
       " '__hash__',\n",
       " '__init__',\n",
       " '__init_subclass__',\n",
       " '__iter__',\n",
       " '__le__',\n",
       " '__lt__',\n",
       " '__ne__',\n",
       " '__new__',\n",
       " '__next__',\n",
       " '__reduce__',\n",
       " '__reduce_ex__',\n",
       " '__repr__',\n",
       " '__setattr__',\n",
       " '__sizeof__',\n",
       " '__str__',\n",
       " '__subclasshook__',\n",
       " '_checkClosed',\n",
       " '_checkReadable',\n",
       " '_checkSeekable',\n",
       " '_checkWritable',\n",
       " '_finalizing',\n",
       " 'buffer',\n",
       " 'close',\n",
       " 'closed',\n",
       " 'detach',\n",
       " 'encoding',\n",
       " 'errors',\n",
       " 'fileno',\n",
       " 'flush',\n",
       " 'isatty',\n",
       " 'line_buffering',\n",
       " 'mode',\n",
       " 'name',\n",
       " 'newlines',\n",
       " 'read',\n",
       " 'readable',\n",
       " 'readline',\n",
       " 'readlines',\n",
       " 'reconfigure',\n",
       " 'seek',\n",
       " 'seekable',\n",
       " 'tell',\n",
       " 'truncate',\n",
       " 'writable',\n",
       " 'write',\n",
       " 'write_through',\n",
       " 'writelines']"
      ]
     },
     "execution_count": 55,
     "metadata": {},
     "output_type": "execute_result"
    }
   ],
   "source": [
    "dir(f)\n"
   ]
  },
  {
   "cell_type": "code",
   "execution_count": 56,
   "id": "fa515d28",
   "metadata": {},
   "outputs": [
    {
     "data": {
      "text/plain": [
       "8192"
      ]
     },
     "execution_count": 56,
     "metadata": {},
     "output_type": "execute_result"
    }
   ],
   "source": [
    "f._CHUNK_SIZE"
   ]
  },
  {
   "cell_type": "code",
   "execution_count": null,
   "id": "2d721956",
   "metadata": {},
   "outputs": [],
   "source": []
  }
 ],
 "metadata": {
  "kernelspec": {
   "display_name": "Python 3 (ipykernel)",
   "language": "python",
   "name": "python3"
  },
  "language_info": {
   "codemirror_mode": {
    "name": "ipython",
    "version": 3
   },
   "file_extension": ".py",
   "mimetype": "text/x-python",
   "name": "python",
   "nbconvert_exporter": "python",
   "pygments_lexer": "ipython3",
   "version": "3.10.4"
  }
 },
 "nbformat": 4,
 "nbformat_minor": 5
}
