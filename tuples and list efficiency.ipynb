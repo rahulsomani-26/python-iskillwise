{
 "cells": [
  {
   "cell_type": "code",
   "execution_count": 1,
   "id": "f412afd8",
   "metadata": {},
   "outputs": [],
   "source": [
    "def my_func():\n",
    "    print(\"within a function\")"
   ]
  },
  {
   "cell_type": "code",
   "execution_count": 2,
   "id": "df08f5b5",
   "metadata": {},
   "outputs": [
    {
     "data": {
      "text/plain": [
       "<function __main__.my_func()>"
      ]
     },
     "execution_count": 2,
     "metadata": {},
     "output_type": "execute_result"
    }
   ],
   "source": [
    "my_func"
   ]
  },
  {
   "cell_type": "code",
   "execution_count": 3,
   "id": "8a1ac943",
   "metadata": {},
   "outputs": [
    {
     "data": {
      "text/plain": [
       "{}"
      ]
     },
     "execution_count": 3,
     "metadata": {},
     "output_type": "execute_result"
    }
   ],
   "source": [
    "my_func.__dict__"
   ]
  },
  {
   "cell_type": "code",
   "execution_count": 4,
   "id": "c6746785",
   "metadata": {},
   "outputs": [],
   "source": [
    "my_func.author = 'Rahul'\n",
    "my_func.version = '1.0.0'"
   ]
  },
  {
   "cell_type": "code",
   "execution_count": 5,
   "id": "95b1164b",
   "metadata": {},
   "outputs": [
    {
     "data": {
      "text/plain": [
       "{'author': 'Rahul', 'version': '1.0.0'}"
      ]
     },
     "execution_count": 5,
     "metadata": {},
     "output_type": "execute_result"
    }
   ],
   "source": [
    "my_func.__dict__"
   ]
  },
  {
   "cell_type": "code",
   "execution_count": 6,
   "id": "8679ad7a",
   "metadata": {},
   "outputs": [
    {
     "name": "stdout",
     "output_type": "stream",
     "text": [
      "within a function\n",
      "None\n"
     ]
    }
   ],
   "source": [
    "print(my_func())"
   ]
  },
  {
   "cell_type": "code",
   "execution_count": 7,
   "id": "95b6cedb",
   "metadata": {},
   "outputs": [
    {
     "data": {
      "text/plain": [
       "'Rahul'"
      ]
     },
     "execution_count": 7,
     "metadata": {},
     "output_type": "execute_result"
    }
   ],
   "source": [
    "my_func.__dict__['author']"
   ]
  },
  {
   "cell_type": "code",
   "execution_count": 8,
   "id": "f2ed479f",
   "metadata": {},
   "outputs": [
    {
     "data": {
      "text/plain": [
       "'1.0.0'"
      ]
     },
     "execution_count": 8,
     "metadata": {},
     "output_type": "execute_result"
    }
   ],
   "source": [
    "my_func.__dict__['version']"
   ]
  },
  {
   "cell_type": "code",
   "execution_count": null,
   "id": "e42234a4",
   "metadata": {},
   "outputs": [],
   "source": []
  }
 ],
 "metadata": {
  "kernelspec": {
   "display_name": "Python 3 (ipykernel)",
   "language": "python",
   "name": "python3"
  },
  "language_info": {
   "codemirror_mode": {
    "name": "ipython",
    "version": 3
   },
   "file_extension": ".py",
   "mimetype": "text/x-python",
   "name": "python",
   "nbconvert_exporter": "python",
   "pygments_lexer": "ipython3",
   "version": "3.10.4"
  }
 },
 "nbformat": 4,
 "nbformat_minor": 5
}
