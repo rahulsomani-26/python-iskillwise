{
 "cells": [
  {
   "cell_type": "markdown",
   "id": "e5907184",
   "metadata": {},
   "source": [
    "# Database \n",
    "***\n",
    "Python comes bundled with a very light weight database called sqlite3. \n",
    "\n"
   ]
  },
  {
   "cell_type": "markdown",
   "id": "567c5f5e",
   "metadata": {},
   "source": [
    "Steps involved :\n",
    "\n",
    "     - To create a connection to the database (this may throw an exception)\n",
    "     - To create tables within the database \n",
    "     - Perform the ` CRUD ` operations on our database "
   ]
  },
  {
   "cell_type": "code",
   "execution_count": 1,
   "id": "e211c94e",
   "metadata": {},
   "outputs": [],
   "source": [
    "import sqlite3 as sq "
   ]
  },
  {
   "cell_type": "code",
   "execution_count": 2,
   "id": "92cf25a2",
   "metadata": {},
   "outputs": [
    {
     "data": {
      "text/plain": [
       "<module 'sqlite3' from 'C:\\\\Users\\\\Rahul somani\\\\AppData\\\\Local\\\\Programs\\\\Python\\\\Python310\\\\lib\\\\sqlite3\\\\__init__.py'>"
      ]
     },
     "execution_count": 2,
     "metadata": {},
     "output_type": "execute_result"
    }
   ],
   "source": [
    "sq"
   ]
  },
  {
   "cell_type": "code",
   "execution_count": 3,
   "id": "d2f494cb",
   "metadata": {},
   "outputs": [
    {
     "data": {
      "text/plain": [
       "module"
      ]
     },
     "execution_count": 3,
     "metadata": {},
     "output_type": "execute_result"
    }
   ],
   "source": [
    "type(sq)"
   ]
  },
  {
   "cell_type": "code",
   "execution_count": 4,
   "id": "6bfc259e",
   "metadata": {},
   "outputs": [
    {
     "data": {
      "text/plain": [
       "{'__name__': 'sqlite3',\n",
       " '__doc__': '\\nThe sqlite3 extension module provides a DB-API 2.0 (PEP 249) compilant\\ninterface to the SQLite library, and requires SQLite 3.7.15 or newer.\\n\\nTo use the module, start by creating a database Connection object:\\n\\n    import sqlite3\\n    cx = sqlite3.connect(\"test.db\")  # test.db will be created or opened\\n\\nThe special path name \":memory:\" can be provided to connect to a transient\\nin-memory database:\\n\\n    cx = sqlite3.connect(\":memory:\")  # connect to a database in RAM\\n\\nOnce a connection has been established, create a Cursor object and call\\nits execute() method to perform SQL queries:\\n\\n    cu = cx.cursor()\\n\\n    # create a table\\n    cu.execute(\"create table lang(name, first_appeared)\")\\n\\n    # insert values into a table\\n    cu.execute(\"insert into lang values (?, ?)\", (\"C\", 1972))\\n\\n    # execute a query and iterate over the result\\n    for row in cu.execute(\"select * from lang\"):\\n        print(row)\\n\\n    cx.close()\\n\\nThe sqlite3 module is written by Gerhard Häring <gh@ghaering.de>.\\n',\n",
       " '__package__': 'sqlite3',\n",
       " '__loader__': <_frozen_importlib_external.SourceFileLoader at 0x1fcc1dc9c30>,\n",
       " '__spec__': ModuleSpec(name='sqlite3', loader=<_frozen_importlib_external.SourceFileLoader object at 0x000001FCC1DC9C30>, origin='C:\\\\Users\\\\Rahul somani\\\\AppData\\\\Local\\\\Programs\\\\Python\\\\Python310\\\\lib\\\\sqlite3\\\\__init__.py', submodule_search_locations=['C:\\\\Users\\\\Rahul somani\\\\AppData\\\\Local\\\\Programs\\\\Python\\\\Python310\\\\lib\\\\sqlite3']),\n",
       " '__path__': ['C:\\\\Users\\\\Rahul somani\\\\AppData\\\\Local\\\\Programs\\\\Python\\\\Python310\\\\lib\\\\sqlite3'],\n",
       " '__file__': 'C:\\\\Users\\\\Rahul somani\\\\AppData\\\\Local\\\\Programs\\\\Python\\\\Python310\\\\lib\\\\sqlite3\\\\__init__.py',\n",
       " '__cached__': 'C:\\\\Users\\\\Rahul somani\\\\AppData\\\\Local\\\\Programs\\\\Python\\\\Python310\\\\lib\\\\sqlite3\\\\__pycache__\\\\__init__.cpython-310.pyc',\n",
       " '__builtins__': {'__name__': 'builtins',\n",
       "  '__doc__': \"Built-in functions, exceptions, and other objects.\\n\\nNoteworthy: None is the `nil' object; Ellipsis represents `...' in slices.\",\n",
       "  '__package__': '',\n",
       "  '__loader__': _frozen_importlib.BuiltinImporter,\n",
       "  '__spec__': ModuleSpec(name='builtins', loader=<class '_frozen_importlib.BuiltinImporter'>, origin='built-in'),\n",
       "  '__build_class__': <function __build_class__>,\n",
       "  '__import__': <function __import__>,\n",
       "  'abs': <function abs(x, /)>,\n",
       "  'all': <function all(iterable, /)>,\n",
       "  'any': <function any(iterable, /)>,\n",
       "  'ascii': <function ascii(obj, /)>,\n",
       "  'bin': <function bin(number, /)>,\n",
       "  'breakpoint': <function breakpoint>,\n",
       "  'callable': <function callable(obj, /)>,\n",
       "  'chr': <function chr(i, /)>,\n",
       "  'compile': <function compile(source, filename, mode, flags=0, dont_inherit=False, optimize=-1, *, _feature_version=-1)>,\n",
       "  'delattr': <function delattr(obj, name, /)>,\n",
       "  'dir': <function dir>,\n",
       "  'divmod': <function divmod(x, y, /)>,\n",
       "  'eval': <function eval(source, globals=None, locals=None, /)>,\n",
       "  'exec': <function exec(source, globals=None, locals=None, /)>,\n",
       "  'format': <function format(value, format_spec='', /)>,\n",
       "  'getattr': <function getattr>,\n",
       "  'globals': <function globals()>,\n",
       "  'hasattr': <function hasattr(obj, name, /)>,\n",
       "  'hash': <function hash(obj, /)>,\n",
       "  'hex': <function hex(number, /)>,\n",
       "  'id': <function id(obj, /)>,\n",
       "  'input': <bound method Kernel.raw_input of <ipykernel.ipkernel.IPythonKernel object at 0x000001FCC3726350>>,\n",
       "  'isinstance': <function isinstance(obj, class_or_tuple, /)>,\n",
       "  'issubclass': <function issubclass(cls, class_or_tuple, /)>,\n",
       "  'iter': <function iter>,\n",
       "  'aiter': <function aiter(async_iterable, /)>,\n",
       "  'len': <function len(obj, /)>,\n",
       "  'locals': <function locals()>,\n",
       "  'max': <function max>,\n",
       "  'min': <function min>,\n",
       "  'next': <function next>,\n",
       "  'anext': <function anext>,\n",
       "  'oct': <function oct(number, /)>,\n",
       "  'ord': <function ord(c, /)>,\n",
       "  'pow': <function pow(base, exp, mod=None)>,\n",
       "  'print': <function print>,\n",
       "  'repr': <function repr(obj, /)>,\n",
       "  'round': <function round(number, ndigits=None)>,\n",
       "  'setattr': <function setattr(obj, name, value, /)>,\n",
       "  'sorted': <function sorted(iterable, /, *, key=None, reverse=False)>,\n",
       "  'sum': <function sum(iterable, /, start=0)>,\n",
       "  'vars': <function vars>,\n",
       "  'None': None,\n",
       "  'Ellipsis': Ellipsis,\n",
       "  'NotImplemented': NotImplemented,\n",
       "  'False': False,\n",
       "  'True': True,\n",
       "  'bool': bool,\n",
       "  'memoryview': memoryview,\n",
       "  'bytearray': bytearray,\n",
       "  'bytes': bytes,\n",
       "  'classmethod': classmethod,\n",
       "  'complex': complex,\n",
       "  'dict': dict,\n",
       "  'enumerate': enumerate,\n",
       "  'filter': filter,\n",
       "  'float': float,\n",
       "  'frozenset': frozenset,\n",
       "  'property': property,\n",
       "  'int': int,\n",
       "  'list': list,\n",
       "  'map': map,\n",
       "  'object': object,\n",
       "  'range': range,\n",
       "  'reversed': reversed,\n",
       "  'set': set,\n",
       "  'slice': slice,\n",
       "  'staticmethod': staticmethod,\n",
       "  'str': str,\n",
       "  'super': super,\n",
       "  'tuple': tuple,\n",
       "  'type': type,\n",
       "  'zip': zip,\n",
       "  '__debug__': True,\n",
       "  'BaseException': BaseException,\n",
       "  'Exception': Exception,\n",
       "  'TypeError': TypeError,\n",
       "  'StopAsyncIteration': StopAsyncIteration,\n",
       "  'StopIteration': StopIteration,\n",
       "  'GeneratorExit': GeneratorExit,\n",
       "  'SystemExit': SystemExit,\n",
       "  'KeyboardInterrupt': KeyboardInterrupt,\n",
       "  'ImportError': ImportError,\n",
       "  'ModuleNotFoundError': ModuleNotFoundError,\n",
       "  'OSError': OSError,\n",
       "  'EnvironmentError': OSError,\n",
       "  'IOError': OSError,\n",
       "  'WindowsError': OSError,\n",
       "  'EOFError': EOFError,\n",
       "  'RuntimeError': RuntimeError,\n",
       "  'RecursionError': RecursionError,\n",
       "  'NotImplementedError': NotImplementedError,\n",
       "  'NameError': NameError,\n",
       "  'UnboundLocalError': UnboundLocalError,\n",
       "  'AttributeError': AttributeError,\n",
       "  'SyntaxError': SyntaxError,\n",
       "  'IndentationError': IndentationError,\n",
       "  'TabError': TabError,\n",
       "  'LookupError': LookupError,\n",
       "  'IndexError': IndexError,\n",
       "  'KeyError': KeyError,\n",
       "  'ValueError': ValueError,\n",
       "  'UnicodeError': UnicodeError,\n",
       "  'UnicodeEncodeError': UnicodeEncodeError,\n",
       "  'UnicodeDecodeError': UnicodeDecodeError,\n",
       "  'UnicodeTranslateError': UnicodeTranslateError,\n",
       "  'AssertionError': AssertionError,\n",
       "  'ArithmeticError': ArithmeticError,\n",
       "  'FloatingPointError': FloatingPointError,\n",
       "  'OverflowError': OverflowError,\n",
       "  'ZeroDivisionError': ZeroDivisionError,\n",
       "  'SystemError': SystemError,\n",
       "  'ReferenceError': ReferenceError,\n",
       "  'MemoryError': MemoryError,\n",
       "  'BufferError': BufferError,\n",
       "  'Warning': Warning,\n",
       "  'UserWarning': UserWarning,\n",
       "  'EncodingWarning': EncodingWarning,\n",
       "  'DeprecationWarning': DeprecationWarning,\n",
       "  'PendingDeprecationWarning': PendingDeprecationWarning,\n",
       "  'SyntaxWarning': SyntaxWarning,\n",
       "  'RuntimeWarning': RuntimeWarning,\n",
       "  'FutureWarning': FutureWarning,\n",
       "  'ImportWarning': ImportWarning,\n",
       "  'UnicodeWarning': UnicodeWarning,\n",
       "  'BytesWarning': BytesWarning,\n",
       "  'ResourceWarning': ResourceWarning,\n",
       "  'ConnectionError': ConnectionError,\n",
       "  'BlockingIOError': BlockingIOError,\n",
       "  'BrokenPipeError': BrokenPipeError,\n",
       "  'ChildProcessError': ChildProcessError,\n",
       "  'ConnectionAbortedError': ConnectionAbortedError,\n",
       "  'ConnectionRefusedError': ConnectionRefusedError,\n",
       "  'ConnectionResetError': ConnectionResetError,\n",
       "  'FileExistsError': FileExistsError,\n",
       "  'FileNotFoundError': FileNotFoundError,\n",
       "  'IsADirectoryError': IsADirectoryError,\n",
       "  'NotADirectoryError': NotADirectoryError,\n",
       "  'InterruptedError': InterruptedError,\n",
       "  'PermissionError': PermissionError,\n",
       "  'ProcessLookupError': ProcessLookupError,\n",
       "  'TimeoutError': TimeoutError,\n",
       "  'open': <function io.open(file, mode='r', buffering=-1, encoding=None, errors=None, newline=None, closefd=True, opener=None)>,\n",
       "  'copyright': Copyright (c) 2001-2022 Python Software Foundation.\n",
       "  All Rights Reserved.\n",
       "  \n",
       "  Copyright (c) 2000 BeOpen.com.\n",
       "  All Rights Reserved.\n",
       "  \n",
       "  Copyright (c) 1995-2001 Corporation for National Research Initiatives.\n",
       "  All Rights Reserved.\n",
       "  \n",
       "  Copyright (c) 1991-1995 Stichting Mathematisch Centrum, Amsterdam.\n",
       "  All Rights Reserved.,\n",
       "  'credits':     Thanks to CWI, CNRI, BeOpen.com, Zope Corporation and a cast of thousands\n",
       "      for supporting Python development.  See www.python.org for more information.,\n",
       "  'license': Type license() to see the full license text,\n",
       "  'help': Type help() for interactive help, or help(object) for help about object.,\n",
       "  'execfile': <function _pydev_bundle._pydev_execfile.execfile(file, glob=None, loc=None)>,\n",
       "  'runfile': <function _pydev_bundle.pydev_umd.runfile(filename, args=None, wdir=None, namespace=None)>,\n",
       "  '__IPYTHON__': True,\n",
       "  'display': <function IPython.core.display_functions.display(*objs, include=None, exclude=None, metadata=None, transient=None, display_id=None, raw=False, clear=False, **kwargs)>,\n",
       "  'get_ipython': <bound method InteractiveShell.get_ipython of <ipykernel.zmqshell.ZMQInteractiveShell object at 0x000001FCC3774AF0>>},\n",
       " 'dbapi2': <module 'sqlite3.dbapi2' from 'C:\\\\Users\\\\Rahul somani\\\\AppData\\\\Local\\\\Programs\\\\Python\\\\Python310\\\\lib\\\\sqlite3\\\\dbapi2.py'>,\n",
       " 'datetime': <module 'datetime' from 'C:\\\\Users\\\\Rahul somani\\\\AppData\\\\Local\\\\Programs\\\\Python\\\\Python310\\\\lib\\\\datetime.py'>,\n",
       " 'time': <module 'time' (built-in)>,\n",
       " 'collections': <module 'collections' from 'C:\\\\Users\\\\Rahul somani\\\\AppData\\\\Local\\\\Programs\\\\Python\\\\Python310\\\\lib\\\\collections\\\\__init__.py'>,\n",
       " 'connect': <function _sqlite3.connect>,\n",
       " 'adapt': <function _sqlite3.adapt>,\n",
       " 'complete_statement': <function _sqlite3.complete_statement(statement)>,\n",
       " 'enable_callback_tracebacks': <function _sqlite3.enable_callback_tracebacks(enable, /)>,\n",
       " 'enable_shared_cache': <function sqlite3.dbapi2.enable_shared_cache(enable)>,\n",
       " 'register_adapter': <function _sqlite3.register_adapter(type, caster, /)>,\n",
       " 'register_converter': <function _sqlite3.register_converter(name, converter, /)>,\n",
       " 'Connection': sqlite3.Connection,\n",
       " 'Cursor': sqlite3.Cursor,\n",
       " 'PrepareProtocol': sqlite3.PrepareProtocol,\n",
       " 'Row': sqlite3.Row,\n",
       " 'Error': sqlite3.Error,\n",
       " 'Warning': sqlite3.Warning,\n",
       " 'InterfaceError': sqlite3.InterfaceError,\n",
       " 'DatabaseError': sqlite3.DatabaseError,\n",
       " 'InternalError': sqlite3.InternalError,\n",
       " 'OperationalError': sqlite3.OperationalError,\n",
       " 'ProgrammingError': sqlite3.ProgrammingError,\n",
       " 'IntegrityError': sqlite3.IntegrityError,\n",
       " 'DataError': sqlite3.DataError,\n",
       " 'NotSupportedError': sqlite3.NotSupportedError,\n",
       " 'PARSE_DECLTYPES': 1,\n",
       " 'PARSE_COLNAMES': 2,\n",
       " 'SQLITE_OK': 0,\n",
       " 'SQLITE_DENY': 1,\n",
       " 'SQLITE_IGNORE': 2,\n",
       " 'SQLITE_CREATE_INDEX': 1,\n",
       " 'SQLITE_CREATE_TABLE': 2,\n",
       " 'SQLITE_CREATE_TEMP_INDEX': 3,\n",
       " 'SQLITE_CREATE_TEMP_TABLE': 4,\n",
       " 'SQLITE_CREATE_TEMP_TRIGGER': 5,\n",
       " 'SQLITE_CREATE_TEMP_VIEW': 6,\n",
       " 'SQLITE_CREATE_TRIGGER': 7,\n",
       " 'SQLITE_CREATE_VIEW': 8,\n",
       " 'SQLITE_DELETE': 9,\n",
       " 'SQLITE_DROP_INDEX': 10,\n",
       " 'SQLITE_DROP_TABLE': 11,\n",
       " 'SQLITE_DROP_TEMP_INDEX': 12,\n",
       " 'SQLITE_DROP_TEMP_TABLE': 13,\n",
       " 'SQLITE_DROP_TEMP_TRIGGER': 14,\n",
       " 'SQLITE_DROP_TEMP_VIEW': 15,\n",
       " 'SQLITE_DROP_TRIGGER': 16,\n",
       " 'SQLITE_DROP_VIEW': 17,\n",
       " 'SQLITE_INSERT': 18,\n",
       " 'SQLITE_PRAGMA': 19,\n",
       " 'SQLITE_READ': 20,\n",
       " 'SQLITE_SELECT': 21,\n",
       " 'SQLITE_TRANSACTION': 22,\n",
       " 'SQLITE_UPDATE': 23,\n",
       " 'SQLITE_ATTACH': 24,\n",
       " 'SQLITE_DETACH': 25,\n",
       " 'SQLITE_ALTER_TABLE': 26,\n",
       " 'SQLITE_REINDEX': 27,\n",
       " 'SQLITE_ANALYZE': 28,\n",
       " 'SQLITE_CREATE_VTABLE': 29,\n",
       " 'SQLITE_DROP_VTABLE': 30,\n",
       " 'SQLITE_FUNCTION': 31,\n",
       " 'SQLITE_SAVEPOINT': 32,\n",
       " 'SQLITE_RECURSIVE': 33,\n",
       " 'SQLITE_DONE': 101,\n",
       " 'version': '2.6.0',\n",
       " 'sqlite_version': '3.37.2',\n",
       " 'adapters': {(datetime.date,\n",
       "   sqlite3.PrepareProtocol): <function sqlite3.dbapi2.register_adapters_and_converters.<locals>.adapt_date(val)>,\n",
       "  (datetime.datetime,\n",
       "   sqlite3.PrepareProtocol): <function sqlite3.dbapi2.register_adapters_and_converters.<locals>.adapt_datetime(val)>},\n",
       " 'converters': {'DATE': <function sqlite3.dbapi2.register_adapters_and_converters.<locals>.convert_date(val)>,\n",
       "  'TIMESTAMP': <function sqlite3.dbapi2.register_adapters_and_converters.<locals>.convert_timestamp(val)>},\n",
       " 'paramstyle': 'qmark',\n",
       " 'threadsafety': 1,\n",
       " 'apilevel': '2.0',\n",
       " 'Date': datetime.date,\n",
       " 'Time': datetime.time,\n",
       " 'Timestamp': datetime.datetime,\n",
       " 'DateFromTicks': <function sqlite3.dbapi2.DateFromTicks(ticks)>,\n",
       " 'TimeFromTicks': <function sqlite3.dbapi2.TimeFromTicks(ticks)>,\n",
       " 'TimestampFromTicks': <function sqlite3.dbapi2.TimestampFromTicks(ticks)>,\n",
       " 'version_info': (2, 6, 0),\n",
       " 'sqlite_version_info': (3, 37, 2),\n",
       " 'Binary': memoryview,\n",
       " '__getattr__': <function sqlite3.__getattr__(name)>}"
      ]
     },
     "execution_count": 4,
     "metadata": {},
     "output_type": "execute_result"
    }
   ],
   "source": [
    "sq.__dict__"
   ]
  },
  {
   "cell_type": "code",
   "execution_count": 5,
   "id": "f0336ab8",
   "metadata": {},
   "outputs": [
    {
     "name": "stdout",
     "output_type": "stream",
     "text": [
      "['Binary', 'Connection', 'Cursor', 'DataError', 'DatabaseError', 'Date', 'DateFromTicks', 'Error', 'IntegrityError', 'InterfaceError', 'InternalError', 'NotSupportedError', 'OperationalError', 'PARSE_COLNAMES', 'PARSE_DECLTYPES', 'PrepareProtocol', 'ProgrammingError', 'Row', 'SQLITE_ALTER_TABLE', 'SQLITE_ANALYZE', 'SQLITE_ATTACH', 'SQLITE_CREATE_INDEX', 'SQLITE_CREATE_TABLE', 'SQLITE_CREATE_TEMP_INDEX', 'SQLITE_CREATE_TEMP_TABLE', 'SQLITE_CREATE_TEMP_TRIGGER', 'SQLITE_CREATE_TEMP_VIEW', 'SQLITE_CREATE_TRIGGER', 'SQLITE_CREATE_VIEW', 'SQLITE_CREATE_VTABLE', 'SQLITE_DELETE', 'SQLITE_DENY', 'SQLITE_DETACH', 'SQLITE_DONE', 'SQLITE_DROP_INDEX', 'SQLITE_DROP_TABLE', 'SQLITE_DROP_TEMP_INDEX', 'SQLITE_DROP_TEMP_TABLE', 'SQLITE_DROP_TEMP_TRIGGER', 'SQLITE_DROP_TEMP_VIEW', 'SQLITE_DROP_TRIGGER', 'SQLITE_DROP_VIEW', 'SQLITE_DROP_VTABLE', 'SQLITE_FUNCTION', 'SQLITE_IGNORE', 'SQLITE_INSERT', 'SQLITE_OK', 'SQLITE_PRAGMA', 'SQLITE_READ', 'SQLITE_RECURSIVE', 'SQLITE_REINDEX', 'SQLITE_SAVEPOINT', 'SQLITE_SELECT', 'SQLITE_TRANSACTION', 'SQLITE_UPDATE', 'Time', 'TimeFromTicks', 'Timestamp', 'TimestampFromTicks', 'Warning', '__builtins__', '__cached__', '__doc__', '__file__', '__getattr__', '__loader__', '__name__', '__package__', '__path__', '__spec__', 'adapt', 'adapters', 'apilevel', 'collections', 'complete_statement', 'connect', 'converters', 'datetime', 'dbapi2', 'enable_callback_tracebacks', 'enable_shared_cache', 'paramstyle', 'register_adapter', 'register_converter', 'sqlite_version', 'sqlite_version_info', 'threadsafety', 'time', 'version', 'version_info']\n"
     ]
    }
   ],
   "source": [
    "print(dir(sq))"
   ]
  },
  {
   "cell_type": "markdown",
   "id": "bfbf4c7e",
   "metadata": {},
   "source": [
    "### Creating a connection \n",
    "***\n",
    "***"
   ]
  },
  {
   "cell_type": "code",
   "execution_count": 7,
   "id": "6177558e",
   "metadata": {},
   "outputs": [
    {
     "name": "stdout",
     "output_type": "stream",
     "text": [
      "Connection successfull\n"
     ]
    }
   ],
   "source": [
    "try:\n",
    "    con = sq.connect('testdb.sqlite3')\n",
    "    print('Connection successfull')\n",
    "except Exception as e:\n",
    "    print(repr(e))"
   ]
  },
  {
   "cell_type": "code",
   "execution_count": 8,
   "id": "726afa17",
   "metadata": {},
   "outputs": [
    {
     "data": {
      "text/plain": [
       "<sqlite3.Connection at 0x1fcc3858040>"
      ]
     },
     "execution_count": 8,
     "metadata": {},
     "output_type": "execute_result"
    }
   ],
   "source": [
    "con"
   ]
  },
  {
   "cell_type": "markdown",
   "id": "5424c3b8",
   "metadata": {},
   "source": [
    "To fire an sql query, we can do it from the connection object, or from an intermediate object called cursor"
   ]
  },
  {
   "cell_type": "code",
   "execution_count": 9,
   "id": "9212ac65",
   "metadata": {},
   "outputs": [
    {
     "name": "stdout",
     "output_type": "stream",
     "text": [
      "['DataError', 'DatabaseError', 'Error', 'IntegrityError', 'InterfaceError', 'InternalError', 'NotSupportedError', 'OperationalError', 'ProgrammingError', 'Warning', '__call__', '__class__', '__delattr__', '__dir__', '__doc__', '__enter__', '__eq__', '__exit__', '__format__', '__ge__', '__getattribute__', '__gt__', '__hash__', '__init__', '__init_subclass__', '__le__', '__lt__', '__module__', '__ne__', '__new__', '__reduce__', '__reduce_ex__', '__repr__', '__setattr__', '__sizeof__', '__str__', '__subclasshook__', 'backup', 'close', 'commit', 'create_aggregate', 'create_collation', 'create_function', 'cursor', 'enable_load_extension', 'execute', 'executemany', 'executescript', 'in_transaction', 'interrupt', 'isolation_level', 'iterdump', 'load_extension', 'rollback', 'row_factory', 'set_authorizer', 'set_progress_handler', 'set_trace_callback', 'text_factory', 'total_changes']\n"
     ]
    }
   ],
   "source": [
    "print(dir(con))"
   ]
  },
  {
   "cell_type": "code",
   "execution_count": 11,
   "id": "9c61ea8f",
   "metadata": {},
   "outputs": [
    {
     "data": {
      "text/plain": [
       "<function Connection.cursor>"
      ]
     },
     "execution_count": 11,
     "metadata": {},
     "output_type": "execute_result"
    }
   ],
   "source": [
    "con.cursor"
   ]
  },
  {
   "cell_type": "code",
   "execution_count": 12,
   "id": "d957fd54",
   "metadata": {},
   "outputs": [
    {
     "name": "stdout",
     "output_type": "stream",
     "text": [
      "Help on built-in function cursor:\n",
      "\n",
      "cursor(...) method of sqlite3.Connection instance\n",
      "    Return a cursor for the connection.\n",
      "\n"
     ]
    }
   ],
   "source": [
    "help(con.cursor)"
   ]
  },
  {
   "cell_type": "code",
   "execution_count": 10,
   "id": "fc21a7eb",
   "metadata": {},
   "outputs": [],
   "source": [
    "cur = con.cursor()"
   ]
  },
  {
   "cell_type": "code",
   "execution_count": 13,
   "id": "369e28e8",
   "metadata": {},
   "outputs": [
    {
     "data": {
      "text/plain": [
       "<function Cursor.execute(sql, parameters=(), /)>"
      ]
     },
     "execution_count": 13,
     "metadata": {},
     "output_type": "execute_result"
    }
   ],
   "source": [
    "cur.execute"
   ]
  },
  {
   "cell_type": "markdown",
   "id": "7e38d1b5",
   "metadata": {},
   "source": [
    "# lets create a table called user which will have two columns called user_id, and name "
   ]
  },
  {
   "cell_type": "code",
   "execution_count": 17,
   "id": "cce4c656",
   "metadata": {},
   "outputs": [
    {
     "name": "stdout",
     "output_type": "stream",
     "text": [
      "OperationalError('table USER already exists')\n"
     ]
    }
   ],
   "source": [
    "try:\n",
    "    cur.execute('create table USER(user_id int,name text)')\n",
    "except Exception as e:\n",
    "    print(repr(e))"
   ]
  },
  {
   "cell_type": "code",
   "execution_count": 18,
   "id": "4ecb448d",
   "metadata": {},
   "outputs": [
    {
     "name": "stdout",
     "output_type": "stream",
     "text": [
      "OperationalError('table STUDENT already exists')\n"
     ]
    }
   ],
   "source": [
    "try:\n",
    "    cur.execute('create table STUDENT(roll_id int,name text,age int)')\n",
    "    print('table created ')\n",
    "except Exception as e:\n",
    "    print(repr(e))"
   ]
  },
  {
   "cell_type": "markdown",
   "id": "4fd1e1b1",
   "metadata": {},
   "source": [
    "To get rid of such an error add a clause within the sql query "
   ]
  },
  {
   "cell_type": "code",
   "execution_count": 19,
   "id": "803b4120",
   "metadata": {},
   "outputs": [],
   "source": [
    "try:\n",
    "    cur.execute('create table if not exists USER(user_id int,name text)')\n",
    "except Exception as e:\n",
    "    print(repr(e))"
   ]
  },
  {
   "cell_type": "code",
   "execution_count": 21,
   "id": "80efeb28",
   "metadata": {},
   "outputs": [
    {
     "name": "stdout",
     "output_type": "stream",
     "text": [
      "data added\n"
     ]
    }
   ],
   "source": [
    "### Add some data to the table user \n",
    "\n",
    "try:\n",
    "    cur.execute('insert into USER values(?,?)',(200,'Ujjwal'))\n",
    "    print('data added')\n",
    "except Exception as e:\n",
    "    print(repr(e))"
   ]
  },
  {
   "cell_type": "code",
   "execution_count": 22,
   "id": "c5e56719",
   "metadata": {},
   "outputs": [
    {
     "name": "stdout",
     "output_type": "stream",
     "text": [
      "<class 'sqlite3.Cursor'>\n",
      "<sqlite3.Cursor object at 0x000001FCC384D640>\n",
      "(100, 'Rahul')\n",
      "(200, 'Ujjwal')\n"
     ]
    }
   ],
   "source": [
    "# Retrieve data from the table \n",
    "\n",
    "try:\n",
    "    result = cur.execute('select * from USER')\n",
    "    print(type(result))\n",
    "    print(result)\n",
    "    for record in result:\n",
    "        print(record)\n",
    "    \n",
    "except Exception as e:\n",
    "    print(repr(e))"
   ]
  },
  {
   "cell_type": "code",
   "execution_count": 23,
   "id": "b727da9b",
   "metadata": {},
   "outputs": [
    {
     "data": {
      "text/plain": [
       "<sqlite3.Connection at 0x1fcc3858040>"
      ]
     },
     "execution_count": 23,
     "metadata": {},
     "output_type": "execute_result"
    }
   ],
   "source": [
    "con"
   ]
  },
  {
   "cell_type": "code",
   "execution_count": 24,
   "id": "7ba90f2e",
   "metadata": {},
   "outputs": [
    {
     "data": {
      "text/plain": [
       "<function Connection.commit()>"
      ]
     },
     "execution_count": 24,
     "metadata": {},
     "output_type": "execute_result"
    }
   ],
   "source": [
    "con.commit"
   ]
  },
  {
   "cell_type": "code",
   "execution_count": 25,
   "id": "179d6cd3",
   "metadata": {},
   "outputs": [
    {
     "data": {
      "text/plain": [
       "'Commit the current transaction.'"
      ]
     },
     "execution_count": 25,
     "metadata": {},
     "output_type": "execute_result"
    }
   ],
   "source": [
    "con.commit.__doc__"
   ]
  },
  {
   "cell_type": "code",
   "execution_count": 26,
   "id": "913d78cb",
   "metadata": {},
   "outputs": [
    {
     "data": {
      "text/plain": [
       "<function Connection.close()>"
      ]
     },
     "execution_count": 26,
     "metadata": {},
     "output_type": "execute_result"
    }
   ],
   "source": [
    "con.close"
   ]
  },
  {
   "cell_type": "code",
   "execution_count": 28,
   "id": "9821dfad",
   "metadata": {},
   "outputs": [
    {
     "data": {
      "text/plain": [
       "'Closes the connection.'"
      ]
     },
     "execution_count": 28,
     "metadata": {},
     "output_type": "execute_result"
    }
   ],
   "source": [
    "con.close.__doc__"
   ]
  },
  {
   "cell_type": "code",
   "execution_count": 29,
   "id": "8cd7f2a0",
   "metadata": {},
   "outputs": [
    {
     "data": {
      "text/plain": [
       "(<sqlite3.Connection at 0x1fcc3858040>, <sqlite3.Cursor at 0x1fcc384d640>)"
      ]
     },
     "execution_count": 29,
     "metadata": {},
     "output_type": "execute_result"
    }
   ],
   "source": [
    "con, cur"
   ]
  },
  {
   "cell_type": "code",
   "execution_count": 30,
   "id": "057a2e6a",
   "metadata": {},
   "outputs": [
    {
     "ename": "AttributeError",
     "evalue": "'sqlite3.Connection' object has no attribute '__dict__'",
     "output_type": "error",
     "traceback": [
      "\u001b[1;31m---------------------------------------------------------------------------\u001b[0m",
      "\u001b[1;31mAttributeError\u001b[0m                            Traceback (most recent call last)",
      "Input \u001b[1;32mIn [30]\u001b[0m, in \u001b[0;36m<cell line: 1>\u001b[1;34m()\u001b[0m\n\u001b[1;32m----> 1\u001b[0m \u001b[43mcon\u001b[49m\u001b[38;5;241;43m.\u001b[39;49m\u001b[38;5;18;43m__dict__\u001b[39;49m\n",
      "\u001b[1;31mAttributeError\u001b[0m: 'sqlite3.Connection' object has no attribute '__dict__'"
     ]
    }
   ],
   "source": [
    "con.__dict__"
   ]
  },
  {
   "cell_type": "code",
   "execution_count": 31,
   "id": "f6e15a9e",
   "metadata": {},
   "outputs": [
    {
     "ename": "AttributeError",
     "evalue": "'sqlite3.Cursor' object has no attribute '__dict__'",
     "output_type": "error",
     "traceback": [
      "\u001b[1;31m---------------------------------------------------------------------------\u001b[0m",
      "\u001b[1;31mAttributeError\u001b[0m                            Traceback (most recent call last)",
      "Input \u001b[1;32mIn [31]\u001b[0m, in \u001b[0;36m<cell line: 1>\u001b[1;34m()\u001b[0m\n\u001b[1;32m----> 1\u001b[0m \u001b[43mcur\u001b[49m\u001b[38;5;241;43m.\u001b[39;49m\u001b[38;5;18;43m__dict__\u001b[39;49m\n",
      "\u001b[1;31mAttributeError\u001b[0m: 'sqlite3.Cursor' object has no attribute '__dict__'"
     ]
    }
   ],
   "source": [
    "cur.__dict__"
   ]
  },
  {
   "cell_type": "code",
   "execution_count": 32,
   "id": "12767522",
   "metadata": {},
   "outputs": [
    {
     "name": "stdout",
     "output_type": "stream",
     "text": [
      "['DataError', 'DatabaseError', 'Error', 'IntegrityError', 'InterfaceError', 'InternalError', 'NotSupportedError', 'OperationalError', 'ProgrammingError', 'Warning', '__call__', '__class__', '__delattr__', '__dir__', '__doc__', '__enter__', '__eq__', '__exit__', '__format__', '__ge__', '__getattribute__', '__gt__', '__hash__', '__init__', '__init_subclass__', '__le__', '__lt__', '__module__', '__ne__', '__new__', '__reduce__', '__reduce_ex__', '__repr__', '__setattr__', '__sizeof__', '__str__', '__subclasshook__', 'backup', 'close', 'commit', 'create_aggregate', 'create_collation', 'create_function', 'cursor', 'enable_load_extension', 'execute', 'executemany', 'executescript', 'in_transaction', 'interrupt', 'isolation_level', 'iterdump', 'load_extension', 'rollback', 'row_factory', 'set_authorizer', 'set_progress_handler', 'set_trace_callback', 'text_factory', 'total_changes']\n"
     ]
    }
   ],
   "source": [
    "print(dir(con))"
   ]
  },
  {
   "cell_type": "code",
   "execution_count": null,
   "id": "97eaba71",
   "metadata": {},
   "outputs": [],
   "source": []
  }
 ],
 "metadata": {
  "kernelspec": {
   "display_name": "Python 3 (ipykernel)",
   "language": "python",
   "name": "python3"
  },
  "language_info": {
   "codemirror_mode": {
    "name": "ipython",
    "version": 3
   },
   "file_extension": ".py",
   "mimetype": "text/x-python",
   "name": "python",
   "nbconvert_exporter": "python",
   "pygments_lexer": "ipython3",
   "version": "3.10.4"
  }
 },
 "nbformat": 4,
 "nbformat_minor": 5
}
