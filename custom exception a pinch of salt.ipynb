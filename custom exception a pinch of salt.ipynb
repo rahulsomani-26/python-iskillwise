{
 "cells": [
  {
   "cell_type": "markdown",
   "id": "842e10a2",
   "metadata": {},
   "source": [
    "# Exception"
   ]
  },
  {
   "cell_type": "code",
   "execution_count": 1,
   "id": "ffbe57ac",
   "metadata": {},
   "outputs": [
    {
     "data": {
      "text/plain": [
       "type"
      ]
     },
     "execution_count": 1,
     "metadata": {},
     "output_type": "execute_result"
    }
   ],
   "source": [
    "type(Exception)"
   ]
  },
  {
   "cell_type": "code",
   "execution_count": 2,
   "id": "e322f909",
   "metadata": {},
   "outputs": [
    {
     "name": "stdout",
     "output_type": "stream",
     "text": [
      "<class 'type'>\n"
     ]
    }
   ],
   "source": [
    "print(type(Exception))"
   ]
  },
  {
   "cell_type": "code",
   "execution_count": 3,
   "id": "8b6e879c",
   "metadata": {},
   "outputs": [
    {
     "name": "stdout",
     "output_type": "stream",
     "text": [
      "Help on class Exception in module builtins:\n",
      "\n",
      "class Exception(BaseException)\n",
      " |  Common base class for all non-exit exceptions.\n",
      " |  \n",
      " |  Method resolution order:\n",
      " |      Exception\n",
      " |      BaseException\n",
      " |      object\n",
      " |  \n",
      " |  Built-in subclasses:\n",
      " |      ArithmeticError\n",
      " |      AssertionError\n",
      " |      AttributeError\n",
      " |      BufferError\n",
      " |      ... and 15 other subclasses\n",
      " |  \n",
      " |  Methods defined here:\n",
      " |  \n",
      " |  __init__(self, /, *args, **kwargs)\n",
      " |      Initialize self.  See help(type(self)) for accurate signature.\n",
      " |  \n",
      " |  ----------------------------------------------------------------------\n",
      " |  Static methods defined here:\n",
      " |  \n",
      " |  __new__(*args, **kwargs) from builtins.type\n",
      " |      Create and return a new object.  See help(type) for accurate signature.\n",
      " |  \n",
      " |  ----------------------------------------------------------------------\n",
      " |  Methods inherited from BaseException:\n",
      " |  \n",
      " |  __delattr__(self, name, /)\n",
      " |      Implement delattr(self, name).\n",
      " |  \n",
      " |  __getattribute__(self, name, /)\n",
      " |      Return getattr(self, name).\n",
      " |  \n",
      " |  __reduce__(...)\n",
      " |      Helper for pickle.\n",
      " |  \n",
      " |  __repr__(self, /)\n",
      " |      Return repr(self).\n",
      " |  \n",
      " |  __setattr__(self, name, value, /)\n",
      " |      Implement setattr(self, name, value).\n",
      " |  \n",
      " |  __setstate__(...)\n",
      " |  \n",
      " |  __str__(self, /)\n",
      " |      Return str(self).\n",
      " |  \n",
      " |  with_traceback(...)\n",
      " |      Exception.with_traceback(tb) --\n",
      " |      set self.__traceback__ to tb and return self.\n",
      " |  \n",
      " |  ----------------------------------------------------------------------\n",
      " |  Data descriptors inherited from BaseException:\n",
      " |  \n",
      " |  __cause__\n",
      " |      exception cause\n",
      " |  \n",
      " |  __context__\n",
      " |      exception context\n",
      " |  \n",
      " |  __dict__\n",
      " |  \n",
      " |  __suppress_context__\n",
      " |  \n",
      " |  __traceback__\n",
      " |  \n",
      " |  args\n",
      "\n"
     ]
    }
   ],
   "source": [
    "help(Exception)"
   ]
  },
  {
   "cell_type": "code",
   "execution_count": 4,
   "id": "7dbdda55",
   "metadata": {},
   "outputs": [
    {
     "data": {
      "text/plain": [
       "<function issubclass(cls, class_or_tuple, /)>"
      ]
     },
     "execution_count": 4,
     "metadata": {},
     "output_type": "execute_result"
    }
   ],
   "source": [
    "issubclass"
   ]
  },
  {
   "cell_type": "code",
   "execution_count": 5,
   "id": "0b2c3a7e",
   "metadata": {},
   "outputs": [
    {
     "data": {
      "text/plain": [
       "True"
      ]
     },
     "execution_count": 5,
     "metadata": {},
     "output_type": "execute_result"
    }
   ],
   "source": [
    "issubclass(Exception,BaseException)"
   ]
  },
  {
   "cell_type": "code",
   "execution_count": 6,
   "id": "bb88fba4",
   "metadata": {},
   "outputs": [
    {
     "data": {
      "text/plain": [
       "False"
      ]
     },
     "execution_count": 6,
     "metadata": {},
     "output_type": "execute_result"
    }
   ],
   "source": [
    "issubclass(BaseException,Exception)"
   ]
  },
  {
   "cell_type": "code",
   "execution_count": 8,
   "id": "0029fa32",
   "metadata": {},
   "outputs": [
    {
     "name": "stdout",
     "output_type": "stream",
     "text": [
      "['__cause__', '__class__', '__context__', '__delattr__', '__dict__', '__dir__', '__doc__', '__eq__', '__format__', '__ge__', '__getattribute__', '__gt__', '__hash__', '__init__', '__init_subclass__', '__le__', '__lt__', '__ne__', '__new__', '__reduce__', '__reduce_ex__', '__repr__', '__setattr__', '__setstate__', '__sizeof__', '__str__', '__subclasshook__', '__suppress_context__', '__traceback__', 'args', 'with_traceback']\n"
     ]
    }
   ],
   "source": [
    "print(dir(Exception))"
   ]
  },
  {
   "cell_type": "markdown",
   "id": "9cbc14c7",
   "metadata": {},
   "source": [
    "` try:\n",
    "    code which you think might raise an exception \n",
    "  except Exception as e:\n",
    "    print(e,repr(e))\n",
    "  finally:\n",
    "    code to free up resources or any thing you might feel will be usefull \n",
    "`"
   ]
  },
  {
   "cell_type": "code",
   "execution_count": 9,
   "id": "af8bdb9a",
   "metadata": {},
   "outputs": [
    {
     "name": "stdout",
     "output_type": "stream",
     "text": [
      "First Line\n",
      "Second Line\n",
      "An Exception occured and we have silenced it \n",
      "In the finally section \n",
      "*****************************************End of the program*****************************************\n"
     ]
    }
   ],
   "source": [
    "try:\n",
    "    print(\"First Line\")\n",
    "    print('Second Line')\n",
    "    print(1/0)\n",
    "    print('Finished')\n",
    "except Exception as e:\n",
    "    print(\"An Exception occured and we have silenced it \")\n",
    "finally:\n",
    "    print(\"In the finally section \")\n",
    "print(\"End of the program\".center(100,'*'))"
   ]
  },
  {
   "cell_type": "code",
   "execution_count": 10,
   "id": "dbb817e4",
   "metadata": {},
   "outputs": [
    {
     "name": "stdout",
     "output_type": "stream",
     "text": [
      "First Line\n",
      "Second Line\n",
      "division by zero\n",
      "In the finally section \n",
      "*****************************************End of the program*****************************************\n"
     ]
    }
   ],
   "source": [
    "try:\n",
    "    print(\"First Line\")\n",
    "    print('Second Line')\n",
    "    print(1/0)\n",
    "    print('Finished')\n",
    "except Exception as e:\n",
    "    print(e)\n",
    "finally:\n",
    "    print(\"In the finally section \")\n",
    "print(\"End of the program\".center(100,'*'))"
   ]
  },
  {
   "cell_type": "code",
   "execution_count": 11,
   "id": "487569ae",
   "metadata": {},
   "outputs": [
    {
     "name": "stdout",
     "output_type": "stream",
     "text": [
      "First Line\n",
      "Second Line\n",
      "ZeroDivisionError('division by zero')\n",
      "In the finally section \n",
      "*****************************************End of the program*****************************************\n"
     ]
    }
   ],
   "source": [
    "try:\n",
    "    print(\"First Line\")\n",
    "    print('Second Line')\n",
    "    print(1/0)\n",
    "    print('Finished')\n",
    "except Exception as e:\n",
    "    print(repr(e))\n",
    "finally:\n",
    "    print(\"In the finally section \")\n",
    "print(\"End of the program\".center(100,'*'))"
   ]
  },
  {
   "cell_type": "code",
   "execution_count": 12,
   "id": "a91f51ab",
   "metadata": {},
   "outputs": [
    {
     "name": "stdout",
     "output_type": "stream",
     "text": [
      "First Line\n",
      "Second Line\n",
      "ZeroDivisionError('division by zero')\n",
      "In the finally section \n",
      "*****************************************End of the program*****************************************\n"
     ]
    }
   ],
   "source": [
    "try:\n",
    "    print(\"First Line\")\n",
    "    print('Second Line')\n",
    "    print(1/0)\n",
    "    print('Finished')\n",
    "except BaseException as e:\n",
    "    print(repr(e))\n",
    "finally:\n",
    "    print(\"In the finally section \")\n",
    "print(\"End of the program\".center(100,'*'))"
   ]
  },
  {
   "cell_type": "code",
   "execution_count": 13,
   "id": "620f0809",
   "metadata": {},
   "outputs": [
    {
     "name": "stdout",
     "output_type": "stream",
     "text": [
      "First Line\n",
      "Second Line\n",
      "ZeroDivisionError('division by zero')\n",
      "In the finally section \n",
      "*****************************************End of the program*****************************************\n"
     ]
    }
   ],
   "source": [
    "try:\n",
    "    print(\"First Line\")\n",
    "    print('Second Line')\n",
    "    print(1/0)\n",
    "    print('Finished')\n",
    "except ZeroDivisionError as e:\n",
    "    print(repr(e))\n",
    "finally:\n",
    "    print(\"In the finally section \")\n",
    "print(\"End of the program\".center(100,'*'))"
   ]
  },
  {
   "cell_type": "code",
   "execution_count": 14,
   "id": "8b571cd3",
   "metadata": {},
   "outputs": [
    {
     "name": "stdout",
     "output_type": "stream",
     "text": [
      "First Line\n",
      "Second Line\n",
      "NameError(\"name 'name' is not defined\")\n",
      "In the finally section \n",
      "*****************************************End of the program*****************************************\n"
     ]
    }
   ],
   "source": [
    "try:\n",
    "    print(\"First Line\")\n",
    "    print('Second Line')\n",
    "    print(name)\n",
    "    print('Finished')\n",
    "except BaseException as e:\n",
    "    print(repr(e))\n",
    "finally:\n",
    "    print(\"In the finally section \")\n",
    "print(\"End of the program\".center(100,'*'))"
   ]
  },
  {
   "cell_type": "code",
   "execution_count": 15,
   "id": "de3d6c3a",
   "metadata": {},
   "outputs": [
    {
     "name": "stdout",
     "output_type": "stream",
     "text": [
      "First Line\n",
      "Second Line\n",
      "In the finally section \n"
     ]
    },
    {
     "ename": "NameError",
     "evalue": "name 'name' is not defined",
     "output_type": "error",
     "traceback": [
      "\u001b[1;31m---------------------------------------------------------------------------\u001b[0m",
      "\u001b[1;31mNameError\u001b[0m                                 Traceback (most recent call last)",
      "Input \u001b[1;32mIn [15]\u001b[0m, in \u001b[0;36m<cell line: 1>\u001b[1;34m()\u001b[0m\n\u001b[0;32m      2\u001b[0m     \u001b[38;5;28mprint\u001b[39m(\u001b[38;5;124m\"\u001b[39m\u001b[38;5;124mFirst Line\u001b[39m\u001b[38;5;124m\"\u001b[39m)\n\u001b[0;32m      3\u001b[0m     \u001b[38;5;28mprint\u001b[39m(\u001b[38;5;124m'\u001b[39m\u001b[38;5;124mSecond Line\u001b[39m\u001b[38;5;124m'\u001b[39m)\n\u001b[1;32m----> 4\u001b[0m     \u001b[38;5;28mprint\u001b[39m(\u001b[43mname\u001b[49m)\n\u001b[0;32m      5\u001b[0m     \u001b[38;5;28mprint\u001b[39m(\u001b[38;5;124m'\u001b[39m\u001b[38;5;124mFinished\u001b[39m\u001b[38;5;124m'\u001b[39m)\n\u001b[0;32m      6\u001b[0m \u001b[38;5;28;01mexcept\u001b[39;00m \u001b[38;5;167;01mZeroDivisionError\u001b[39;00m \u001b[38;5;28;01mas\u001b[39;00m e:\n",
      "\u001b[1;31mNameError\u001b[0m: name 'name' is not defined"
     ]
    }
   ],
   "source": [
    "try:\n",
    "    print(\"First Line\")\n",
    "    print('Second Line')\n",
    "    print(name)\n",
    "    print('Finished')\n",
    "except ZeroDivisionError as e:\n",
    "    print(repr(e))\n",
    "finally:\n",
    "    print(\"In the finally section \")\n",
    "print(\"End of the program\".center(100,'*'))"
   ]
  },
  {
   "cell_type": "code",
   "execution_count": 17,
   "id": "9f96cc18",
   "metadata": {},
   "outputs": [
    {
     "name": "stdout",
     "output_type": "stream",
     "text": [
      "0\t1\t2\t3\t4\t5\t6\t7\t8\t9\tThe value of i = 9\n"
     ]
    }
   ],
   "source": [
    "for i in range(10):\n",
    "    print(i,end='\\t')\n",
    "else:\n",
    "    print(f'The value of i = {i}')"
   ]
  },
  {
   "cell_type": "code",
   "execution_count": 19,
   "id": "f5c3b793",
   "metadata": {},
   "outputs": [
    {
     "name": "stdout",
     "output_type": "stream",
     "text": [
      "0\t1\t2\t3\t4\t5\t6\t7\t8\t9\tIn the else clause with the value of i to be 10\n"
     ]
    }
   ],
   "source": [
    "i = 0\n",
    "while i < 10 :\n",
    "    print(i,end='\\t')\n",
    "    i+=1\n",
    "else:\n",
    "    print(f'In the else clause with the value of i to be {i}')"
   ]
  },
  {
   "cell_type": "code",
   "execution_count": 20,
   "id": "d8fbe014",
   "metadata": {},
   "outputs": [
    {
     "data": {
      "text/plain": [
       "mappingproxy({'__new__': <function Exception.__new__(*args, **kwargs)>,\n",
       "              '__init__': <slot wrapper '__init__' of 'Exception' objects>,\n",
       "              '__doc__': 'Common base class for all non-exit exceptions.'})"
      ]
     },
     "execution_count": 20,
     "metadata": {},
     "output_type": "execute_result"
    }
   ],
   "source": [
    "Exception.__dict__"
   ]
  },
  {
   "cell_type": "code",
   "execution_count": 21,
   "id": "c97ce356",
   "metadata": {},
   "outputs": [
    {
     "name": "stdout",
     "output_type": "stream",
     "text": [
      "['__cause__', '__class__', '__context__', '__delattr__', '__dict__', '__dir__', '__doc__', '__eq__', '__format__', '__ge__', '__getattribute__', '__gt__', '__hash__', '__init__', '__init_subclass__', '__le__', '__lt__', '__ne__', '__new__', '__reduce__', '__reduce_ex__', '__repr__', '__setattr__', '__setstate__', '__sizeof__', '__str__', '__subclasshook__', '__suppress_context__', '__traceback__', 'args', 'with_traceback']\n"
     ]
    }
   ],
   "source": [
    "print(dir(Exception))"
   ]
  },
  {
   "cell_type": "markdown",
   "id": "4eb742ce",
   "metadata": {},
   "source": [
    "# Lets create our own custom Exception "
   ]
  },
  {
   "cell_type": "code",
   "execution_count": 22,
   "id": "bd989f36",
   "metadata": {},
   "outputs": [],
   "source": [
    "my_exception = Exception('My Custom exception')\n"
   ]
  },
  {
   "cell_type": "code",
   "execution_count": 23,
   "id": "362d10e3",
   "metadata": {},
   "outputs": [
    {
     "data": {
      "text/plain": [
       "Exception('My Custom exception')"
      ]
     },
     "execution_count": 23,
     "metadata": {},
     "output_type": "execute_result"
    }
   ],
   "source": [
    "my_exception"
   ]
  },
  {
   "cell_type": "code",
   "execution_count": 24,
   "id": "7a7c5c78",
   "metadata": {},
   "outputs": [],
   "source": [
    "i = IndexError(\"Hello Exception\")\n"
   ]
  },
  {
   "cell_type": "code",
   "execution_count": 25,
   "id": "1446583c",
   "metadata": {},
   "outputs": [
    {
     "data": {
      "text/plain": [
       "IndexError('Hello Exception')"
      ]
     },
     "execution_count": 25,
     "metadata": {},
     "output_type": "execute_result"
    }
   ],
   "source": [
    "i"
   ]
  },
  {
   "cell_type": "code",
   "execution_count": 26,
   "id": "29119c45",
   "metadata": {},
   "outputs": [
    {
     "ename": "TypeError",
     "evalue": "catching classes that do not inherit from BaseException is not allowed",
     "output_type": "error",
     "traceback": [
      "\u001b[1;31m---------------------------------------------------------------------------\u001b[0m",
      "\u001b[1;31mIndexError\u001b[0m                                Traceback (most recent call last)",
      "Input \u001b[1;32mIn [26]\u001b[0m, in \u001b[0;36m<cell line: 1>\u001b[1;34m()\u001b[0m\n\u001b[0;32m      1\u001b[0m \u001b[38;5;28;01mtry\u001b[39;00m:\n\u001b[1;32m----> 2\u001b[0m     \u001b[43m[\u001b[49m\u001b[38;5;241;43m1\u001b[39;49m\u001b[43m,\u001b[49m\u001b[38;5;241;43m2\u001b[39;49m\u001b[43m,\u001b[49m\u001b[38;5;241;43m3\u001b[39;49m\u001b[43m,\u001b[49m\u001b[38;5;241;43m4\u001b[39;49m\u001b[43m]\u001b[49m\u001b[43m[\u001b[49m\u001b[38;5;241;43m10\u001b[39;49m\u001b[43m]\u001b[49m\n\u001b[0;32m      3\u001b[0m \u001b[38;5;28;01mexcept\u001b[39;00m i:\n",
      "\u001b[1;31mIndexError\u001b[0m: list index out of range",
      "\nDuring handling of the above exception, another exception occurred:\n",
      "\u001b[1;31mTypeError\u001b[0m                                 Traceback (most recent call last)",
      "Input \u001b[1;32mIn [26]\u001b[0m, in \u001b[0;36m<cell line: 1>\u001b[1;34m()\u001b[0m\n\u001b[0;32m      1\u001b[0m \u001b[38;5;28;01mtry\u001b[39;00m:\n\u001b[0;32m      2\u001b[0m     [\u001b[38;5;241m1\u001b[39m,\u001b[38;5;241m2\u001b[39m,\u001b[38;5;241m3\u001b[39m,\u001b[38;5;241m4\u001b[39m][\u001b[38;5;241m10\u001b[39m]\n\u001b[1;32m----> 3\u001b[0m \u001b[38;5;28;01mexcept\u001b[39;00m i:\n\u001b[0;32m      4\u001b[0m     \u001b[38;5;28mprint\u001b[39m(\u001b[38;5;124m'\u001b[39m\u001b[38;5;124mCaught\u001b[39m\u001b[38;5;124m'\u001b[39m)\n",
      "\u001b[1;31mTypeError\u001b[0m: catching classes that do not inherit from BaseException is not allowed"
     ]
    }
   ],
   "source": [
    "try:\n",
    "    [1,2,3,4][10]\n",
    "except i:\n",
    "    print('Caught')\n"
   ]
  },
  {
   "cell_type": "markdown",
   "id": "e8add89f",
   "metadata": {},
   "source": [
    "write a program, that will try to access a list and catch that exception. \n"
   ]
  },
  {
   "cell_type": "markdown",
   "id": "a128726c",
   "metadata": {},
   "source": [
    "write nested functions and make use of exception handling \n"
   ]
  },
  {
   "cell_type": "code",
   "execution_count": 27,
   "id": "15ab80a3",
   "metadata": {},
   "outputs": [
    {
     "ename": "RuntimeError",
     "evalue": "No active exception to reraise",
     "output_type": "error",
     "traceback": [
      "\u001b[1;31m---------------------------------------------------------------------------\u001b[0m",
      "\u001b[1;31mRuntimeError\u001b[0m                              Traceback (most recent call last)",
      "Input \u001b[1;32mIn [27]\u001b[0m, in \u001b[0;36m<cell line: 1>\u001b[1;34m()\u001b[0m\n\u001b[1;32m----> 1\u001b[0m \u001b[38;5;28;01mraise\u001b[39;00m\n",
      "\u001b[1;31mRuntimeError\u001b[0m: No active exception to reraise"
     ]
    }
   ],
   "source": [
    "raise "
   ]
  },
  {
   "cell_type": "code",
   "execution_count": 28,
   "id": "c6c45509",
   "metadata": {},
   "outputs": [
    {
     "ename": "IndexError",
     "evalue": "Error",
     "output_type": "error",
     "traceback": [
      "\u001b[1;31m---------------------------------------------------------------------------\u001b[0m",
      "\u001b[1;31mIndexError\u001b[0m                                Traceback (most recent call last)",
      "Input \u001b[1;32mIn [28]\u001b[0m, in \u001b[0;36m<cell line: 1>\u001b[1;34m()\u001b[0m\n\u001b[1;32m----> 1\u001b[0m \u001b[38;5;28;01mraise\u001b[39;00m \u001b[38;5;167;01mIndexError\u001b[39;00m(\u001b[38;5;124m'\u001b[39m\u001b[38;5;124mError\u001b[39m\u001b[38;5;124m'\u001b[39m)\n",
      "\u001b[1;31mIndexError\u001b[0m: Error"
     ]
    }
   ],
   "source": [
    "raise IndexError('Error')"
   ]
  },
  {
   "cell_type": "code",
   "execution_count": 29,
   "id": "719b0ee5",
   "metadata": {},
   "outputs": [],
   "source": [
    "def f1():\n",
    "    pass \n",
    "    f2()\n",
    "def f2():\n",
    "    pass\n",
    "    f3()\n",
    "    \n",
    "def f3():\n",
    "    raise IndexError(\"my error\")\n",
    "    \n",
    "\n"
   ]
  },
  {
   "cell_type": "code",
   "execution_count": 31,
   "id": "05bab05d",
   "metadata": {},
   "outputs": [
    {
     "name": "stdout",
     "output_type": "stream",
     "text": [
      "a\n",
      "An exception has occured and we have handled it\n",
      "In the finally block\n",
      "*******************************************End of program*******************************************\n"
     ]
    }
   ],
   "source": [
    "try:\n",
    "    def outer():\n",
    "        print('a')\n",
    "        def inner():\n",
    "            print(name)\n",
    "        inner()\n",
    "    outer()\n",
    "except Exception as e:\n",
    "    print('An exception has occured and we have handled it')\n",
    "finally:\n",
    "    print('In the finally block')\n",
    "    \n",
    "    print('End of program'.center(100,'*'))"
   ]
  },
  {
   "cell_type": "code",
   "execution_count": 36,
   "id": "391a973a",
   "metadata": {},
   "outputs": [],
   "source": [
    "# without handling the exception \n",
    "def f1():\n",
    "    print(\"Within  {}\".format(f1.__name__))\n",
    "    f2()\n",
    "def f2():\n",
    "    print(\"Within  {}\".format(f2.__name__))\n",
    "    f3()\n",
    "    \n",
    "def f3():\n",
    "    raise IndexError(\"my error\")\n",
    "    "
   ]
  },
  {
   "cell_type": "code",
   "execution_count": 37,
   "id": "214ffac2",
   "metadata": {},
   "outputs": [
    {
     "name": "stdout",
     "output_type": "stream",
     "text": [
      "Within  f1\n",
      "Within  f2\n"
     ]
    },
    {
     "ename": "IndexError",
     "evalue": "my error",
     "output_type": "error",
     "traceback": [
      "\u001b[1;31m---------------------------------------------------------------------------\u001b[0m",
      "\u001b[1;31mIndexError\u001b[0m                                Traceback (most recent call last)",
      "Input \u001b[1;32mIn [37]\u001b[0m, in \u001b[0;36m<cell line: 1>\u001b[1;34m()\u001b[0m\n\u001b[1;32m----> 1\u001b[0m \u001b[43mf1\u001b[49m\u001b[43m(\u001b[49m\u001b[43m)\u001b[49m\n",
      "Input \u001b[1;32mIn [36]\u001b[0m, in \u001b[0;36mf1\u001b[1;34m()\u001b[0m\n\u001b[0;32m      2\u001b[0m \u001b[38;5;28;01mdef\u001b[39;00m \u001b[38;5;21mf1\u001b[39m():\n\u001b[0;32m      3\u001b[0m     \u001b[38;5;28mprint\u001b[39m(\u001b[38;5;124m\"\u001b[39m\u001b[38;5;124mWithin  \u001b[39m\u001b[38;5;132;01m{}\u001b[39;00m\u001b[38;5;124m\"\u001b[39m\u001b[38;5;241m.\u001b[39mformat(f1\u001b[38;5;241m.\u001b[39m\u001b[38;5;18m__name__\u001b[39m))\n\u001b[1;32m----> 4\u001b[0m     \u001b[43mf2\u001b[49m\u001b[43m(\u001b[49m\u001b[43m)\u001b[49m\n",
      "Input \u001b[1;32mIn [36]\u001b[0m, in \u001b[0;36mf2\u001b[1;34m()\u001b[0m\n\u001b[0;32m      5\u001b[0m \u001b[38;5;28;01mdef\u001b[39;00m \u001b[38;5;21mf2\u001b[39m():\n\u001b[0;32m      6\u001b[0m     \u001b[38;5;28mprint\u001b[39m(\u001b[38;5;124m\"\u001b[39m\u001b[38;5;124mWithin  \u001b[39m\u001b[38;5;132;01m{}\u001b[39;00m\u001b[38;5;124m\"\u001b[39m\u001b[38;5;241m.\u001b[39mformat(f2\u001b[38;5;241m.\u001b[39m\u001b[38;5;18m__name__\u001b[39m))\n\u001b[1;32m----> 7\u001b[0m     \u001b[43mf3\u001b[49m\u001b[43m(\u001b[49m\u001b[43m)\u001b[49m\n",
      "Input \u001b[1;32mIn [36]\u001b[0m, in \u001b[0;36mf3\u001b[1;34m()\u001b[0m\n\u001b[0;32m      9\u001b[0m \u001b[38;5;28;01mdef\u001b[39;00m \u001b[38;5;21mf3\u001b[39m():\n\u001b[1;32m---> 10\u001b[0m     \u001b[38;5;28;01mraise\u001b[39;00m \u001b[38;5;167;01mIndexError\u001b[39;00m(\u001b[38;5;124m\"\u001b[39m\u001b[38;5;124mmy error\u001b[39m\u001b[38;5;124m\"\u001b[39m)\n",
      "\u001b[1;31mIndexError\u001b[0m: my error"
     ]
    }
   ],
   "source": [
    "f1()"
   ]
  },
  {
   "cell_type": "code",
   "execution_count": 38,
   "id": "d544cb83",
   "metadata": {},
   "outputs": [],
   "source": [
    "# without handling the exception \n",
    "def f1():\n",
    "    print(\"Within  {}\".format(f1.__name__))\n",
    "    f2()\n",
    "def f2():\n",
    "    print(\"Within  {}\".format(f2.__name__))\n",
    "    try:\n",
    "        f3()\n",
    "    except Exception as e :\n",
    "        print(repr(e))\n",
    "        print(\"Exception handled in {}\".format(f3.__name__))\n",
    "def f3():\n",
    "    raise IndexError(\"my error\")\n",
    "    "
   ]
  },
  {
   "cell_type": "code",
   "execution_count": 39,
   "id": "37fb9809",
   "metadata": {},
   "outputs": [
    {
     "name": "stdout",
     "output_type": "stream",
     "text": [
      "Within  f1\n",
      "Within  f2\n",
      "IndexError('my error')\n",
      "Exception handled in f3\n"
     ]
    }
   ],
   "source": [
    "f1()"
   ]
  },
  {
   "cell_type": "code",
   "execution_count": 44,
   "id": "5e2fc941",
   "metadata": {},
   "outputs": [],
   "source": [
    "# without handling the exception \n",
    "def f1():\n",
    "    print(\"Within  {}\".format(f1.__name__))\n",
    "    try:\n",
    "        f2()\n",
    "    except Exception as e :\n",
    "        print(repr(e))\n",
    "        print(\"Exception caught in {}\".format(f1.__name__))\n",
    "def f2():\n",
    "    print(\"Within  {}\".format(f2.__name__))\n",
    "    f3()\n",
    "def f3():\n",
    "    raise IndexError(\"my error\")"
   ]
  },
  {
   "cell_type": "code",
   "execution_count": 45,
   "id": "fc4e2572",
   "metadata": {},
   "outputs": [
    {
     "name": "stdout",
     "output_type": "stream",
     "text": [
      "Within  f1\n",
      "Within  f2\n",
      "IndexError('my error')\n",
      "Exception caught in f1\n"
     ]
    }
   ],
   "source": [
    "f1()"
   ]
  },
  {
   "cell_type": "code",
   "execution_count": 46,
   "id": "dd73eb7c",
   "metadata": {},
   "outputs": [],
   "source": [
    "# without handling the exception \n",
    "def f1():\n",
    "    print(\"Within  {}\".format(f1.__name__))\n",
    "    try:\n",
    "        f2()\n",
    "    except Exception as e :\n",
    "        print(repr(e))\n",
    "        print(\"Exception caught in {}\".format(f1.__name__))\n",
    "def f2():\n",
    "    print(\"Within  {}\".format(f2.__name__))\n",
    "    raise NameError(\"Name error\")\n",
    "    f3()\n",
    "def f3():\n",
    "    raise IndexError(\"my error\")"
   ]
  },
  {
   "cell_type": "code",
   "execution_count": 47,
   "id": "2176916b",
   "metadata": {},
   "outputs": [
    {
     "name": "stdout",
     "output_type": "stream",
     "text": [
      "Within  f1\n",
      "Within  f2\n",
      "NameError('Name error')\n",
      "Exception caught in f1\n"
     ]
    }
   ],
   "source": [
    "f1()"
   ]
  },
  {
   "cell_type": "code",
   "execution_count": 50,
   "id": "2715a7f5",
   "metadata": {},
   "outputs": [],
   "source": [
    "# without handling the exception \n",
    "def f1():\n",
    "    print(\"Within  {}\".format(f1.__name__))\n",
    "    try:\n",
    "        f2()\n",
    "    except Exception as e :\n",
    "        print(repr(e))\n",
    "        print(\"Exception caught in {}\".format(f1.__name__))\n",
    "def f2():\n",
    "    print(\"Within  {}\".format(f2.__name__))\n",
    "    f3()\n",
    "    raise NameError(\"Name error\")\n",
    "   \n",
    "def f3():\n",
    "    print('Reacehed f3')\n",
    "    raise IndexError(\"my error\")"
   ]
  },
  {
   "cell_type": "code",
   "execution_count": 51,
   "id": "4a3e1a08",
   "metadata": {},
   "outputs": [
    {
     "name": "stdout",
     "output_type": "stream",
     "text": [
      "Within  f1\n",
      "Within  f2\n",
      "Reacehed f3\n",
      "IndexError('my error')\n",
      "Exception caught in f1\n"
     ]
    }
   ],
   "source": [
    "f1()"
   ]
  },
  {
   "cell_type": "code",
   "execution_count": 52,
   "id": "1e9cef2c",
   "metadata": {},
   "outputs": [],
   "source": [
    "# without handling the exception \n",
    "def f1():\n",
    "    print(\"Within  {}\".format(f1.__name__))\n",
    "    try:\n",
    "        f2()\n",
    "    except NameError as e :\n",
    "        print(repr(e))\n",
    "        print(\"Exception caught in {}\".format(f1.__name__))\n",
    "def f2():\n",
    "    print(\"Within  {}\".format(f2.__name__))\n",
    "    f3()\n",
    "    raise NameError(\"Name error\")\n",
    "   \n",
    "def f3():\n",
    "    print('Reacehed f3')\n",
    "    raise IndexError(\"my error\")"
   ]
  },
  {
   "cell_type": "code",
   "execution_count": 53,
   "id": "a6be1371",
   "metadata": {},
   "outputs": [
    {
     "name": "stdout",
     "output_type": "stream",
     "text": [
      "Within  f1\n",
      "Within  f2\n",
      "Reacehed f3\n"
     ]
    },
    {
     "ename": "IndexError",
     "evalue": "my error",
     "output_type": "error",
     "traceback": [
      "\u001b[1;31m---------------------------------------------------------------------------\u001b[0m",
      "\u001b[1;31mIndexError\u001b[0m                                Traceback (most recent call last)",
      "Input \u001b[1;32mIn [53]\u001b[0m, in \u001b[0;36m<cell line: 1>\u001b[1;34m()\u001b[0m\n\u001b[1;32m----> 1\u001b[0m \u001b[43mf1\u001b[49m\u001b[43m(\u001b[49m\u001b[43m)\u001b[49m\n",
      "Input \u001b[1;32mIn [52]\u001b[0m, in \u001b[0;36mf1\u001b[1;34m()\u001b[0m\n\u001b[0;32m      3\u001b[0m \u001b[38;5;28mprint\u001b[39m(\u001b[38;5;124m\"\u001b[39m\u001b[38;5;124mWithin  \u001b[39m\u001b[38;5;132;01m{}\u001b[39;00m\u001b[38;5;124m\"\u001b[39m\u001b[38;5;241m.\u001b[39mformat(f1\u001b[38;5;241m.\u001b[39m\u001b[38;5;18m__name__\u001b[39m))\n\u001b[0;32m      4\u001b[0m \u001b[38;5;28;01mtry\u001b[39;00m:\n\u001b[1;32m----> 5\u001b[0m     \u001b[43mf2\u001b[49m\u001b[43m(\u001b[49m\u001b[43m)\u001b[49m\n\u001b[0;32m      6\u001b[0m \u001b[38;5;28;01mexcept\u001b[39;00m \u001b[38;5;167;01mNameError\u001b[39;00m \u001b[38;5;28;01mas\u001b[39;00m e :\n\u001b[0;32m      7\u001b[0m     \u001b[38;5;28mprint\u001b[39m(\u001b[38;5;28mrepr\u001b[39m(e))\n",
      "Input \u001b[1;32mIn [52]\u001b[0m, in \u001b[0;36mf2\u001b[1;34m()\u001b[0m\n\u001b[0;32m      9\u001b[0m \u001b[38;5;28;01mdef\u001b[39;00m \u001b[38;5;21mf2\u001b[39m():\n\u001b[0;32m     10\u001b[0m     \u001b[38;5;28mprint\u001b[39m(\u001b[38;5;124m\"\u001b[39m\u001b[38;5;124mWithin  \u001b[39m\u001b[38;5;132;01m{}\u001b[39;00m\u001b[38;5;124m\"\u001b[39m\u001b[38;5;241m.\u001b[39mformat(f2\u001b[38;5;241m.\u001b[39m\u001b[38;5;18m__name__\u001b[39m))\n\u001b[1;32m---> 11\u001b[0m     \u001b[43mf3\u001b[49m\u001b[43m(\u001b[49m\u001b[43m)\u001b[49m\n\u001b[0;32m     12\u001b[0m     \u001b[38;5;28;01mraise\u001b[39;00m \u001b[38;5;167;01mNameError\u001b[39;00m(\u001b[38;5;124m\"\u001b[39m\u001b[38;5;124mName error\u001b[39m\u001b[38;5;124m\"\u001b[39m)\n",
      "Input \u001b[1;32mIn [52]\u001b[0m, in \u001b[0;36mf3\u001b[1;34m()\u001b[0m\n\u001b[0;32m     14\u001b[0m \u001b[38;5;28;01mdef\u001b[39;00m \u001b[38;5;21mf3\u001b[39m():\n\u001b[0;32m     15\u001b[0m     \u001b[38;5;28mprint\u001b[39m(\u001b[38;5;124m'\u001b[39m\u001b[38;5;124mReacehed f3\u001b[39m\u001b[38;5;124m'\u001b[39m)\n\u001b[1;32m---> 16\u001b[0m     \u001b[38;5;28;01mraise\u001b[39;00m \u001b[38;5;167;01mIndexError\u001b[39;00m(\u001b[38;5;124m\"\u001b[39m\u001b[38;5;124mmy error\u001b[39m\u001b[38;5;124m\"\u001b[39m)\n",
      "\u001b[1;31mIndexError\u001b[0m: my error"
     ]
    }
   ],
   "source": [
    "f1()"
   ]
  },
  {
   "cell_type": "code",
   "execution_count": 60,
   "id": "a800e765",
   "metadata": {},
   "outputs": [],
   "source": [
    "# without handling the exception \n",
    "def f1():\n",
    "    try:\n",
    "        f2()\n",
    "    except NameError as e:\n",
    "        print('caught nameerror')\n",
    "        \n",
    "def f2():\n",
    "    print(\"Within f2\")\n",
    "    \n",
    "    try:\n",
    "        print(\"Index error caught\")\n",
    "    except IndexError as e:\n",
    "        print(repr(e))\n",
    "    raise NameError\n",
    "    f3()\n",
    " \n",
    "    \n",
    "def f3():\n",
    "    print(\"within f3\")\n",
    "    raise IndexError \n",
    "    \n",
    "    "
   ]
  },
  {
   "cell_type": "code",
   "execution_count": 62,
   "id": "fd1419d4",
   "metadata": {},
   "outputs": [
    {
     "name": "stdout",
     "output_type": "stream",
     "text": [
      "Within f2\n",
      "Index error caught\n",
      "caught nameerror\n"
     ]
    }
   ],
   "source": [
    "f1()"
   ]
  },
  {
   "cell_type": "code",
   "execution_count": 65,
   "id": "7d061077",
   "metadata": {},
   "outputs": [],
   "source": [
    "def f1():\n",
    "    print(\"Within  {}\".format(f1.__name__))\n",
    "    try:\n",
    "        f2()\n",
    "    except NameError as e:\n",
    "        print('caught',repr(e))\n",
    "def f2():\n",
    "    print(\"Within  {}\".format(f2.__name__))\n",
    "    try:\n",
    "        f3()\n",
    "    except IndexError as e:\n",
    "        print('caught',repr(e))\n",
    "    raise NameError \n",
    "    \n",
    "def f3():\n",
    "    raise IndexError(\"my error\")\n",
    "    "
   ]
  },
  {
   "cell_type": "code",
   "execution_count": 66,
   "id": "e4d9196a",
   "metadata": {},
   "outputs": [
    {
     "name": "stdout",
     "output_type": "stream",
     "text": [
      "Within  f1\n",
      "Within  f2\n",
      "caught IndexError('my error')\n",
      "caught NameError()\n"
     ]
    }
   ],
   "source": [
    "f1()"
   ]
  },
  {
   "cell_type": "code",
   "execution_count": null,
   "id": "5cd49d0b",
   "metadata": {},
   "outputs": [],
   "source": []
  }
 ],
 "metadata": {
  "kernelspec": {
   "display_name": "Python 3 (ipykernel)",
   "language": "python",
   "name": "python3"
  },
  "language_info": {
   "codemirror_mode": {
    "name": "ipython",
    "version": 3
   },
   "file_extension": ".py",
   "mimetype": "text/x-python",
   "name": "python",
   "nbconvert_exporter": "python",
   "pygments_lexer": "ipython3",
   "version": "3.10.4"
  }
 },
 "nbformat": 4,
 "nbformat_minor": 5
}
