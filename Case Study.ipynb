{
 "cells": [
  {
   "cell_type": "markdown",
   "id": "69754d57",
   "metadata": {},
   "source": [
    "# Assignment \n",
    "***\n",
    "Case Study "
   ]
  },
  {
   "cell_type": "markdown",
   "id": "2053036f",
   "metadata": {},
   "source": [
    "Given a url \n",
    " - Visit the url using the requests library ( module )\n",
    " - Convert the HTML content into a soup object ( using BeautifulSoup library )\n",
    "- Fetch the data ( atmost 10 )\n",
    "After having achieved it, try to write the data in a excel file \n",
    "For working on a excel file install openpyxl using the command ` pip install openpyxl` \n",
    "\n",
    "\n"
   ]
  },
  {
   "cell_type": "code",
   "execution_count": 1,
   "id": "4a33fbb0",
   "metadata": {},
   "outputs": [],
   "source": [
    "import requests\n",
    "from bs4 import BeautifulSoup \n",
    "\n",
    "BASE_URL = 'https://www.gsmarena.com/'\n",
    "\n",
    "def get_html_content(BASE_URL):\n",
    "    try:\n",
    "        response = requests.get(BASE_URL)\n",
    "    except Exception as e:\n",
    "        return f'Error in connection : {e}'\n",
    "    finally:\n",
    "        return response\n",
    "    \n",
    "\n",
    "models = [\n",
    "          'Vivo Y21 2021',\n",
    "          'vivo y73',\n",
    "          'Oppo A16',\n",
    "          'Oppo A55' ,\n",
    "          'Vivo Y33s',\n",
    "          'Oppo F19s',\n",
    "          'vivo_y21t-11294.php',\n",
    "          'Vivo Y75 5G',\n",
    "          'V21e 5g',\n",
    "         ]\n",
    "\n",
    "URI = [\n",
    "       'vivo_y21-11063.php',\n",
    "       'vivo_y73-11022.php',\n",
    "       'oppo_a16-11021.php',\n",
    "       'oppo_a55-11114.php',\n",
    "       'vivo_y33s-11067.php',\n",
    "       'oppo_a54-10818.php',\n",
    "       'oppo_f19s-11108.php',\n",
    "       'vivo_y21t-11294.php',\n",
    "       'vivo_y75_5g-11338.php',\n",
    "       'vivo_v21e_5g-10968.php',\n",
    "      ]\n"
   ]
  },
  {
   "cell_type": "code",
   "execution_count": 11,
   "id": "e00bbefe",
   "metadata": {},
   "outputs": [
    {
     "name": "stdout",
     "output_type": "stream",
     "text": [
      "<Response [429]>\n"
     ]
    },
    {
     "ename": "AttributeError",
     "evalue": "ResultSet object has no attribute 'getText'. You're probably treating a list of elements like a single element. Did you call find_all() when you meant to call find()?",
     "output_type": "error",
     "traceback": [
      "\u001b[1;31m---------------------------------------------------------------------------\u001b[0m",
      "\u001b[1;31mAttributeError\u001b[0m                            Traceback (most recent call last)",
      "Input \u001b[1;32mIn [11]\u001b[0m, in \u001b[0;36m<cell line: 6>\u001b[1;34m()\u001b[0m\n\u001b[0;32m      7\u001b[0m     response \u001b[38;5;241m=\u001b[39m get_model_data(BASE_URL\u001b[38;5;241m+\u001b[39mURL)\n\u001b[0;32m      8\u001b[0m     \u001b[38;5;28mprint\u001b[39m(response)\n\u001b[1;32m----> 9\u001b[0m     \u001b[43mget_entire_data\u001b[49m\u001b[43m(\u001b[49m\u001b[43mresponse\u001b[49m\u001b[43m)\u001b[49m\n\u001b[0;32m     11\u001b[0m \u001b[38;5;28;01mdef\u001b[39;00m \u001b[38;5;21mget_model_data\u001b[39m(URL):\n\u001b[0;32m     12\u001b[0m     \u001b[38;5;124;03m\"\"\"get specific model data\"\"\"\u001b[39;00m\n",
      "Input \u001b[1;32mIn [5]\u001b[0m, in \u001b[0;36mget_entire_data\u001b[1;34m(reponse)\u001b[0m\n\u001b[0;32m     18\u001b[0m soup \u001b[38;5;241m=\u001b[39m BeautifulSoup(response\u001b[38;5;241m.\u001b[39mtext,\u001b[38;5;124m\"\u001b[39m\u001b[38;5;124mhtml.parser\u001b[39m\u001b[38;5;124m\"\u001b[39m)\n\u001b[0;32m     19\u001b[0m name\u001b[38;5;241m=\u001b[39m soup\u001b[38;5;241m.\u001b[39mfind_all(\u001b[38;5;124m'\u001b[39m\u001b[38;5;124mh1\u001b[39m\u001b[38;5;124m'\u001b[39m,attrs\u001b[38;5;241m=\u001b[39m{\u001b[38;5;124m'\u001b[39m\u001b[38;5;124mdata-spec\u001b[39m\u001b[38;5;124m'\u001b[39m:\u001b[38;5;124m'\u001b[39m\u001b[38;5;124mmodelname\u001b[39m\u001b[38;5;124m'\u001b[39m})\n\u001b[1;32m---> 20\u001b[0m \u001b[38;5;28mprint\u001b[39m(\u001b[43mname\u001b[49m\u001b[38;5;241;43m.\u001b[39;49m\u001b[43mgetText\u001b[49m())\n",
      "File \u001b[1;32m~\\AppData\\Local\\Programs\\Python\\Python310\\lib\\site-packages\\bs4\\element.py:2289\u001b[0m, in \u001b[0;36mResultSet.__getattr__\u001b[1;34m(self, key)\u001b[0m\n\u001b[0;32m   2287\u001b[0m \u001b[38;5;28;01mdef\u001b[39;00m \u001b[38;5;21m__getattr__\u001b[39m(\u001b[38;5;28mself\u001b[39m, key):\n\u001b[0;32m   2288\u001b[0m     \u001b[38;5;124;03m\"\"\"Raise a helpful exception to explain a common code fix.\"\"\"\u001b[39;00m\n\u001b[1;32m-> 2289\u001b[0m     \u001b[38;5;28;01mraise\u001b[39;00m \u001b[38;5;167;01mAttributeError\u001b[39;00m(\n\u001b[0;32m   2290\u001b[0m         \u001b[38;5;124m\"\u001b[39m\u001b[38;5;124mResultSet object has no attribute \u001b[39m\u001b[38;5;124m'\u001b[39m\u001b[38;5;132;01m%s\u001b[39;00m\u001b[38;5;124m'\u001b[39m\u001b[38;5;124m. You\u001b[39m\u001b[38;5;124m'\u001b[39m\u001b[38;5;124mre probably treating a list of elements like a single element. Did you call find_all() when you meant to call find()?\u001b[39m\u001b[38;5;124m\"\u001b[39m \u001b[38;5;241m%\u001b[39m key\n\u001b[0;32m   2291\u001b[0m     )\n",
      "\u001b[1;31mAttributeError\u001b[0m: ResultSet object has no attribute 'getText'. You're probably treating a list of elements like a single element. Did you call find_all() when you meant to call find()?"
     ]
    }
   ],
   "source": [
    "# def get_data(BASE_URL,URI):\n",
    "#     for items in URI:\n",
    "#         URL = BASE_URL + items \n",
    "#         get_model_data(URL)\n",
    "        \n",
    "for URL in URI:\n",
    "    response = get_model_data(BASE_URL+URL)\n",
    "    print(response)\n",
    "    get_entire_data(response)\n",
    "    \n",
    "def get_model_data(URL):\n",
    "    \"\"\"get specific model data\"\"\"\n",
    "    try:\n",
    "        response = requests.get(URL)\n",
    "    except Exception as e:\n",
    "        return f'Error in connection : {e}'\n",
    "    finally:\n",
    "        return response\n",
    "    \n",
    "def get_entire_data(reponse):\n",
    "    \n",
    "        soup = BeautifulSoup(response.text,\"html.parser\")\n",
    "        names= soup.find_all('h1',attrs={'data-spec':'modelname'})\n",
    "        for mame in names:\n",
    "            print(name)\n",
    "    \n",
    "    \n",
    "    \n",
    "    \n",
    "        \n",
    "        \n",
    "        "
   ]
  },
  {
   "cell_type": "code",
   "execution_count": 12,
   "id": "02611aea",
   "metadata": {},
   "outputs": [],
   "source": [
    "get_data(BASE_URL,URI)"
   ]
  },
  {
   "cell_type": "code",
   "execution_count": 13,
   "id": "07275497",
   "metadata": {},
   "outputs": [
    {
     "name": "stdout",
     "output_type": "stream",
     "text": [
      "<Response [429]>\n"
     ]
    }
   ],
   "source": [
    "print(response)"
   ]
  },
  {
   "cell_type": "code",
   "execution_count": null,
   "id": "3a03b42f",
   "metadata": {},
   "outputs": [],
   "source": []
  },
  {
   "cell_type": "code",
   "execution_count": null,
   "id": "bb6302d9",
   "metadata": {},
   "outputs": [],
   "source": []
  }
 ],
 "metadata": {
  "kernelspec": {
   "display_name": "Python 3 (ipykernel)",
   "language": "python",
   "name": "python3"
  },
  "language_info": {
   "codemirror_mode": {
    "name": "ipython",
    "version": 3
   },
   "file_extension": ".py",
   "mimetype": "text/x-python",
   "name": "python",
   "nbconvert_exporter": "python",
   "pygments_lexer": "ipython3",
   "version": "3.10.4"
  }
 },
 "nbformat": 4,
 "nbformat_minor": 5
}
