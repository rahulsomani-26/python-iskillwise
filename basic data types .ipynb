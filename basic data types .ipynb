{
 "cells": [
  {
   "cell_type": "code",
   "execution_count": 1,
   "id": "695e0836",
   "metadata": {},
   "outputs": [],
   "source": [
    "a = 10 "
   ]
  },
  {
   "cell_type": "code",
   "execution_count": 2,
   "id": "ceefd208",
   "metadata": {},
   "outputs": [
    {
     "data": {
      "text/plain": [
       "(int, 2682786415120)"
      ]
     },
     "execution_count": 2,
     "metadata": {},
     "output_type": "execute_result"
    }
   ],
   "source": [
    "type(a), id(a)"
   ]
  },
  {
   "cell_type": "markdown",
   "id": "dea53861",
   "metadata": {},
   "source": [
    "# create integers using the int() constructor also known as factory method "
   ]
  },
  {
   "cell_type": "code",
   "execution_count": 3,
   "id": "e827a21a",
   "metadata": {},
   "outputs": [],
   "source": [
    "a = int()"
   ]
  },
  {
   "cell_type": "code",
   "execution_count": 5,
   "id": "653f8401",
   "metadata": {},
   "outputs": [
    {
     "data": {
      "text/plain": [
       "(0, int)"
      ]
     },
     "execution_count": 5,
     "metadata": {},
     "output_type": "execute_result"
    }
   ],
   "source": [
    "a, type(a)"
   ]
  },
  {
   "cell_type": "code",
   "execution_count": 6,
   "id": "8b132aa7",
   "metadata": {},
   "outputs": [],
   "source": [
    "b = int(1)"
   ]
  },
  {
   "cell_type": "code",
   "execution_count": 7,
   "id": "bd3827d1",
   "metadata": {},
   "outputs": [
    {
     "data": {
      "text/plain": [
       "(1, int, 2682786414832)"
      ]
     },
     "execution_count": 7,
     "metadata": {},
     "output_type": "execute_result"
    }
   ],
   "source": [
    "b, type(b), id(b)"
   ]
  },
  {
   "cell_type": "code",
   "execution_count": 8,
   "id": "d693b59c",
   "metadata": {},
   "outputs": [],
   "source": [
    "# python provides an inbuilt functionc called type, hex, and so on that are quite useful "
   ]
  },
  {
   "cell_type": "code",
   "execution_count": 9,
   "id": "c282238e",
   "metadata": {},
   "outputs": [
    {
     "data": {
      "text/plain": [
       "0"
      ]
     },
     "execution_count": 9,
     "metadata": {},
     "output_type": "execute_result"
    }
   ],
   "source": [
    "a "
   ]
  },
  {
   "cell_type": "code",
   "execution_count": 10,
   "id": "2407a781",
   "metadata": {},
   "outputs": [
    {
     "data": {
      "text/plain": [
       "1"
      ]
     },
     "execution_count": 10,
     "metadata": {},
     "output_type": "execute_result"
    }
   ],
   "source": [
    "b "
   ]
  },
  {
   "cell_type": "code",
   "execution_count": 11,
   "id": "a4578414",
   "metadata": {},
   "outputs": [
    {
     "data": {
      "text/plain": [
       "1"
      ]
     },
     "execution_count": 11,
     "metadata": {},
     "output_type": "execute_result"
    }
   ],
   "source": [
    "a +b "
   ]
  },
  {
   "cell_type": "code",
   "execution_count": 12,
   "id": "9cbee315",
   "metadata": {},
   "outputs": [
    {
     "data": {
      "text/plain": [
       "-1"
      ]
     },
     "execution_count": 12,
     "metadata": {},
     "output_type": "execute_result"
    }
   ],
   "source": [
    "a -b"
   ]
  },
  {
   "cell_type": "code",
   "execution_count": 13,
   "id": "56d7a215",
   "metadata": {},
   "outputs": [
    {
     "data": {
      "text/plain": [
       "<function dir>"
      ]
     },
     "execution_count": 13,
     "metadata": {},
     "output_type": "execute_result"
    }
   ],
   "source": [
    "dir"
   ]
  },
  {
   "cell_type": "code",
   "execution_count": 15,
   "id": "00df2384",
   "metadata": {},
   "outputs": [
    {
     "name": "stdout",
     "output_type": "stream",
     "text": [
      "['__abs__', '__add__', '__and__', '__bool__', '__ceil__', '__class__', '__delattr__', '__dir__', '__divmod__', '__doc__', '__eq__', '__float__', '__floor__', '__floordiv__', '__format__', '__ge__', '__getattribute__', '__getnewargs__', '__gt__', '__hash__', '__index__', '__init__', '__init_subclass__', '__int__', '__invert__', '__le__', '__lshift__', '__lt__', '__mod__', '__mul__', '__ne__', '__neg__', '__new__', '__or__', '__pos__', '__pow__', '__radd__', '__rand__', '__rdivmod__', '__reduce__', '__reduce_ex__', '__repr__', '__rfloordiv__', '__rlshift__', '__rmod__', '__rmul__', '__ror__', '__round__', '__rpow__', '__rrshift__', '__rshift__', '__rsub__', '__rtruediv__', '__rxor__', '__setattr__', '__sizeof__', '__str__', '__sub__', '__subclasshook__', '__truediv__', '__trunc__', '__xor__', 'as_integer_ratio', 'bit_count', 'bit_length', 'conjugate', 'denominator', 'from_bytes', 'imag', 'numerator', 'real', 'to_bytes']\n"
     ]
    }
   ],
   "source": [
    "print(dir(int))"
   ]
  },
  {
   "cell_type": "markdown",
   "id": "9c048e18",
   "metadata": {},
   "source": [
    "# dunder\n",
    "***\n",
    " - Double underscore \n",
    "- Also known as magic methods "
   ]
  },
  {
   "cell_type": "code",
   "execution_count": 16,
   "id": "73b7dfa9",
   "metadata": {},
   "outputs": [],
   "source": [
    "m = 10 \n",
    "n = 20 "
   ]
  },
  {
   "cell_type": "code",
   "execution_count": 17,
   "id": "da0c244e",
   "metadata": {},
   "outputs": [
    {
     "data": {
      "text/plain": [
       "<method-wrapper '__add__' of int object at 0x00000270A2880210>"
      ]
     },
     "execution_count": 17,
     "metadata": {},
     "output_type": "execute_result"
    }
   ],
   "source": [
    "m.__add__"
   ]
  },
  {
   "cell_type": "code",
   "execution_count": 18,
   "id": "3b4ba362",
   "metadata": {},
   "outputs": [
    {
     "name": "stdout",
     "output_type": "stream",
     "text": [
      "Help on method-wrapper:\n",
      "\n",
      "__add__ = <method-wrapper '__add__' of int object>\n",
      "    Return self+value.\n",
      "\n"
     ]
    }
   ],
   "source": [
    "help(a.__add__)"
   ]
  },
  {
   "cell_type": "code",
   "execution_count": 21,
   "id": "9587e2cf",
   "metadata": {},
   "outputs": [
    {
     "data": {
      "text/plain": [
       "(30, 30)"
      ]
     },
     "execution_count": 21,
     "metadata": {},
     "output_type": "execute_result"
    }
   ],
   "source": [
    "m.__add__(n), m+n "
   ]
  },
  {
   "cell_type": "code",
   "execution_count": 22,
   "id": "392db4f2",
   "metadata": {},
   "outputs": [
    {
     "data": {
      "text/plain": [
       "True"
      ]
     },
     "execution_count": 22,
     "metadata": {},
     "output_type": "execute_result"
    }
   ],
   "source": [
    "m < n "
   ]
  },
  {
   "cell_type": "code",
   "execution_count": 23,
   "id": "dee9f06f",
   "metadata": {},
   "outputs": [
    {
     "data": {
      "text/plain": [
       "True"
      ]
     },
     "execution_count": 23,
     "metadata": {},
     "output_type": "execute_result"
    }
   ],
   "source": [
    "m.__le__(n) # less than or equal to "
   ]
  },
  {
   "cell_type": "code",
   "execution_count": 24,
   "id": "e7bc35aa",
   "metadata": {},
   "outputs": [
    {
     "data": {
      "text/plain": [
       "True"
      ]
     },
     "execution_count": 24,
     "metadata": {},
     "output_type": "execute_result"
    }
   ],
   "source": [
    "n.__ge__(m) #Greater than or equal to "
   ]
  },
  {
   "cell_type": "markdown",
   "id": "120b3ad9",
   "metadata": {},
   "source": [
    "python is a dynamically typed language. "
   ]
  },
  {
   "cell_type": "code",
   "execution_count": 25,
   "id": "b9df71e2",
   "metadata": {},
   "outputs": [
    {
     "data": {
      "text/plain": [
       "(2682868656240, str)"
      ]
     },
     "execution_count": 25,
     "metadata": {},
     "output_type": "execute_result"
    }
   ],
   "source": [
    "name = 'rahul'\n",
    "id(name), type(name)"
   ]
  },
  {
   "cell_type": "code",
   "execution_count": 26,
   "id": "2a6767ce",
   "metadata": {},
   "outputs": [
    {
     "data": {
      "text/plain": [
       "float"
      ]
     },
     "execution_count": 26,
     "metadata": {},
     "output_type": "execute_result"
    }
   ],
   "source": [
    "name = 10.2\n",
    "type(name)"
   ]
  },
  {
   "cell_type": "markdown",
   "id": "d01b9b16",
   "metadata": {},
   "source": [
    "# Some common operations done on int \n",
    "` - Floor division operator `"
   ]
  },
  {
   "cell_type": "code",
   "execution_count": 42,
   "id": "cdb0ab67",
   "metadata": {},
   "outputs": [],
   "source": [
    "a = 4 \n",
    "b = 2 "
   ]
  },
  {
   "cell_type": "code",
   "execution_count": 43,
   "id": "d410def9",
   "metadata": {},
   "outputs": [
    {
     "data": {
      "text/plain": [
       "(4, 2)"
      ]
     },
     "execution_count": 43,
     "metadata": {},
     "output_type": "execute_result"
    }
   ],
   "source": [
    "a, b"
   ]
  },
  {
   "cell_type": "code",
   "execution_count": 35,
   "id": "c7ef7415",
   "metadata": {},
   "outputs": [
    {
     "data": {
      "text/plain": [
       "5.0"
      ]
     },
     "execution_count": 35,
     "metadata": {},
     "output_type": "execute_result"
    }
   ],
   "source": [
    "n1 = 10 \n",
    "n2 = 2 \n",
    "n1/n2"
   ]
  },
  {
   "cell_type": "code",
   "execution_count": 36,
   "id": "1932f02a",
   "metadata": {},
   "outputs": [
    {
     "data": {
      "text/plain": [
       "5"
      ]
     },
     "execution_count": 36,
     "metadata": {},
     "output_type": "execute_result"
    }
   ],
   "source": [
    "n1 //n2"
   ]
  },
  {
   "cell_type": "code",
   "execution_count": 37,
   "id": "e34c3950",
   "metadata": {},
   "outputs": [
    {
     "data": {
      "text/plain": [
       "0.0"
      ]
     },
     "execution_count": 37,
     "metadata": {},
     "output_type": "execute_result"
    }
   ],
   "source": [
    "a/b"
   ]
  },
  {
   "cell_type": "code",
   "execution_count": 38,
   "id": "7bae6105",
   "metadata": {},
   "outputs": [
    {
     "name": "stdout",
     "output_type": "stream",
     "text": [
      "['__abs__', '__add__', '__and__', '__bool__', '__ceil__', '__class__', '__delattr__', '__dir__', '__divmod__', '__doc__', '__eq__', '__float__', '__floor__', '__floordiv__', '__format__', '__ge__', '__getattribute__', '__getnewargs__', '__gt__', '__hash__', '__index__', '__init__', '__init_subclass__', '__int__', '__invert__', '__le__', '__lshift__', '__lt__', '__mod__', '__mul__', '__ne__', '__neg__', '__new__', '__or__', '__pos__', '__pow__', '__radd__', '__rand__', '__rdivmod__', '__reduce__', '__reduce_ex__', '__repr__', '__rfloordiv__', '__rlshift__', '__rmod__', '__rmul__', '__ror__', '__round__', '__rpow__', '__rrshift__', '__rshift__', '__rsub__', '__rtruediv__', '__rxor__', '__setattr__', '__sizeof__', '__str__', '__sub__', '__subclasshook__', '__truediv__', '__trunc__', '__xor__', 'as_integer_ratio', 'bit_count', 'bit_length', 'conjugate', 'denominator', 'from_bytes', 'imag', 'numerator', 'real', 'to_bytes']\n"
     ]
    }
   ],
   "source": [
    "print(dir(int))"
   ]
  },
  {
   "cell_type": "code",
   "execution_count": 39,
   "id": "6b41587f",
   "metadata": {},
   "outputs": [
    {
     "data": {
      "text/plain": [
       "<method '__floor__' of 'int' objects>"
      ]
     },
     "execution_count": 39,
     "metadata": {},
     "output_type": "execute_result"
    }
   ],
   "source": [
    "int.__floor__"
   ]
  },
  {
   "cell_type": "code",
   "execution_count": 41,
   "id": "790defd6",
   "metadata": {},
   "outputs": [
    {
     "data": {
      "text/plain": [
       "<function int.__floor__>"
      ]
     },
     "execution_count": 41,
     "metadata": {},
     "output_type": "execute_result"
    }
   ],
   "source": [
    "(2).__floor__"
   ]
  },
  {
   "cell_type": "code",
   "execution_count": 44,
   "id": "9109faad",
   "metadata": {},
   "outputs": [
    {
     "data": {
      "text/plain": [
       "(10, 20)"
      ]
     },
     "execution_count": 44,
     "metadata": {},
     "output_type": "execute_result"
    }
   ],
   "source": [
    "m,n"
   ]
  },
  {
   "cell_type": "code",
   "execution_count": 46,
   "id": "3b0a989d",
   "metadata": {},
   "outputs": [
    {
     "ename": "TypeError",
     "evalue": "int.__floor__() takes no arguments (1 given)",
     "output_type": "error",
     "traceback": [
      "\u001b[1;31m---------------------------------------------------------------------------\u001b[0m",
      "\u001b[1;31mTypeError\u001b[0m                                 Traceback (most recent call last)",
      "Input \u001b[1;32mIn [46]\u001b[0m, in \u001b[0;36m<cell line: 1>\u001b[1;34m()\u001b[0m\n\u001b[1;32m----> 1\u001b[0m \u001b[43mm\u001b[49m\u001b[38;5;241;43m.\u001b[39;49m\u001b[43m__floor__\u001b[49m\u001b[43m(\u001b[49m\u001b[43mn\u001b[49m\u001b[43m)\u001b[49m\n",
      "\u001b[1;31mTypeError\u001b[0m: int.__floor__() takes no arguments (1 given)"
     ]
    }
   ],
   "source": [
    "m.__floor__(n)"
   ]
  },
  {
   "cell_type": "code",
   "execution_count": 48,
   "id": "b383fcab",
   "metadata": {},
   "outputs": [
    {
     "name": "stdout",
     "output_type": "stream",
     "text": [
      "Help on method-wrapper:\n",
      "\n",
      "__floordiv__ = <method-wrapper '__floordiv__' of int object>\n",
      "    Return self//value.\n",
      "\n"
     ]
    }
   ],
   "source": [
    "help(m.__floordiv__)"
   ]
  },
  {
   "cell_type": "code",
   "execution_count": 49,
   "id": "81ed4016",
   "metadata": {},
   "outputs": [
    {
     "data": {
      "text/plain": [
       "0"
      ]
     },
     "execution_count": 49,
     "metadata": {},
     "output_type": "execute_result"
    }
   ],
   "source": [
    "m.__floordiv__(n)"
   ]
  },
  {
   "cell_type": "code",
   "execution_count": 50,
   "id": "809c3354",
   "metadata": {},
   "outputs": [
    {
     "data": {
      "text/plain": [
       "2"
      ]
     },
     "execution_count": 50,
     "metadata": {},
     "output_type": "execute_result"
    }
   ],
   "source": [
    "a = 4 \n",
    "b = 2 \n",
    "a.__floordiv__(b)  # a//b "
   ]
  },
  {
   "cell_type": "markdown",
   "id": "f4dae2dc",
   "metadata": {},
   "source": [
    "# power operator \n",
    "***\n",
    "- Denoted by **\n",
    "- Returns the power of a number raised to some value "
   ]
  },
  {
   "cell_type": "code",
   "execution_count": 51,
   "id": "0b26ab4b",
   "metadata": {},
   "outputs": [
    {
     "data": {
      "text/plain": [
       "9"
      ]
     },
     "execution_count": 51,
     "metadata": {},
     "output_type": "execute_result"
    }
   ],
   "source": [
    "3**2"
   ]
  },
  {
   "cell_type": "markdown",
   "id": "729a34c4",
   "metadata": {},
   "source": [
    "# FLOAT "
   ]
  },
  {
   "cell_type": "code",
   "execution_count": 52,
   "id": "2b5b891f",
   "metadata": {},
   "outputs": [
    {
     "data": {
      "text/plain": [
       "float"
      ]
     },
     "execution_count": 52,
     "metadata": {},
     "output_type": "execute_result"
    }
   ],
   "source": [
    "float"
   ]
  },
  {
   "cell_type": "code",
   "execution_count": 53,
   "id": "6f5e70f3",
   "metadata": {},
   "outputs": [
    {
     "data": {
      "text/plain": [
       "type"
      ]
     },
     "execution_count": 53,
     "metadata": {},
     "output_type": "execute_result"
    }
   ],
   "source": [
    "type(float)"
   ]
  },
  {
   "cell_type": "code",
   "execution_count": 55,
   "id": "5aaa26f0",
   "metadata": {},
   "outputs": [],
   "source": [
    "salary = 2300.78 \n",
    "shoe_price = 999.99 \n"
   ]
  },
  {
   "cell_type": "code",
   "execution_count": 57,
   "id": "45d1282b",
   "metadata": {},
   "outputs": [
    {
     "data": {
      "text/plain": [
       "(float, float)"
      ]
     },
     "execution_count": 57,
     "metadata": {},
     "output_type": "execute_result"
    }
   ],
   "source": [
    "type(salary),type(shoe_price)"
   ]
  },
  {
   "cell_type": "code",
   "execution_count": 58,
   "id": "249d0b57",
   "metadata": {},
   "outputs": [
    {
     "data": {
      "text/plain": [
       "(2682895893872, 2682895898160)"
      ]
     },
     "execution_count": 58,
     "metadata": {},
     "output_type": "execute_result"
    }
   ],
   "source": [
    "id(salary), id(shoe_price)"
   ]
  },
  {
   "cell_type": "code",
   "execution_count": 59,
   "id": "b1e091da",
   "metadata": {},
   "outputs": [
    {
     "data": {
      "text/plain": [
       "(3300.7700000000004, 1300.7900000000002)"
      ]
     },
     "execution_count": 59,
     "metadata": {},
     "output_type": "execute_result"
    }
   ],
   "source": [
    "salary + shoe_price , salary - shoe_price "
   ]
  },
  {
   "cell_type": "code",
   "execution_count": 60,
   "id": "6a9468b9",
   "metadata": {},
   "outputs": [
    {
     "name": "stdout",
     "output_type": "stream",
     "text": [
      "['__abs__', '__add__', '__bool__', '__ceil__', '__class__', '__delattr__', '__dir__', '__divmod__', '__doc__', '__eq__', '__float__', '__floor__', '__floordiv__', '__format__', '__ge__', '__getattribute__', '__getformat__', '__getnewargs__', '__gt__', '__hash__', '__init__', '__init_subclass__', '__int__', '__le__', '__lt__', '__mod__', '__mul__', '__ne__', '__neg__', '__new__', '__pos__', '__pow__', '__radd__', '__rdivmod__', '__reduce__', '__reduce_ex__', '__repr__', '__rfloordiv__', '__rmod__', '__rmul__', '__round__', '__rpow__', '__rsub__', '__rtruediv__', '__setattr__', '__setformat__', '__sizeof__', '__str__', '__sub__', '__subclasshook__', '__truediv__', '__trunc__', 'as_integer_ratio', 'conjugate', 'fromhex', 'hex', 'imag', 'is_integer', 'real']\n"
     ]
    }
   ],
   "source": [
    "print(dir(float))"
   ]
  },
  {
   "cell_type": "code",
   "execution_count": 61,
   "id": "781b95f2",
   "metadata": {},
   "outputs": [],
   "source": [
    "total = salary.__add__(shoe_price)"
   ]
  },
  {
   "cell_type": "code",
   "execution_count": 62,
   "id": "98b491b6",
   "metadata": {},
   "outputs": [
    {
     "data": {
      "text/plain": [
       "3300.7700000000004"
      ]
     },
     "execution_count": 62,
     "metadata": {},
     "output_type": "execute_result"
    }
   ],
   "source": [
    "total"
   ]
  },
  {
   "cell_type": "code",
   "execution_count": 63,
   "id": "ffe22150",
   "metadata": {},
   "outputs": [
    {
     "data": {
      "text/plain": [
       "30.32"
      ]
     },
     "execution_count": 63,
     "metadata": {},
     "output_type": "execute_result"
    }
   ],
   "source": [
    "10 + 20.32"
   ]
  },
  {
   "cell_type": "code",
   "execution_count": null,
   "id": "456df25b",
   "metadata": {},
   "outputs": [],
   "source": []
  }
 ],
 "metadata": {
  "kernelspec": {
   "display_name": "Python 3 (ipykernel)",
   "language": "python",
   "name": "python3"
  },
  "language_info": {
   "codemirror_mode": {
    "name": "ipython",
    "version": 3
   },
   "file_extension": ".py",
   "mimetype": "text/x-python",
   "name": "python",
   "nbconvert_exporter": "python",
   "pygments_lexer": "ipython3",
   "version": "3.10.4"
  }
 },
 "nbformat": 4,
 "nbformat_minor": 5
}
