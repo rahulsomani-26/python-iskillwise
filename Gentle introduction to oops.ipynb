{
 "cells": [
  {
   "cell_type": "markdown",
   "id": "c76d3827",
   "metadata": {},
   "source": [
    "# Basic introduction to Object Oriented Programming "
   ]
  },
  {
   "cell_type": "code",
   "execution_count": 1,
   "id": "f7b8c543",
   "metadata": {},
   "outputs": [],
   "source": [
    "class FirstClass:\n",
    "    pass"
   ]
  },
  {
   "cell_type": "code",
   "execution_count": 2,
   "id": "d3441d50",
   "metadata": {},
   "outputs": [],
   "source": [
    "obj = FirstClass()"
   ]
  },
  {
   "cell_type": "code",
   "execution_count": 3,
   "id": "fe599d6f",
   "metadata": {},
   "outputs": [
    {
     "data": {
      "text/plain": [
       "<__main__.FirstClass at 0x187deef7670>"
      ]
     },
     "execution_count": 3,
     "metadata": {},
     "output_type": "execute_result"
    }
   ],
   "source": [
    "obj"
   ]
  },
  {
   "cell_type": "code",
   "execution_count": 4,
   "id": "8be8d00b",
   "metadata": {},
   "outputs": [
    {
     "data": {
      "text/plain": [
       "'0x187deef7670'"
      ]
     },
     "execution_count": 4,
     "metadata": {},
     "output_type": "execute_result"
    }
   ],
   "source": [
    "hex(id(obj))"
   ]
  },
  {
   "cell_type": "code",
   "execution_count": 5,
   "id": "aa19d8f7",
   "metadata": {},
   "outputs": [
    {
     "data": {
      "text/plain": [
       "__main__.FirstClass"
      ]
     },
     "execution_count": 5,
     "metadata": {},
     "output_type": "execute_result"
    }
   ],
   "source": [
    "FirstClass"
   ]
  },
  {
   "cell_type": "code",
   "execution_count": 6,
   "id": "ce47afe9",
   "metadata": {},
   "outputs": [],
   "source": [
    "class Test:\n",
    "    def __new__(self):\n",
    "        print(\" Object Created \")\n",
    "        \n",
    "    "
   ]
  },
  {
   "cell_type": "code",
   "execution_count": 7,
   "id": "253fbf0b",
   "metadata": {},
   "outputs": [
    {
     "name": "stdout",
     "output_type": "stream",
     "text": [
      " Object Created \n"
     ]
    }
   ],
   "source": [
    "t = Test()"
   ]
  },
  {
   "cell_type": "code",
   "execution_count": 8,
   "id": "40ec6626",
   "metadata": {},
   "outputs": [],
   "source": [
    "class Test:  \n",
    "    def __new__(self):\n",
    "        print(\" Object Created \")\n",
    "        \n",
    "    def __init__(self):\n",
    "        print('Object initialized')\n",
    "        \n",
    "        "
   ]
  },
  {
   "cell_type": "code",
   "execution_count": 9,
   "id": "080d6bfd",
   "metadata": {},
   "outputs": [
    {
     "name": "stdout",
     "output_type": "stream",
     "text": [
      " Object Created \n"
     ]
    }
   ],
   "source": [
    "t = Test()"
   ]
  },
  {
   "cell_type": "code",
   "execution_count": 10,
   "id": "a67ae70e",
   "metadata": {},
   "outputs": [],
   "source": [
    "class Test:  \n",
    "  # initlaizer / constructor \n",
    "    def __init__(self):\n",
    "        print('Object initialized')\n",
    "        "
   ]
  },
  {
   "cell_type": "code",
   "execution_count": 11,
   "id": "4bdf38d3",
   "metadata": {},
   "outputs": [
    {
     "name": "stdout",
     "output_type": "stream",
     "text": [
      "Object initialized\n"
     ]
    }
   ],
   "source": [
    "t = Test()"
   ]
  },
  {
   "cell_type": "code",
   "execution_count": 12,
   "id": "1a91c301",
   "metadata": {},
   "outputs": [],
   "source": [
    "del t "
   ]
  },
  {
   "cell_type": "code",
   "execution_count": 13,
   "id": "8cf01577",
   "metadata": {},
   "outputs": [
    {
     "ename": "NameError",
     "evalue": "name 't' is not defined",
     "output_type": "error",
     "traceback": [
      "\u001b[1;31m---------------------------------------------------------------------------\u001b[0m",
      "\u001b[1;31mNameError\u001b[0m                                 Traceback (most recent call last)",
      "Input \u001b[1;32mIn [13]\u001b[0m, in \u001b[0;36m<cell line: 1>\u001b[1;34m()\u001b[0m\n\u001b[1;32m----> 1\u001b[0m \u001b[43mt\u001b[49m\n",
      "\u001b[1;31mNameError\u001b[0m: name 't' is not defined"
     ]
    }
   ],
   "source": [
    "t"
   ]
  },
  {
   "cell_type": "code",
   "execution_count": 14,
   "id": "be8a33a3",
   "metadata": {},
   "outputs": [],
   "source": [
    "class Test:  \n",
    "  # initlaizer / constructor \n",
    "    def __init__(self):\n",
    "        print('Object initialized')\n",
    "        \n",
    "    # The destructor \n",
    "    def __del__(self):\n",
    "        print(\"object Destroyed\")\n",
    "        "
   ]
  },
  {
   "cell_type": "code",
   "execution_count": 15,
   "id": "77873490",
   "metadata": {},
   "outputs": [
    {
     "name": "stdout",
     "output_type": "stream",
     "text": [
      "Object initialized\n"
     ]
    }
   ],
   "source": [
    "t = Test()"
   ]
  },
  {
   "cell_type": "code",
   "execution_count": 16,
   "id": "29acd524",
   "metadata": {},
   "outputs": [
    {
     "name": "stdout",
     "output_type": "stream",
     "text": [
      "object Destroyed\n"
     ]
    }
   ],
   "source": [
    "del t "
   ]
  },
  {
   "cell_type": "code",
   "execution_count": 19,
   "id": "3ee79c36",
   "metadata": {},
   "outputs": [],
   "source": [
    "class Student:\n",
    "    def __init__(self,name,age):\n",
    "        self.name = name \n",
    "        self.age = age \n",
    "        \n",
    "    def get_details(self):\n",
    "        return f' Hey {self.name} you are {self.age} years old ' \n",
    "        "
   ]
  },
  {
   "cell_type": "code",
   "execution_count": 22,
   "id": "11bf68d8",
   "metadata": {},
   "outputs": [],
   "source": [
    "s1 = Student('Amber',24)\n",
    "s2 = Student('Srivastava',28)"
   ]
  },
  {
   "cell_type": "code",
   "execution_count": 24,
   "id": "f470884a",
   "metadata": {},
   "outputs": [
    {
     "data": {
      "text/plain": [
       "(<__main__.Student at 0x187e01c2ec0>, '0x187e01c2ec0', __main__.Student)"
      ]
     },
     "execution_count": 24,
     "metadata": {},
     "output_type": "execute_result"
    }
   ],
   "source": [
    "s1, hex(id(s1)),type(s1)"
   ]
  },
  {
   "cell_type": "code",
   "execution_count": 25,
   "id": "059a12bc",
   "metadata": {},
   "outputs": [
    {
     "data": {
      "text/plain": [
       "(<__main__.Student at 0x187e01c0fa0>, '0x187e01c0fa0', __main__.Student)"
      ]
     },
     "execution_count": 25,
     "metadata": {},
     "output_type": "execute_result"
    }
   ],
   "source": [
    "s2, hex(id(s2)), type(s2)"
   ]
  },
  {
   "cell_type": "code",
   "execution_count": 26,
   "id": "eae1bcae",
   "metadata": {},
   "outputs": [
    {
     "data": {
      "text/plain": [
       "' Hey Amber you are 24 years old '"
      ]
     },
     "execution_count": 26,
     "metadata": {},
     "output_type": "execute_result"
    }
   ],
   "source": [
    "s1.get_details()"
   ]
  },
  {
   "cell_type": "code",
   "execution_count": 27,
   "id": "ddace78d",
   "metadata": {},
   "outputs": [
    {
     "data": {
      "text/plain": [
       "' Hey Srivastava you are 28 years old '"
      ]
     },
     "execution_count": 27,
     "metadata": {},
     "output_type": "execute_result"
    }
   ],
   "source": [
    "s2.get_details()"
   ]
  },
  {
   "cell_type": "code",
   "execution_count": 28,
   "id": "be920590",
   "metadata": {},
   "outputs": [
    {
     "data": {
      "text/plain": [
       "' Hey Amber you are 24 years old '"
      ]
     },
     "execution_count": 28,
     "metadata": {},
     "output_type": "execute_result"
    }
   ],
   "source": [
    "Student.get_details(s1)"
   ]
  },
  {
   "cell_type": "code",
   "execution_count": 29,
   "id": "06251406",
   "metadata": {},
   "outputs": [
    {
     "data": {
      "text/plain": [
       "' Hey Srivastava you are 28 years old '"
      ]
     },
     "execution_count": 29,
     "metadata": {},
     "output_type": "execute_result"
    }
   ],
   "source": [
    "Student.get_details(s2)"
   ]
  },
  {
   "cell_type": "code",
   "execution_count": 30,
   "id": "af264856",
   "metadata": {},
   "outputs": [
    {
     "data": {
      "text/plain": [
       "{'name': 'Amber', 'age': 24}"
      ]
     },
     "execution_count": 30,
     "metadata": {},
     "output_type": "execute_result"
    }
   ],
   "source": [
    "s1.__dict__"
   ]
  },
  {
   "cell_type": "code",
   "execution_count": 31,
   "id": "3c524452",
   "metadata": {},
   "outputs": [
    {
     "data": {
      "text/plain": [
       "{'name': 'Srivastava', 'age': 28}"
      ]
     },
     "execution_count": 31,
     "metadata": {},
     "output_type": "execute_result"
    }
   ],
   "source": [
    "s2.__dict__"
   ]
  },
  {
   "cell_type": "code",
   "execution_count": 32,
   "id": "79b303c3",
   "metadata": {},
   "outputs": [
    {
     "data": {
      "text/plain": [
       "mappingproxy({'__module__': '__main__',\n",
       "              '__init__': <function __main__.Student.__init__(self, name, age)>,\n",
       "              'get_details': <function __main__.Student.get_details(self)>,\n",
       "              '__dict__': <attribute '__dict__' of 'Student' objects>,\n",
       "              '__weakref__': <attribute '__weakref__' of 'Student' objects>,\n",
       "              '__doc__': None})"
      ]
     },
     "execution_count": 32,
     "metadata": {},
     "output_type": "execute_result"
    }
   ],
   "source": [
    "Student.__dict__"
   ]
  },
  {
   "cell_type": "code",
   "execution_count": 66,
   "id": "5ebbee43",
   "metadata": {},
   "outputs": [],
   "source": [
    "class Company:\n",
    "    # shareable attributes accors every object \n",
    "    nameofcompany = 'Pure Software'\n",
    "    location = \"pune\"\n",
    "    \n",
    "    def __init__(self,_id,name):\n",
    "        self._id = _id \n",
    "        self.name = name \n",
    "        \n",
    "    def get_details(self):\n",
    "        print(self._id, self.name)\n",
    "        \n",
    "    def set_details(self,_id):\n",
    "        self._id = _id \n",
    "        \n",
    "    def getentiredetails(self):\n",
    "        return f' Company = {self.nameofcompany} location = {self.location}'"
   ]
  },
  {
   "cell_type": "code",
   "execution_count": 67,
   "id": "c8987f68",
   "metadata": {},
   "outputs": [],
   "source": [
    "emp = Company(100,'Rahul')"
   ]
  },
  {
   "cell_type": "code",
   "execution_count": 68,
   "id": "799ff203",
   "metadata": {},
   "outputs": [
    {
     "data": {
      "text/plain": [
       "mappingproxy({'__module__': '__main__',\n",
       "              'nameofcompany': 'Pure Software',\n",
       "              'location': 'pune',\n",
       "              '__init__': <function __main__.Company.__init__(self, _id, name)>,\n",
       "              'get_details': <function __main__.Company.get_details(self)>,\n",
       "              'set_details': <function __main__.Company.set_details(self, _id)>,\n",
       "              'getentiredetails': <function __main__.Company.getentiredetails(self)>,\n",
       "              '__dict__': <attribute '__dict__' of 'Company' objects>,\n",
       "              '__weakref__': <attribute '__weakref__' of 'Company' objects>,\n",
       "              '__doc__': None})"
      ]
     },
     "execution_count": 68,
     "metadata": {},
     "output_type": "execute_result"
    }
   ],
   "source": [
    "Company.__dict__"
   ]
  },
  {
   "cell_type": "code",
   "execution_count": 69,
   "id": "0a7db8dc",
   "metadata": {},
   "outputs": [
    {
     "ename": "AttributeError",
     "evalue": "type object 'Company' has no attribute 'name'",
     "output_type": "error",
     "traceback": [
      "\u001b[1;31m---------------------------------------------------------------------------\u001b[0m",
      "\u001b[1;31mAttributeError\u001b[0m                            Traceback (most recent call last)",
      "Input \u001b[1;32mIn [69]\u001b[0m, in \u001b[0;36m<cell line: 1>\u001b[1;34m()\u001b[0m\n\u001b[1;32m----> 1\u001b[0m \u001b[43mCompany\u001b[49m\u001b[38;5;241;43m.\u001b[39;49m\u001b[43mname\u001b[49m\n",
      "\u001b[1;31mAttributeError\u001b[0m: type object 'Company' has no attribute 'name'"
     ]
    }
   ],
   "source": [
    "Company.name"
   ]
  },
  {
   "cell_type": "code",
   "execution_count": 70,
   "id": "45f1487f",
   "metadata": {},
   "outputs": [
    {
     "data": {
      "text/plain": [
       "'pune'"
      ]
     },
     "execution_count": 70,
     "metadata": {},
     "output_type": "execute_result"
    }
   ],
   "source": [
    "Company.location"
   ]
  },
  {
   "cell_type": "code",
   "execution_count": 71,
   "id": "bc6a91a1",
   "metadata": {},
   "outputs": [
    {
     "name": "stdout",
     "output_type": "stream",
     "text": [
      "100 Rahul\n"
     ]
    }
   ],
   "source": [
    "emp.get_details()"
   ]
  },
  {
   "cell_type": "code",
   "execution_count": 72,
   "id": "daa03672",
   "metadata": {},
   "outputs": [
    {
     "data": {
      "text/plain": [
       "{'_id': 100, 'name': 'Rahul'}"
      ]
     },
     "execution_count": 72,
     "metadata": {},
     "output_type": "execute_result"
    }
   ],
   "source": [
    "emp.__dict__"
   ]
  },
  {
   "cell_type": "code",
   "execution_count": null,
   "id": "4141948e",
   "metadata": {},
   "outputs": [],
   "source": []
  },
  {
   "cell_type": "code",
   "execution_count": 73,
   "id": "afefc98a",
   "metadata": {},
   "outputs": [],
   "source": [
    "emp.set_details(200)"
   ]
  },
  {
   "cell_type": "code",
   "execution_count": 74,
   "id": "154a33aa",
   "metadata": {},
   "outputs": [
    {
     "data": {
      "text/plain": [
       "{'_id': 200, 'name': 'Rahul'}"
      ]
     },
     "execution_count": 74,
     "metadata": {},
     "output_type": "execute_result"
    }
   ],
   "source": [
    "emp.__dict__"
   ]
  },
  {
   "cell_type": "code",
   "execution_count": 75,
   "id": "0a069054",
   "metadata": {},
   "outputs": [
    {
     "data": {
      "text/plain": [
       "' Company = Pure Software location = pune'"
      ]
     },
     "execution_count": 75,
     "metadata": {},
     "output_type": "execute_result"
    }
   ],
   "source": [
    "emp.getentiredetails()"
   ]
  },
  {
   "cell_type": "code",
   "execution_count": 76,
   "id": "a8e87cac",
   "metadata": {},
   "outputs": [
    {
     "data": {
      "text/plain": [
       "'Pure Software'"
      ]
     },
     "execution_count": 76,
     "metadata": {},
     "output_type": "execute_result"
    }
   ],
   "source": [
    "emp.nameofcompany"
   ]
  },
  {
   "cell_type": "code",
   "execution_count": 77,
   "id": "67586624",
   "metadata": {},
   "outputs": [
    {
     "data": {
      "text/plain": [
       "'pune'"
      ]
     },
     "execution_count": 77,
     "metadata": {},
     "output_type": "execute_result"
    }
   ],
   "source": [
    "emp.location"
   ]
  },
  {
   "cell_type": "code",
   "execution_count": 78,
   "id": "8e32dce2",
   "metadata": {},
   "outputs": [],
   "source": [
    "emp2 = Company(1010,'amber')"
   ]
  },
  {
   "cell_type": "code",
   "execution_count": 79,
   "id": "a0d8f36d",
   "metadata": {},
   "outputs": [
    {
     "data": {
      "text/plain": [
       "'Pure Software'"
      ]
     },
     "execution_count": 79,
     "metadata": {},
     "output_type": "execute_result"
    }
   ],
   "source": [
    "emp2.nameofcompany"
   ]
  },
  {
   "cell_type": "code",
   "execution_count": 80,
   "id": "1a24c7bc",
   "metadata": {},
   "outputs": [
    {
     "data": {
      "text/plain": [
       "'pune'"
      ]
     },
     "execution_count": 80,
     "metadata": {},
     "output_type": "execute_result"
    }
   ],
   "source": [
    "emp2.location"
   ]
  },
  {
   "cell_type": "code",
   "execution_count": 81,
   "id": "eb9b5e37",
   "metadata": {},
   "outputs": [
    {
     "data": {
      "text/plain": [
       "True"
      ]
     },
     "execution_count": 81,
     "metadata": {},
     "output_type": "execute_result"
    }
   ],
   "source": [
    "'index' in dir (str)"
   ]
  },
  {
   "cell_type": "code",
   "execution_count": null,
   "id": "5719e310",
   "metadata": {},
   "outputs": [],
   "source": []
  }
 ],
 "metadata": {
  "kernelspec": {
   "display_name": "Python 3 (ipykernel)",
   "language": "python",
   "name": "python3"
  },
  "language_info": {
   "codemirror_mode": {
    "name": "ipython",
    "version": 3
   },
   "file_extension": ".py",
   "mimetype": "text/x-python",
   "name": "python",
   "nbconvert_exporter": "python",
   "pygments_lexer": "ipython3",
   "version": "3.10.4"
  }
 },
 "nbformat": 4,
 "nbformat_minor": 5
}
