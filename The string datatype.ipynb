{
 "cells": [
  {
   "cell_type": "markdown",
   "id": "34b72284",
   "metadata": {},
   "source": [
    "## string data type is an object that is enclosed within a single, double or even a tripple quotes \n",
    "***\n"
   ]
  },
  {
   "cell_type": "code",
   "execution_count": 1,
   "id": "20ca3d83",
   "metadata": {},
   "outputs": [],
   "source": [
    "text = 'This is the first python session'"
   ]
  },
  {
   "cell_type": "code",
   "execution_count": 2,
   "id": "bb5c1b74",
   "metadata": {},
   "outputs": [
    {
     "data": {
      "text/plain": [
       "(str, 2007445238288, 32)"
      ]
     },
     "execution_count": 2,
     "metadata": {},
     "output_type": "execute_result"
    }
   ],
   "source": [
    "type(text), id(text), len(text)"
   ]
  },
  {
   "cell_type": "markdown",
   "id": "abe63479",
   "metadata": {},
   "source": [
    "# Strings are essentially containers that stores more that one item \n"
   ]
  },
  {
   "cell_type": "code",
   "execution_count": 4,
   "id": "2b426dd7",
   "metadata": {},
   "outputs": [],
   "source": [
    "text = \"This is life\"\n",
    "path = \"c:\\name\\rahul\""
   ]
  },
  {
   "cell_type": "code",
   "execution_count": 5,
   "id": "b0251b65",
   "metadata": {},
   "outputs": [
    {
     "data": {
      "text/plain": [
       "(str, str)"
      ]
     },
     "execution_count": 5,
     "metadata": {},
     "output_type": "execute_result"
    }
   ],
   "source": [
    "type(text), type(path)"
   ]
  },
  {
   "cell_type": "markdown",
   "id": "d2398954",
   "metadata": {},
   "source": [
    "# Accessing a single item from a string\n",
    "\n",
    "- use the squre notation [] known as indexing "
   ]
  },
  {
   "cell_type": "code",
   "execution_count": 6,
   "id": "8480141b",
   "metadata": {},
   "outputs": [
    {
     "data": {
      "text/plain": [
       "'This is life'"
      ]
     },
     "execution_count": 6,
     "metadata": {},
     "output_type": "execute_result"
    }
   ],
   "source": [
    "text"
   ]
  },
  {
   "cell_type": "code",
   "execution_count": 7,
   "id": "3d4e78d6",
   "metadata": {},
   "outputs": [
    {
     "data": {
      "text/plain": [
       "'T'"
      ]
     },
     "execution_count": 7,
     "metadata": {},
     "output_type": "execute_result"
    }
   ],
   "source": [
    "text[0]"
   ]
  },
  {
   "cell_type": "code",
   "execution_count": 9,
   "id": "9e3afe59",
   "metadata": {},
   "outputs": [
    {
     "data": {
      "text/plain": [
       "(' ', 'i')"
      ]
     },
     "execution_count": 9,
     "metadata": {},
     "output_type": "execute_result"
    }
   ],
   "source": [
    "text[4], text[5]"
   ]
  },
  {
   "cell_type": "code",
   "execution_count": 10,
   "id": "1411967a",
   "metadata": {},
   "outputs": [
    {
     "name": "stderr",
     "output_type": "stream",
     "text": [
      "<>:1: SyntaxWarning: 'int' object is not subscriptable; perhaps you missed a comma?\n",
      "<>:1: SyntaxWarning: 'int' object is not subscriptable; perhaps you missed a comma?\n",
      "C:\\Users\\Rahul somani\\AppData\\Local\\Temp\\ipykernel_3672\\2226046247.py:1: SyntaxWarning: 'int' object is not subscriptable; perhaps you missed a comma?\n",
      "  203[1]\n",
      "C:\\Users\\Rahul somani\\AppData\\Local\\Temp\\ipykernel_3672\\2226046247.py:1: SyntaxWarning: 'int' object is not subscriptable; perhaps you missed a comma?\n",
      "  203[1]\n",
      "C:\\Users\\Rahul somani\\AppData\\Local\\Temp\\ipykernel_3672\\2226046247.py:1: SyntaxWarning: 'int' object is not subscriptable; perhaps you missed a comma?\n",
      "  203[1]\n"
     ]
    },
    {
     "ename": "TypeError",
     "evalue": "'int' object is not subscriptable",
     "output_type": "error",
     "traceback": [
      "\u001b[1;31m---------------------------------------------------------------------------\u001b[0m",
      "\u001b[1;31mTypeError\u001b[0m                                 Traceback (most recent call last)",
      "Input \u001b[1;32mIn [10]\u001b[0m, in \u001b[0;36m<cell line: 1>\u001b[1;34m()\u001b[0m\n\u001b[1;32m----> 1\u001b[0m \u001b[38;5;241;43m203\u001b[39;49m\u001b[43m[\u001b[49m\u001b[38;5;241;43m1\u001b[39;49m\u001b[43m]\u001b[49m\n",
      "\u001b[1;31mTypeError\u001b[0m: 'int' object is not subscriptable"
     ]
    }
   ],
   "source": [
    "203[1]"
   ]
  },
  {
   "cell_type": "code",
   "execution_count": 11,
   "id": "0e5c968a",
   "metadata": {},
   "outputs": [
    {
     "name": "stdout",
     "output_type": "stream",
     "text": [
      "['__add__', '__class__', '__contains__', '__delattr__', '__dir__', '__doc__', '__eq__', '__format__', '__ge__', '__getattribute__', '__getitem__', '__getnewargs__', '__gt__', '__hash__', '__init__', '__init_subclass__', '__iter__', '__le__', '__len__', '__lt__', '__mod__', '__mul__', '__ne__', '__new__', '__reduce__', '__reduce_ex__', '__repr__', '__rmod__', '__rmul__', '__setattr__', '__sizeof__', '__str__', '__subclasshook__', 'capitalize', 'casefold', 'center', 'count', 'encode', 'endswith', 'expandtabs', 'find', 'format', 'format_map', 'index', 'isalnum', 'isalpha', 'isascii', 'isdecimal', 'isdigit', 'isidentifier', 'islower', 'isnumeric', 'isprintable', 'isspace', 'istitle', 'isupper', 'join', 'ljust', 'lower', 'lstrip', 'maketrans', 'partition', 'removeprefix', 'removesuffix', 'replace', 'rfind', 'rindex', 'rjust', 'rpartition', 'rsplit', 'rstrip', 'split', 'splitlines', 'startswith', 'strip', 'swapcase', 'title', 'translate', 'upper', 'zfill']\n"
     ]
    }
   ],
   "source": [
    "print(dir(str))"
   ]
  },
  {
   "cell_type": "code",
   "execution_count": 12,
   "id": "a8dd7d11",
   "metadata": {},
   "outputs": [
    {
     "data": {
      "text/plain": [
       "'r'"
      ]
     },
     "execution_count": 12,
     "metadata": {},
     "output_type": "execute_result"
    }
   ],
   "source": [
    "\"rahul\".__getitem__(0)"
   ]
  },
  {
   "cell_type": "code",
   "execution_count": 13,
   "id": "1102d182",
   "metadata": {},
   "outputs": [
    {
     "data": {
      "text/plain": [
       "False"
      ]
     },
     "execution_count": 13,
     "metadata": {},
     "output_type": "execute_result"
    }
   ],
   "source": [
    "'__getitem__' in dir(int)"
   ]
  },
  {
   "cell_type": "code",
   "execution_count": 14,
   "id": "6436dea2",
   "metadata": {},
   "outputs": [
    {
     "name": "stdout",
     "output_type": "stream",
     "text": [
      "['__abs__', '__add__', '__and__', '__bool__', '__ceil__', '__class__', '__delattr__', '__dir__', '__divmod__', '__doc__', '__eq__', '__float__', '__floor__', '__floordiv__', '__format__', '__ge__', '__getattribute__', '__getnewargs__', '__gt__', '__hash__', '__index__', '__init__', '__init_subclass__', '__int__', '__invert__', '__le__', '__lshift__', '__lt__', '__mod__', '__mul__', '__ne__', '__neg__', '__new__', '__or__', '__pos__', '__pow__', '__radd__', '__rand__', '__rdivmod__', '__reduce__', '__reduce_ex__', '__repr__', '__rfloordiv__', '__rlshift__', '__rmod__', '__rmul__', '__ror__', '__round__', '__rpow__', '__rrshift__', '__rshift__', '__rsub__', '__rtruediv__', '__rxor__', '__setattr__', '__sizeof__', '__str__', '__sub__', '__subclasshook__', '__truediv__', '__trunc__', '__xor__', 'as_integer_ratio', 'bit_count', 'bit_length', 'conjugate', 'denominator', 'from_bytes', 'imag', 'numerator', 'real', 'to_bytes']\n"
     ]
    }
   ],
   "source": [
    "print(dir(int))"
   ]
  },
  {
   "cell_type": "markdown",
   "id": "eb007114",
   "metadata": {},
   "source": [
    "# Negative indexing "
   ]
  },
  {
   "cell_type": "code",
   "execution_count": 15,
   "id": "64858ca9",
   "metadata": {},
   "outputs": [
    {
     "data": {
      "text/plain": [
       "'l'"
      ]
     },
     "execution_count": 15,
     "metadata": {},
     "output_type": "execute_result"
    }
   ],
   "source": [
    "\"Rahul\"[-1]"
   ]
  },
  {
   "cell_type": "code",
   "execution_count": 16,
   "id": "d9d08259",
   "metadata": {},
   "outputs": [
    {
     "data": {
      "text/plain": [
       "'u'"
      ]
     },
     "execution_count": 16,
     "metadata": {},
     "output_type": "execute_result"
    }
   ],
   "source": [
    "\"rahul\".__getitem__(-2)"
   ]
  },
  {
   "cell_type": "markdown",
   "id": "06bdaef9",
   "metadata": {},
   "source": [
    "# Slicing \n",
    "obj[start:stop:step] "
   ]
  },
  {
   "cell_type": "code",
   "execution_count": 17,
   "id": "6a107ace",
   "metadata": {},
   "outputs": [
    {
     "data": {
      "text/plain": [
       "'pyt'"
      ]
     },
     "execution_count": 17,
     "metadata": {},
     "output_type": "execute_result"
    }
   ],
   "source": [
    "text='python'\n",
    "text[0:3]  # returns 3 elements, excluding the last element index ( stop )"
   ]
  },
  {
   "cell_type": "code",
   "execution_count": 18,
   "id": "fb3b7b26",
   "metadata": {},
   "outputs": [
    {
     "data": {
      "text/plain": [
       "'pyt'"
      ]
     },
     "execution_count": 18,
     "metadata": {},
     "output_type": "execute_result"
    }
   ],
   "source": [
    "text[:3]"
   ]
  },
  {
   "cell_type": "code",
   "execution_count": 19,
   "id": "20482eb0",
   "metadata": {},
   "outputs": [
    {
     "data": {
      "text/plain": [
       "'python'"
      ]
     },
     "execution_count": 19,
     "metadata": {},
     "output_type": "execute_result"
    }
   ],
   "source": [
    "text[0::1]"
   ]
  },
  {
   "cell_type": "code",
   "execution_count": 22,
   "id": "c2d14a53",
   "metadata": {},
   "outputs": [
    {
     "data": {
      "text/plain": [
       "'pto'"
      ]
     },
     "execution_count": 22,
     "metadata": {},
     "output_type": "execute_result"
    }
   ],
   "source": [
    "text[0::2]"
   ]
  },
  {
   "cell_type": "code",
   "execution_count": 24,
   "id": "0d99a21b",
   "metadata": {},
   "outputs": [
    {
     "data": {
      "text/plain": [
       "'0x1d3631d4a70'"
      ]
     },
     "execution_count": 24,
     "metadata": {},
     "output_type": "execute_result"
    }
   ],
   "source": [
    "hex(id(text))"
   ]
  },
  {
   "cell_type": "code",
   "execution_count": 26,
   "id": "b8758ff8",
   "metadata": {},
   "outputs": [],
   "source": [
    "result = text[::]"
   ]
  },
  {
   "cell_type": "code",
   "execution_count": 27,
   "id": "e609b265",
   "metadata": {},
   "outputs": [
    {
     "data": {
      "text/plain": [
       "'0x1d3631d4a70'"
      ]
     },
     "execution_count": 27,
     "metadata": {},
     "output_type": "execute_result"
    }
   ],
   "source": [
    "hex(id(result))"
   ]
  },
  {
   "cell_type": "code",
   "execution_count": 28,
   "id": "279ef147",
   "metadata": {},
   "outputs": [
    {
     "name": "stdout",
     "output_type": "stream",
     "text": [
      "['__add__', '__class__', '__contains__', '__delattr__', '__dir__', '__doc__', '__eq__', '__format__', '__ge__', '__getattribute__', '__getitem__', '__getnewargs__', '__gt__', '__hash__', '__init__', '__init_subclass__', '__iter__', '__le__', '__len__', '__lt__', '__mod__', '__mul__', '__ne__', '__new__', '__reduce__', '__reduce_ex__', '__repr__', '__rmod__', '__rmul__', '__setattr__', '__sizeof__', '__str__', '__subclasshook__', 'capitalize', 'casefold', 'center', 'count', 'encode', 'endswith', 'expandtabs', 'find', 'format', 'format_map', 'index', 'isalnum', 'isalpha', 'isascii', 'isdecimal', 'isdigit', 'isidentifier', 'islower', 'isnumeric', 'isprintable', 'isspace', 'istitle', 'isupper', 'join', 'ljust', 'lower', 'lstrip', 'maketrans', 'partition', 'removeprefix', 'removesuffix', 'replace', 'rfind', 'rindex', 'rjust', 'rpartition', 'rsplit', 'rstrip', 'split', 'splitlines', 'startswith', 'strip', 'swapcase', 'title', 'translate', 'upper', 'zfill']\n"
     ]
    }
   ],
   "source": [
    "print(dir(str))"
   ]
  },
  {
   "cell_type": "code",
   "execution_count": 29,
   "id": "4ff1da7b",
   "metadata": {},
   "outputs": [
    {
     "data": {
      "text/plain": [
       "'rahul somani'"
      ]
     },
     "execution_count": 29,
     "metadata": {},
     "output_type": "execute_result"
    }
   ],
   "source": [
    "name = \"RahuL SoMani\"\n",
    "name.casefold()"
   ]
  },
  {
   "cell_type": "code",
   "execution_count": 30,
   "id": "c9d4d6dd",
   "metadata": {},
   "outputs": [
    {
     "data": {
      "text/plain": [
       "'Return a version of the string suitable for caseless comparisons.'"
      ]
     },
     "execution_count": 30,
     "metadata": {},
     "output_type": "execute_result"
    }
   ],
   "source": [
    "name.casefold.__doc__"
   ]
  },
  {
   "cell_type": "code",
   "execution_count": 31,
   "id": "53c80be6",
   "metadata": {},
   "outputs": [
    {
     "name": "stdout",
     "output_type": "stream",
     "text": [
      "Help on built-in function casefold:\n",
      "\n",
      "casefold() method of builtins.str instance\n",
      "    Return a version of the string suitable for caseless comparisons.\n",
      "\n"
     ]
    }
   ],
   "source": [
    "help(name.casefold)"
   ]
  },
  {
   "cell_type": "code",
   "execution_count": 32,
   "id": "5047cb3c",
   "metadata": {},
   "outputs": [
    {
     "data": {
      "text/plain": [
       "'Rahul somani'"
      ]
     },
     "execution_count": 32,
     "metadata": {},
     "output_type": "execute_result"
    }
   ],
   "source": [
    "\"rahul somani\".capitalize()"
   ]
  },
  {
   "cell_type": "code",
   "execution_count": 33,
   "id": "7d5b1e20",
   "metadata": {},
   "outputs": [
    {
     "data": {
      "text/plain": [
       "'Rahul somani'"
      ]
     },
     "execution_count": 33,
     "metadata": {},
     "output_type": "execute_result"
    }
   ],
   "source": [
    "\"rahul soMani\".capitalize()"
   ]
  },
  {
   "cell_type": "code",
   "execution_count": 34,
   "id": "fb12aff4",
   "metadata": {},
   "outputs": [
    {
     "data": {
      "text/plain": [
       "'Rahul Somani'"
      ]
     },
     "execution_count": 34,
     "metadata": {},
     "output_type": "execute_result"
    }
   ],
   "source": [
    "\"rahul somani\".title()"
   ]
  },
  {
   "cell_type": "code",
   "execution_count": 35,
   "id": "e305abff",
   "metadata": {},
   "outputs": [
    {
     "data": {
      "text/plain": [
       "<method 'split' of 'str' objects>"
      ]
     },
     "execution_count": 35,
     "metadata": {},
     "output_type": "execute_result"
    }
   ],
   "source": [
    "str.split"
   ]
  },
  {
   "cell_type": "code",
   "execution_count": 37,
   "id": "d4bffb2c",
   "metadata": {},
   "outputs": [
    {
     "name": "stdout",
     "output_type": "stream",
     "text": [
      "Return a list of the words in the string, using sep as the delimiter string.\n",
      "\n",
      "  sep\n",
      "    The delimiter according which to split the string.\n",
      "    None (the default value) means split according to any whitespace,\n",
      "    and discard empty strings from the result.\n",
      "  maxsplit\n",
      "    Maximum number of splits to do.\n",
      "    -1 (the default value) means no limit.\n"
     ]
    }
   ],
   "source": [
    "print(str.split.__doc__)"
   ]
  },
  {
   "cell_type": "code",
   "execution_count": null,
   "id": "8d6d91b8",
   "metadata": {},
   "outputs": [],
   "source": []
  },
  {
   "cell_type": "code",
   "execution_count": 38,
   "id": "75d64ff4",
   "metadata": {},
   "outputs": [
    {
     "data": {
      "text/plain": [
       "['Today', 'is', 'a', 'wonderfull', 'weather']"
      ]
     },
     "execution_count": 38,
     "metadata": {},
     "output_type": "execute_result"
    }
   ],
   "source": [
    "msg = 'Today is a wonderfull weather'\n",
    "msg.split()"
   ]
  },
  {
   "cell_type": "code",
   "execution_count": 39,
   "id": "821116d5",
   "metadata": {},
   "outputs": [
    {
     "data": {
      "text/plain": [
       "['Today is a wond', 'rfull w', 'ath', 'r']"
      ]
     },
     "execution_count": 39,
     "metadata": {},
     "output_type": "execute_result"
    }
   ],
   "source": [
    "msg.split('e')"
   ]
  },
  {
   "cell_type": "code",
   "execution_count": 40,
   "id": "eb475d3e",
   "metadata": {},
   "outputs": [
    {
     "data": {
      "text/plain": [
       "5"
      ]
     },
     "execution_count": 40,
     "metadata": {},
     "output_type": "execute_result"
    }
   ],
   "source": [
    "len(\"rahuk\")"
   ]
  },
  {
   "cell_type": "code",
   "execution_count": 41,
   "id": "ab3844c1",
   "metadata": {},
   "outputs": [
    {
     "data": {
      "text/plain": [
       "5"
      ]
     },
     "execution_count": 41,
     "metadata": {},
     "output_type": "execute_result"
    }
   ],
   "source": [
    "\"rahul\".__len__()"
   ]
  },
  {
   "cell_type": "code",
   "execution_count": 43,
   "id": "593d2ddf",
   "metadata": {},
   "outputs": [
    {
     "ename": "AttributeError",
     "evalue": "'int' object has no attribute '__len__'",
     "output_type": "error",
     "traceback": [
      "\u001b[1;31m---------------------------------------------------------------------------\u001b[0m",
      "\u001b[1;31mAttributeError\u001b[0m                            Traceback (most recent call last)",
      "Input \u001b[1;32mIn [43]\u001b[0m, in \u001b[0;36m<cell line: 1>\u001b[1;34m()\u001b[0m\n\u001b[1;32m----> 1\u001b[0m \u001b[43m(\u001b[49m\u001b[38;5;241;43m23\u001b[39;49m\u001b[43m)\u001b[49m\u001b[38;5;241;43m.\u001b[39;49m\u001b[38;5;21;43m__len__\u001b[39;49m()\n",
      "\u001b[1;31mAttributeError\u001b[0m: 'int' object has no attribute '__len__'"
     ]
    }
   ],
   "source": [
    "(23).__len__()"
   ]
  },
  {
   "cell_type": "code",
   "execution_count": 47,
   "id": "f31bcebb",
   "metadata": {},
   "outputs": [
    {
     "name": "stdout",
     "output_type": "stream",
     "text": [
      "c:\\name\\rahul\\somani\n"
     ]
    }
   ],
   "source": [
    "c = 'c:\\\\name\\\\rahul\\\\somani'\n",
    "print(c)"
   ]
  },
  {
   "cell_type": "markdown",
   "id": "ed330060",
   "metadata": {},
   "source": [
    "# The raw string . A string prefixed by the char r is a raw string \n",
    "And it tells the python interpreter to interpert the string the way we have given it "
   ]
  },
  {
   "cell_type": "code",
   "execution_count": 48,
   "id": "14b1f70e",
   "metadata": {},
   "outputs": [],
   "source": [
    "path = r'c:\\name\\rahul'"
   ]
  },
  {
   "cell_type": "code",
   "execution_count": 49,
   "id": "f88b0c9d",
   "metadata": {},
   "outputs": [
    {
     "data": {
      "text/plain": [
       "'c:\\\\name\\\\rahul'"
      ]
     },
     "execution_count": 49,
     "metadata": {},
     "output_type": "execute_result"
    }
   ],
   "source": [
    "path"
   ]
  },
  {
   "cell_type": "code",
   "execution_count": 50,
   "id": "4be88fa6",
   "metadata": {},
   "outputs": [
    {
     "name": "stdout",
     "output_type": "stream",
     "text": [
      "c:\\name\\rahul\n"
     ]
    }
   ],
   "source": [
    "print(path)"
   ]
  },
  {
   "cell_type": "markdown",
   "id": "05783de6",
   "metadata": {},
   "source": [
    "# String concatenation "
   ]
  },
  {
   "cell_type": "code",
   "execution_count": 51,
   "id": "9a711143",
   "metadata": {},
   "outputs": [],
   "source": [
    "first_name = 'python'\n",
    "last_name = 'Anaconda'\n"
   ]
  },
  {
   "cell_type": "code",
   "execution_count": 52,
   "id": "1059129d",
   "metadata": {},
   "outputs": [
    {
     "data": {
      "text/plain": [
       "'pythonAnaconda'"
      ]
     },
     "execution_count": 52,
     "metadata": {},
     "output_type": "execute_result"
    }
   ],
   "source": [
    "first_name + last_name "
   ]
  },
  {
   "cell_type": "code",
   "execution_count": 53,
   "id": "8e307e82",
   "metadata": {},
   "outputs": [
    {
     "data": {
      "text/plain": [
       "'python Anaconda'"
      ]
     },
     "execution_count": 53,
     "metadata": {},
     "output_type": "execute_result"
    }
   ],
   "source": [
    "first_name + \" \" + last_name "
   ]
  },
  {
   "cell_type": "code",
   "execution_count": 55,
   "id": "95cbf807",
   "metadata": {},
   "outputs": [
    {
     "data": {
      "text/plain": [
       "' rahul  somani  is a trainer'"
      ]
     },
     "execution_count": 55,
     "metadata": {},
     "output_type": "execute_result"
    }
   ],
   "source": [
    "\" rahul \" + \" somani \" + \" is\" + \" a trainer\""
   ]
  },
  {
   "cell_type": "code",
   "execution_count": 56,
   "id": "54f36a86",
   "metadata": {},
   "outputs": [
    {
     "data": {
      "text/plain": [
       "' rahul  somani  is a trainer'"
      ]
     },
     "execution_count": 56,
     "metadata": {},
     "output_type": "execute_result"
    }
   ],
   "source": [
    "\" rahul \"  \" somani \"  \" is\"  \" a trainer\""
   ]
  },
  {
   "cell_type": "code",
   "execution_count": 59,
   "id": "9cae97a3",
   "metadata": {},
   "outputs": [
    {
     "data": {
      "text/plain": [
       "' rahul  somani  is a trainer end'"
      ]
     },
     "execution_count": 59,
     "metadata": {},
     "output_type": "execute_result"
    }
   ],
   "source": [
    "# Why this behaviour ? An explantion needs to be given tomorrow \n",
    "val = \" end\"\n",
    "\" rahul \" + \" somani \" + \" is\" + \" a trainer\" + val"
   ]
  },
  {
   "cell_type": "code",
   "execution_count": 61,
   "id": "bf5e8e09",
   "metadata": {},
   "outputs": [
    {
     "data": {
      "text/plain": [
       "' rahul  somani  is a trainer end'"
      ]
     },
     "execution_count": 61,
     "metadata": {},
     "output_type": "execute_result"
    }
   ],
   "source": [
    " \" rahul \"  \" somani \"  \" is\"  \" a trainer\"  +val"
   ]
  },
  {
   "cell_type": "markdown",
   "id": "a1e655ec",
   "metadata": {},
   "source": [
    "# Quantifying \n",
    "*** \n",
    "Multiplying a string "
   ]
  },
  {
   "cell_type": "code",
   "execution_count": 64,
   "id": "acf6413d",
   "metadata": {},
   "outputs": [
    {
     "data": {
      "text/plain": [
       "'----------------------------------------------------------------------------------------------------'"
      ]
     },
     "execution_count": 64,
     "metadata": {},
     "output_type": "execute_result"
    }
   ],
   "source": [
    "'-'* 100"
   ]
  },
  {
   "cell_type": "code",
   "execution_count": 65,
   "id": "1c77bda6",
   "metadata": {},
   "outputs": [
    {
     "data": {
      "text/plain": [
       "<function print>"
      ]
     },
     "execution_count": 65,
     "metadata": {},
     "output_type": "execute_result"
    }
   ],
   "source": [
    "print"
   ]
  },
  {
   "cell_type": "code",
   "execution_count": 67,
   "id": "24002854",
   "metadata": {},
   "outputs": [
    {
     "data": {
      "text/plain": [
       "builtin_function_or_method"
      ]
     },
     "execution_count": 67,
     "metadata": {},
     "output_type": "execute_result"
    }
   ],
   "source": [
    "type(print)"
   ]
  },
  {
   "cell_type": "code",
   "execution_count": 68,
   "id": "5969fa45",
   "metadata": {},
   "outputs": [
    {
     "name": "stdout",
     "output_type": "stream",
     "text": [
      "rahuul\n",
      "somai\n"
     ]
    }
   ],
   "source": [
    "\n",
    "print(\"rahuul\")\n",
    "print('somai')"
   ]
  },
  {
   "cell_type": "code",
   "execution_count": 70,
   "id": "f2c56eca",
   "metadata": {},
   "outputs": [
    {
     "name": "stdout",
     "output_type": "stream",
     "text": [
      "Help on built-in function print in module builtins:\n",
      "\n",
      "print(...)\n",
      "    print(value, ..., sep=' ', end='\\n', file=sys.stdout, flush=False)\n",
      "    \n",
      "    Prints the values to a stream, or to sys.stdout by default.\n",
      "    Optional keyword arguments:\n",
      "    file:  a file-like object (stream); defaults to the current sys.stdout.\n",
      "    sep:   string inserted between values, default a space.\n",
      "    end:   string appended after the last value, default a newline.\n",
      "    flush: whether to forcibly flush the stream.\n",
      "\n"
     ]
    }
   ],
   "source": [
    "help(print)\n"
   ]
  },
  {
   "cell_type": "markdown",
   "id": "dba7e4a0",
   "metadata": {},
   "source": [
    "# Signature of print \n",
    "***\n",
    "`   print(value, ..., sep=' ', end='\\n', file=sys.stdout, flush=False) `"
   ]
  },
  {
   "cell_type": "code",
   "execution_count": 73,
   "id": "8f87e86b",
   "metadata": {},
   "outputs": [
    {
     "name": "stdout",
     "output_type": "stream",
     "text": [
      "rahul\t\tsomani\n"
     ]
    }
   ],
   "source": [
    "print(\"rahul\", end='\\t\\t')\n",
    "print(\"somani\")"
   ]
  },
  {
   "cell_type": "markdown",
   "id": "6f106f2c",
   "metadata": {},
   "source": [
    "# User input "
   ]
  },
  {
   "cell_type": "code",
   "execution_count": 74,
   "id": "e47bb359",
   "metadata": {},
   "outputs": [
    {
     "data": {
      "text/plain": [
       "<bound method Kernel.raw_input of <ipykernel.ipkernel.IPythonKernel object at 0x000001D365091F60>>"
      ]
     },
     "execution_count": 74,
     "metadata": {},
     "output_type": "execute_result"
    }
   ],
   "source": [
    "input"
   ]
  },
  {
   "cell_type": "code",
   "execution_count": 75,
   "id": "6edd018e",
   "metadata": {},
   "outputs": [
    {
     "data": {
      "text/plain": [
       "method"
      ]
     },
     "execution_count": 75,
     "metadata": {},
     "output_type": "execute_result"
    }
   ],
   "source": [
    "type(input)"
   ]
  },
  {
   "cell_type": "code",
   "execution_count": 77,
   "id": "5919b53a",
   "metadata": {},
   "outputs": [
    {
     "name": "stdout",
     "output_type": "stream",
     "text": [
      "Ente your first nameRahul\n",
      "Enter your last nameSomani\n",
      "Rahul Somani\n"
     ]
    }
   ],
   "source": [
    "fname = input(\"Ente your first name\")\n",
    "lname = input (\"Enter your last name\")\n",
    "print(fname + \" \" + lname)\n"
   ]
  },
  {
   "cell_type": "code",
   "execution_count": 79,
   "id": "1032e80f",
   "metadata": {},
   "outputs": [
    {
     "name": "stdout",
     "output_type": "stream",
     "text": [
      "Enter marks for eng20\n",
      "Enter marks for math30\n",
      "Enter marks for science40\n",
      "203040\n"
     ]
    }
   ],
   "source": [
    "eng = input(\"Enter marks for eng\")\n",
    "math = input(\"Enter marks for math\")\n",
    "science = input(\"Enter marks for science\")\n",
    "print(eng + math + science)"
   ]
  },
  {
   "cell_type": "code",
   "execution_count": 80,
   "id": "0fc9b452",
   "metadata": {},
   "outputs": [
    {
     "name": "stdout",
     "output_type": "stream",
     "text": [
      "Enter marks for eng20\n",
      "Enter marks for math30\n",
      "Enter marks for science40\n",
      "90\n"
     ]
    }
   ],
   "source": [
    "eng = int(input(\"Enter marks for eng\"))\n",
    "math = int(input(\"Enter marks for math\"))\n",
    "science = int(input(\"Enter marks for science\"))\n",
    "print(eng + math + science)"
   ]
  },
  {
   "cell_type": "markdown",
   "id": "d826ae16",
   "metadata": {},
   "source": [
    "# f-String\n",
    " -String prefixed the char f is known to be a f-string \n",
    " -require a placeholder denote by {varname} "
   ]
  },
  {
   "cell_type": "code",
   "execution_count": 82,
   "id": "f2161724",
   "metadata": {},
   "outputs": [
    {
     "name": "stdout",
     "output_type": "stream",
     "text": [
      " Hey {name} you are {age} years old \n"
     ]
    }
   ],
   "source": [
    "name = 'Rahul' \n",
    "age = 42 \n",
    "\n",
    "print(f' Hey {name} you are {age} years old ')"
   ]
  },
  {
   "cell_type": "code",
   "execution_count": 83,
   "id": "f60c9315",
   "metadata": {},
   "outputs": [
    {
     "data": {
      "text/plain": [
       "<method 'format' of 'str' objects>"
      ]
     },
     "execution_count": 83,
     "metadata": {},
     "output_type": "execute_result"
    }
   ],
   "source": [
    "# The format method on the sring \n",
    "str.format"
   ]
  },
  {
   "cell_type": "code",
   "execution_count": 84,
   "id": "c1e191e3",
   "metadata": {},
   "outputs": [
    {
     "name": "stdout",
     "output_type": "stream",
     "text": [
      "Help on method_descriptor:\n",
      "\n",
      "format(...)\n",
      "    S.format(*args, **kwargs) -> str\n",
      "    \n",
      "    Return a formatted version of S, using substitutions from args and kwargs.\n",
      "    The substitutions are identified by braces ('{' and '}').\n",
      "\n"
     ]
    }
   ],
   "source": [
    "help(str.format)"
   ]
  },
  {
   "cell_type": "code",
   "execution_count": 85,
   "id": "c6d2908d",
   "metadata": {},
   "outputs": [
    {
     "name": "stdout",
     "output_type": "stream",
     "text": [
      "Hey Rahul you are 42 years only\n"
     ]
    }
   ],
   "source": [
    "name = 'Rahul' \n",
    "age = 42 \n",
    "print(\"Hey {} you are {} years only\".format(name,age))"
   ]
  },
  {
   "cell_type": "code",
   "execution_count": 86,
   "id": "08d972f1",
   "metadata": {},
   "outputs": [
    {
     "name": "stdout",
     "output_type": "stream",
     "text": [
      "Hey Rahul you are 42 years only\n"
     ]
    }
   ],
   "source": [
    "name = 'Rahul' \n",
    "age = 42 \n",
    "print(\"Hey {0} you are {1} years only\".format(name,age))"
   ]
  },
  {
   "cell_type": "code",
   "execution_count": 87,
   "id": "16288a47",
   "metadata": {},
   "outputs": [
    {
     "name": "stdout",
     "output_type": "stream",
     "text": [
      "Hey 42 you are Rahul years only\n"
     ]
    }
   ],
   "source": [
    "name = 'Rahul' \n",
    "age = 42 \n",
    "print(\"Hey {1} you are {0} years only\".format(name,age))"
   ]
  },
  {
   "cell_type": "code",
   "execution_count": 88,
   "id": "9c42c5cd",
   "metadata": {},
   "outputs": [
    {
     "data": {
      "text/plain": [
       "<method 'center' of 'str' objects>"
      ]
     },
     "execution_count": 88,
     "metadata": {},
     "output_type": "execute_result"
    }
   ],
   "source": [
    "str.center"
   ]
  },
  {
   "cell_type": "code",
   "execution_count": 89,
   "id": "71fa4c37",
   "metadata": {},
   "outputs": [
    {
     "data": {
      "text/plain": [
       "'Return a centered string of length width.\\n\\nPadding is done using the specified fill character (default is a space).'"
      ]
     },
     "execution_count": 89,
     "metadata": {},
     "output_type": "execute_result"
    }
   ],
   "source": [
    "str.center.__doc__"
   ]
  },
  {
   "cell_type": "code",
   "execution_count": 90,
   "id": "164ec973",
   "metadata": {},
   "outputs": [
    {
     "data": {
      "text/plain": [
       "'***********************************************rahul************************************************'"
      ]
     },
     "execution_count": 90,
     "metadata": {},
     "output_type": "execute_result"
    }
   ],
   "source": [
    "\"rahul\".center(100,\"*\")"
   ]
  },
  {
   "cell_type": "markdown",
   "id": "9020cd0d",
   "metadata": {},
   "source": [
    "# Strip method on the string "
   ]
  },
  {
   "cell_type": "code",
   "execution_count": 92,
   "id": "90d7c8eb",
   "metadata": {},
   "outputs": [
    {
     "data": {
      "text/plain": [
       "<method 'strip' of 'str' objects>"
      ]
     },
     "execution_count": 92,
     "metadata": {},
     "output_type": "execute_result"
    }
   ],
   "source": [
    "str.strip"
   ]
  },
  {
   "cell_type": "code",
   "execution_count": 93,
   "id": "e35708a6",
   "metadata": {},
   "outputs": [
    {
     "data": {
      "text/plain": [
       "'Return a copy of the string with leading and trailing whitespace removed.\\n\\nIf chars is given and not None, remove characters in chars instead.'"
      ]
     },
     "execution_count": 93,
     "metadata": {},
     "output_type": "execute_result"
    }
   ],
   "source": [
    "str.strip.__doc__."
   ]
  },
  {
   "cell_type": "code",
   "execution_count": 94,
   "id": "defb5a97",
   "metadata": {},
   "outputs": [
    {
     "data": {
      "text/plain": [
       "'Somaji%'"
      ]
     },
     "execution_count": 94,
     "metadata": {},
     "output_type": "execute_result"
    }
   ],
   "source": [
    "\"Somaji%\".strip()"
   ]
  },
  {
   "cell_type": "code",
   "execution_count": 95,
   "id": "ccd8f97b",
   "metadata": {},
   "outputs": [
    {
     "data": {
      "text/plain": [
       "'Somaji'"
      ]
     },
     "execution_count": 95,
     "metadata": {},
     "output_type": "execute_result"
    }
   ],
   "source": [
    "\"Somaji%\".strip('%')"
   ]
  },
  {
   "cell_type": "code",
   "execution_count": 96,
   "id": "2a56533d",
   "metadata": {},
   "outputs": [
    {
     "data": {
      "text/plain": [
       "'somani'"
      ]
     },
     "execution_count": 96,
     "metadata": {},
     "output_type": "execute_result"
    }
   ],
   "source": [
    "\"somani%?&\".strip('%?&')"
   ]
  },
  {
   "cell_type": "code",
   "execution_count": 99,
   "id": "5deac5f8",
   "metadata": {},
   "outputs": [],
   "source": [
    "l = [1,2,3,4]"
   ]
  },
  {
   "cell_type": "code",
   "execution_count": 100,
   "id": "5e54f0cc",
   "metadata": {},
   "outputs": [
    {
     "ename": "IndexError",
     "evalue": "list index out of range",
     "output_type": "error",
     "traceback": [
      "\u001b[1;31m---------------------------------------------------------------------------\u001b[0m",
      "\u001b[1;31mIndexError\u001b[0m                                Traceback (most recent call last)",
      "Input \u001b[1;32mIn [100]\u001b[0m, in \u001b[0;36m<cell line: 1>\u001b[1;34m()\u001b[0m\n\u001b[1;32m----> 1\u001b[0m \u001b[43ml\u001b[49m\u001b[43m[\u001b[49m\u001b[38;5;241;43m4\u001b[39;49m\u001b[43m]\u001b[49m\n",
      "\u001b[1;31mIndexError\u001b[0m: list index out of range"
     ]
    }
   ],
   "source": [
    "l[4]"
   ]
  },
  {
   "cell_type": "code",
   "execution_count": 101,
   "id": "21e58d63",
   "metadata": {},
   "outputs": [
    {
     "data": {
      "text/plain": [
       "4"
      ]
     },
     "execution_count": 101,
     "metadata": {},
     "output_type": "execute_result"
    }
   ],
   "source": [
    "l[3]"
   ]
  },
  {
   "cell_type": "code",
   "execution_count": 102,
   "id": "9d20d61a",
   "metadata": {},
   "outputs": [
    {
     "data": {
      "text/plain": [
       "4"
      ]
     },
     "execution_count": 102,
     "metadata": {},
     "output_type": "execute_result"
    }
   ],
   "source": [
    "l[-1]"
   ]
  },
  {
   "cell_type": "code",
   "execution_count": 103,
   "id": "0c5ce868",
   "metadata": {},
   "outputs": [
    {
     "data": {
      "text/plain": [
       "[1, 2]"
      ]
     },
     "execution_count": 103,
     "metadata": {},
     "output_type": "execute_result"
    }
   ],
   "source": [
    "l[:2]"
   ]
  },
  {
   "cell_type": "code",
   "execution_count": 105,
   "id": "f09119e2",
   "metadata": {},
   "outputs": [
    {
     "data": {
      "text/plain": [
       "4"
      ]
     },
     "execution_count": 105,
     "metadata": {},
     "output_type": "execute_result"
    }
   ],
   "source": [
    "len(l)"
   ]
  },
  {
   "cell_type": "code",
   "execution_count": 106,
   "id": "b08421c2",
   "metadata": {},
   "outputs": [
    {
     "data": {
      "text/plain": [
       "4"
      ]
     },
     "execution_count": 106,
     "metadata": {},
     "output_type": "execute_result"
    }
   ],
   "source": [
    "l.__len__()"
   ]
  },
  {
   "cell_type": "markdown",
   "id": "9efe5096",
   "metadata": {},
   "source": [
    "can we update the values in the list "
   ]
  },
  {
   "cell_type": "code",
   "execution_count": 108,
   "id": "ec64a7ce",
   "metadata": {},
   "outputs": [
    {
     "data": {
      "text/plain": [
       "[1, 2, 3, 4]"
      ]
     },
     "execution_count": 108,
     "metadata": {},
     "output_type": "execute_result"
    }
   ],
   "source": [
    "l"
   ]
  },
  {
   "cell_type": "code",
   "execution_count": 109,
   "id": "7184cf83",
   "metadata": {},
   "outputs": [],
   "source": [
    "l[0]= \"First\"\n",
    "l[1]= \"Second\""
   ]
  },
  {
   "cell_type": "code",
   "execution_count": 110,
   "id": "ade817a4",
   "metadata": {},
   "outputs": [
    {
     "data": {
      "text/plain": [
       "(['First', 'Second', 3, 4], 2007474871296)"
      ]
     },
     "execution_count": 110,
     "metadata": {},
     "output_type": "execute_result"
    }
   ],
   "source": [
    "l, id(l)"
   ]
  },
  {
   "cell_type": "markdown",
   "id": "26a1352f",
   "metadata": {},
   "source": [
    "# Setting items in a List "
   ]
  },
  {
   "cell_type": "code",
   "execution_count": 113,
   "id": "30c8246e",
   "metadata": {},
   "outputs": [
    {
     "data": {
      "text/plain": [
       "['First', 'Second', 3, 4]"
      ]
     },
     "execution_count": 113,
     "metadata": {},
     "output_type": "execute_result"
    }
   ],
   "source": [
    "l"
   ]
  },
  {
   "cell_type": "code",
   "execution_count": 114,
   "id": "025551af",
   "metadata": {},
   "outputs": [
    {
     "data": {
      "text/plain": [
       "<method-wrapper '__setitem__' of list object at 0x000001D366D39C00>"
      ]
     },
     "execution_count": 114,
     "metadata": {},
     "output_type": "execute_result"
    }
   ],
   "source": [
    "l.__setitem__"
   ]
  },
  {
   "cell_type": "code",
   "execution_count": 115,
   "id": "62deb7ee",
   "metadata": {},
   "outputs": [
    {
     "data": {
      "text/plain": [
       "'Set self[key] to value.'"
      ]
     },
     "execution_count": 115,
     "metadata": {},
     "output_type": "execute_result"
    }
   ],
   "source": [
    "l.__setitem__.__doc__"
   ]
  },
  {
   "cell_type": "code",
   "execution_count": 120,
   "id": "ad0a7b55",
   "metadata": {},
   "outputs": [],
   "source": [
    "l.__setitem__(2,'test')"
   ]
  },
  {
   "cell_type": "code",
   "execution_count": 121,
   "id": "251f6279",
   "metadata": {},
   "outputs": [
    {
     "data": {
      "text/plain": [
       "['First', 'Second', 'test', 4]"
      ]
     },
     "execution_count": 121,
     "metadata": {},
     "output_type": "execute_result"
    }
   ],
   "source": [
    "l"
   ]
  },
  {
   "cell_type": "code",
   "execution_count": 122,
   "id": "7299f660",
   "metadata": {},
   "outputs": [
    {
     "data": {
      "text/plain": [
       "<function list.pop(index=-1, /)>"
      ]
     },
     "execution_count": 122,
     "metadata": {},
     "output_type": "execute_result"
    }
   ],
   "source": [
    "l.pop"
   ]
  },
  {
   "cell_type": "code",
   "execution_count": 123,
   "id": "fc6ce347",
   "metadata": {},
   "outputs": [
    {
     "data": {
      "text/plain": [
       "4"
      ]
     },
     "execution_count": 123,
     "metadata": {},
     "output_type": "execute_result"
    }
   ],
   "source": [
    "l.pop()"
   ]
  },
  {
   "cell_type": "code",
   "execution_count": 124,
   "id": "26e0607b",
   "metadata": {},
   "outputs": [
    {
     "data": {
      "text/plain": [
       "['First', 'Second', 'test']"
      ]
     },
     "execution_count": 124,
     "metadata": {},
     "output_type": "execute_result"
    }
   ],
   "source": [
    "l"
   ]
  },
  {
   "cell_type": "code",
   "execution_count": 126,
   "id": "53101b2a",
   "metadata": {},
   "outputs": [
    {
     "data": {
      "text/plain": [
       "'Second'"
      ]
     },
     "execution_count": 126,
     "metadata": {},
     "output_type": "execute_result"
    }
   ],
   "source": [
    "l.pop(-2)"
   ]
  },
  {
   "cell_type": "code",
   "execution_count": 127,
   "id": "d7c95b07",
   "metadata": {},
   "outputs": [
    {
     "data": {
      "text/plain": [
       "['First', 'test']"
      ]
     },
     "execution_count": 127,
     "metadata": {},
     "output_type": "execute_result"
    }
   ],
   "source": [
    "l"
   ]
  },
  {
   "cell_type": "code",
   "execution_count": 128,
   "id": "b2f5cf44",
   "metadata": {},
   "outputs": [],
   "source": [
    "del l[0]"
   ]
  },
  {
   "cell_type": "code",
   "execution_count": 129,
   "id": "2b9ed499",
   "metadata": {},
   "outputs": [
    {
     "data": {
      "text/plain": [
       "['test']"
      ]
     },
     "execution_count": 129,
     "metadata": {},
     "output_type": "execute_result"
    }
   ],
   "source": [
    "l"
   ]
  },
  {
   "cell_type": "markdown",
   "id": "f91fbe27",
   "metadata": {},
   "source": [
    "# delete the entire object using the del keyword "
   ]
  },
  {
   "cell_type": "code",
   "execution_count": 130,
   "id": "df3c32ae",
   "metadata": {},
   "outputs": [],
   "source": [
    "del l"
   ]
  },
  {
   "cell_type": "code",
   "execution_count": 131,
   "id": "74fae325",
   "metadata": {},
   "outputs": [
    {
     "ename": "NameError",
     "evalue": "name 'l' is not defined",
     "output_type": "error",
     "traceback": [
      "\u001b[1;31m---------------------------------------------------------------------------\u001b[0m",
      "\u001b[1;31mNameError\u001b[0m                                 Traceback (most recent call last)",
      "Input \u001b[1;32mIn [131]\u001b[0m, in \u001b[0;36m<cell line: 1>\u001b[1;34m()\u001b[0m\n\u001b[1;32m----> 1\u001b[0m \u001b[43ml\u001b[49m\n",
      "\u001b[1;31mNameError\u001b[0m: name 'l' is not defined"
     ]
    }
   ],
   "source": [
    "l"
   ]
  },
  {
   "cell_type": "code",
   "execution_count": 135,
   "id": "f3577dab",
   "metadata": {},
   "outputs": [],
   "source": [
    "l = [2,3,4]"
   ]
  },
  {
   "cell_type": "code",
   "execution_count": 136,
   "id": "7761e337",
   "metadata": {},
   "outputs": [
    {
     "data": {
      "text/plain": [
       "<function list.insert(index, object, /)>"
      ]
     },
     "execution_count": 136,
     "metadata": {},
     "output_type": "execute_result"
    }
   ],
   "source": [
    "l.insert"
   ]
  },
  {
   "cell_type": "code",
   "execution_count": 137,
   "id": "9bda0d9f",
   "metadata": {},
   "outputs": [],
   "source": [
    "l.insert(1,'Learning')"
   ]
  },
  {
   "cell_type": "code",
   "execution_count": 138,
   "id": "34f85712",
   "metadata": {},
   "outputs": [
    {
     "data": {
      "text/plain": [
       "[2, 'Learning', 3, 4]"
      ]
     },
     "execution_count": 138,
     "metadata": {},
     "output_type": "execute_result"
    }
   ],
   "source": [
    "l"
   ]
  },
  {
   "cell_type": "code",
   "execution_count": 140,
   "id": "4167dfa8",
   "metadata": {},
   "outputs": [
    {
     "ename": "TypeError",
     "evalue": "insert expected 2 arguments, got 1",
     "output_type": "error",
     "traceback": [
      "\u001b[1;31m---------------------------------------------------------------------------\u001b[0m",
      "\u001b[1;31mTypeError\u001b[0m                                 Traceback (most recent call last)",
      "Input \u001b[1;32mIn [140]\u001b[0m, in \u001b[0;36m<cell line: 1>\u001b[1;34m()\u001b[0m\n\u001b[1;32m----> 1\u001b[0m l, \u001b[43ml\u001b[49m\u001b[38;5;241;43m.\u001b[39;49m\u001b[43minsert\u001b[49m\u001b[43m(\u001b[49m\u001b[38;5;241;43m300\u001b[39;49m\u001b[43m)\u001b[49m\n",
      "\u001b[1;31mTypeError\u001b[0m: insert expected 2 arguments, got 1"
     ]
    }
   ],
   "source": [
    "l, l.insert(300)"
   ]
  },
  {
   "cell_type": "markdown",
   "id": "0d33f3c2",
   "metadata": {},
   "source": [
    "# Counting the occurences of multiple items "
   ]
  },
  {
   "cell_type": "code",
   "execution_count": 143,
   "id": "5922d24d",
   "metadata": {},
   "outputs": [],
   "source": [
    "my_list = [1,2,3,2,2,3,2,2,1,1,1,7,8,9,0]"
   ]
  },
  {
   "cell_type": "code",
   "execution_count": 144,
   "id": "42f3fccb",
   "metadata": {},
   "outputs": [
    {
     "data": {
      "text/plain": [
       "5"
      ]
     },
     "execution_count": 144,
     "metadata": {},
     "output_type": "execute_result"
    }
   ],
   "source": [
    "my_list.count(2)"
   ]
  },
  {
   "cell_type": "code",
   "execution_count": 145,
   "id": "ecd8e7e1",
   "metadata": {},
   "outputs": [
    {
     "data": {
      "text/plain": [
       "4"
      ]
     },
     "execution_count": 145,
     "metadata": {},
     "output_type": "execute_result"
    }
   ],
   "source": [
    "my_list.count(1)"
   ]
  },
  {
   "cell_type": "code",
   "execution_count": 147,
   "id": "728d248a",
   "metadata": {},
   "outputs": [],
   "source": [
    "mylist = list([1,3,4,5])"
   ]
  },
  {
   "cell_type": "code",
   "execution_count": 148,
   "id": "ffe30531",
   "metadata": {},
   "outputs": [],
   "source": [
    "pass"
   ]
  },
  {
   "cell_type": "code",
   "execution_count": 149,
   "id": "96dec1bc",
   "metadata": {},
   "outputs": [
    {
     "data": {
      "text/plain": [
       "[1, 3, 4, 5]"
      ]
     },
     "execution_count": 149,
     "metadata": {},
     "output_type": "execute_result"
    }
   ],
   "source": [
    "mylist"
   ]
  },
  {
   "cell_type": "code",
   "execution_count": 150,
   "id": "f6fcfbe5",
   "metadata": {},
   "outputs": [],
   "source": [
    "yourlist = list(\"rahul somani\")"
   ]
  },
  {
   "cell_type": "code",
   "execution_count": 151,
   "id": "acd9bd17",
   "metadata": {},
   "outputs": [
    {
     "data": {
      "text/plain": [
       "['r', 'a', 'h', 'u', 'l', ' ', 's', 'o', 'm', 'a', 'n', 'i']"
      ]
     },
     "execution_count": 151,
     "metadata": {},
     "output_type": "execute_result"
    }
   ],
   "source": [
    "yourlist"
   ]
  },
  {
   "cell_type": "code",
   "execution_count": null,
   "id": "d4965aad",
   "metadata": {},
   "outputs": [],
   "source": []
  },
  {
   "cell_type": "code",
   "execution_count": null,
   "id": "7fd96d4d",
   "metadata": {},
   "outputs": [],
   "source": []
  },
  {
   "cell_type": "code",
   "execution_count": null,
   "id": "2441e09c",
   "metadata": {},
   "outputs": [],
   "source": []
  }
 ],
 "metadata": {
  "kernelspec": {
   "display_name": "Python 3 (ipykernel)",
   "language": "python",
   "name": "python3"
  },
  "language_info": {
   "codemirror_mode": {
    "name": "ipython",
    "version": 3
   },
   "file_extension": ".py",
   "mimetype": "text/x-python",
   "name": "python",
   "nbconvert_exporter": "python",
   "pygments_lexer": "ipython3",
   "version": "3.10.4"
  }
 },
 "nbformat": 4,
 "nbformat_minor": 5
}
