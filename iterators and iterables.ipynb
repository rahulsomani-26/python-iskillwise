{
 "cells": [
  {
   "cell_type": "markdown",
   "id": "d36f2409",
   "metadata": {},
   "source": [
    "# Building custom Iterables \n"
   ]
  },
  {
   "cell_type": "code",
   "execution_count": 5,
   "id": "2f9edee9",
   "metadata": {},
   "outputs": [],
   "source": [
    "class Cube:\n",
    "    def __init__(self):\n",
    "        self.i = 0 \n",
    "        \n",
    "    def getnext(self):\n",
    "        result = self.i**3\n",
    "        self.i +=1\n",
    "        return result \n",
    "        "
   ]
  },
  {
   "cell_type": "code",
   "execution_count": 6,
   "id": "008543c8",
   "metadata": {},
   "outputs": [],
   "source": [
    "cb = Cube()"
   ]
  },
  {
   "cell_type": "code",
   "execution_count": 7,
   "id": "23005af9",
   "metadata": {},
   "outputs": [
    {
     "data": {
      "text/plain": [
       "<__main__.Cube at 0x205653d9600>"
      ]
     },
     "execution_count": 7,
     "metadata": {},
     "output_type": "execute_result"
    }
   ],
   "source": [
    "cb"
   ]
  },
  {
   "cell_type": "code",
   "execution_count": 8,
   "id": "fce1b9b7",
   "metadata": {},
   "outputs": [
    {
     "data": {
      "text/plain": [
       "{'i': 0}"
      ]
     },
     "execution_count": 8,
     "metadata": {},
     "output_type": "execute_result"
    }
   ],
   "source": [
    "cb.__dict__"
   ]
  },
  {
   "cell_type": "code",
   "execution_count": 9,
   "id": "ebb1f5ec",
   "metadata": {},
   "outputs": [],
   "source": [
    "cb2 = Cube()"
   ]
  },
  {
   "cell_type": "code",
   "execution_count": 10,
   "id": "34d217b9",
   "metadata": {},
   "outputs": [
    {
     "data": {
      "text/plain": [
       "{'i': 0}"
      ]
     },
     "execution_count": 10,
     "metadata": {},
     "output_type": "execute_result"
    }
   ],
   "source": [
    "cb2.__dict__"
   ]
  },
  {
   "cell_type": "code",
   "execution_count": 11,
   "id": "9b305dc0",
   "metadata": {},
   "outputs": [
    {
     "data": {
      "text/plain": [
       "0"
      ]
     },
     "execution_count": 11,
     "metadata": {},
     "output_type": "execute_result"
    }
   ],
   "source": [
    "cb.getnext()"
   ]
  },
  {
   "cell_type": "code",
   "execution_count": 12,
   "id": "8c385afe",
   "metadata": {},
   "outputs": [
    {
     "data": {
      "text/plain": [
       "{'i': 1}"
      ]
     },
     "execution_count": 12,
     "metadata": {},
     "output_type": "execute_result"
    }
   ],
   "source": [
    "cb.__dict__"
   ]
  },
  {
   "cell_type": "code",
   "execution_count": 13,
   "id": "b8e5ad70",
   "metadata": {},
   "outputs": [
    {
     "data": {
      "text/plain": [
       "1"
      ]
     },
     "execution_count": 13,
     "metadata": {},
     "output_type": "execute_result"
    }
   ],
   "source": [
    "cb.getnext()"
   ]
  },
  {
   "cell_type": "code",
   "execution_count": 14,
   "id": "dbf79be9",
   "metadata": {},
   "outputs": [
    {
     "data": {
      "text/plain": [
       "{'i': 2}"
      ]
     },
     "execution_count": 14,
     "metadata": {},
     "output_type": "execute_result"
    }
   ],
   "source": [
    "cb.__dict__"
   ]
  },
  {
   "cell_type": "code",
   "execution_count": 15,
   "id": "6ab158e6",
   "metadata": {},
   "outputs": [
    {
     "data": {
      "text/plain": [
       "8"
      ]
     },
     "execution_count": 15,
     "metadata": {},
     "output_type": "execute_result"
    }
   ],
   "source": [
    "cb.getnext()"
   ]
  },
  {
   "cell_type": "markdown",
   "id": "d372ee02",
   "metadata": {},
   "source": [
    "# How can we improve the code "
   ]
  },
  {
   "cell_type": "code",
   "execution_count": 16,
   "id": "db4159c4",
   "metadata": {},
   "outputs": [],
   "source": [
    "class Cube:\n",
    "    def __init__(self):\n",
    "        self.i = 0 \n",
    "        \n",
    "    def __call__(self):\n",
    "        result = self.i**3\n",
    "        self.i +=1\n",
    "        return result \n",
    "        "
   ]
  },
  {
   "cell_type": "code",
   "execution_count": 17,
   "id": "cc9842ec",
   "metadata": {},
   "outputs": [],
   "source": [
    "c = Cube()"
   ]
  },
  {
   "cell_type": "code",
   "execution_count": 18,
   "id": "b55aeff5",
   "metadata": {},
   "outputs": [
    {
     "data": {
      "text/plain": [
       "0"
      ]
     },
     "execution_count": 18,
     "metadata": {},
     "output_type": "execute_result"
    }
   ],
   "source": [
    "c()"
   ]
  },
  {
   "cell_type": "code",
   "execution_count": 19,
   "id": "e1891105",
   "metadata": {},
   "outputs": [
    {
     "data": {
      "text/plain": [
       "1"
      ]
     },
     "execution_count": 19,
     "metadata": {},
     "output_type": "execute_result"
    }
   ],
   "source": [
    "c()"
   ]
  },
  {
   "cell_type": "code",
   "execution_count": 20,
   "id": "9906c151",
   "metadata": {},
   "outputs": [
    {
     "data": {
      "text/plain": [
       "8"
      ]
     },
     "execution_count": 20,
     "metadata": {},
     "output_type": "execute_result"
    }
   ],
   "source": [
    "c()"
   ]
  },
  {
   "cell_type": "code",
   "execution_count": 21,
   "id": "767a3658",
   "metadata": {},
   "outputs": [
    {
     "data": {
      "text/plain": [
       "27"
      ]
     },
     "execution_count": 21,
     "metadata": {},
     "output_type": "execute_result"
    }
   ],
   "source": [
    "c()"
   ]
  },
  {
   "cell_type": "markdown",
   "id": "ecc25808",
   "metadata": {},
   "source": [
    "# can we use a for loop in our iterable \n"
   ]
  },
  {
   "cell_type": "code",
   "execution_count": 22,
   "id": "4e06debf",
   "metadata": {},
   "outputs": [],
   "source": [
    "c = Cube()"
   ]
  },
  {
   "cell_type": "code",
   "execution_count": 23,
   "id": "917be58e",
   "metadata": {},
   "outputs": [
    {
     "name": "stdout",
     "output_type": "stream",
     "text": [
      "0\t1\t8\t27\t64\t125\t216\t343\t512\t729\t1000\t1331\t1728\t2197\t2744\t3375\t4096\t4913\t5832\t6859\t"
     ]
    }
   ],
   "source": [
    "for _ in range(20):\n",
    "    print(c(),end='\\t')"
   ]
  },
  {
   "cell_type": "code",
   "execution_count": 24,
   "id": "71d0627b",
   "metadata": {},
   "outputs": [
    {
     "name": "stdout",
     "output_type": "stream",
     "text": [
      "8000\t9261\t10648\t12167\t13824\t15625\t17576\t19683\t21952\t24389\t27000\t29791\t32768\t35937\t39304\t42875\t46656\t50653\t54872\t59319\t64000\t68921\t74088\t79507\t85184\t91125\t97336\t103823\t110592\t117649\t125000\t132651\t140608\t148877\t157464\t166375\t175616\t185193\t195112\t205379\t216000\t226981\t238328\t250047\t262144\t274625\t287496\t300763\t314432\t328509\t343000\t357911\t373248\t389017\t405224\t421875\t438976\t456533\t474552\t493039\t512000\t531441\t551368\t571787\t592704\t614125\t636056\t658503\t681472\t704969\t729000\t753571\t778688\t804357\t830584\t857375\t884736\t912673\t941192\t970299\t1000000\t1030301\t1061208\t1092727\t1124864\t1157625\t1191016\t1225043\t1259712\t1295029\t1331000\t1367631\t1404928\t1442897\t1481544\t1520875\t1560896\t1601613\t1643032\t1685159\t1728000\t1771561\t1815848\t1860867\t1906624\t1953125\t2000376\t2048383\t2097152\t2146689\t2197000\t2248091\t2299968\t2352637\t2406104\t2460375\t2515456\t2571353\t2628072\t2685619\t2744000\t2803221\t2863288\t2924207\t2985984\t3048625\t3112136\t3176523\t3241792\t3307949\t3375000\t3442951\t3511808\t3581577\t3652264\t3723875\t3796416\t3869893\t3944312\t4019679\t4096000\t4173281\t4251528\t4330747\t4410944\t4492125\t4574296\t4657463\t4741632\t4826809\t4913000\t5000211\t5088448\t5177717\t5268024\t5359375\t5451776\t5545233\t5639752\t5735339\t5832000\t5929741\t6028568\t6128487\t6229504\t6331625\t6434856\t6539203\t6644672\t6751269\t6859000\t6967871\t7077888\t7189057\t7301384\t7414875\t7529536\t7645373\t7762392\t7880599\t8000000\t8120601\t8242408\t8365427\t8489664\t8615125\t8741816\t8869743\t8998912\t9129329\t9261000\t9393931\t9528128\t9663597\t9800344\t9938375\t10077696\t10218313\t10360232\t10503459\t"
     ]
    }
   ],
   "source": [
    "for _ in range(200):\n",
    "    print(c(),end='\\t')"
   ]
  },
  {
   "cell_type": "markdown",
   "id": "3b79dc56",
   "metadata": {},
   "source": [
    "# Lets make it finite "
   ]
  },
  {
   "cell_type": "code",
   "execution_count": 25,
   "id": "212ec7ac",
   "metadata": {},
   "outputs": [],
   "source": [
    "class Square:\n",
    "    def __init__(self,length):\n",
    "        self.i = 0 \n",
    "        self.length = length\n",
    "        \n",
    "    def getnext(self):\n",
    "        if self.i >= self.length :\n",
    "            raise StopIteration \n",
    "        else:\n",
    "            result = self.i**2\n",
    "            self.i +=1\n",
    "            return result "
   ]
  },
  {
   "cell_type": "code",
   "execution_count": 26,
   "id": "cad8569f",
   "metadata": {},
   "outputs": [],
   "source": [
    "s = Square(10)"
   ]
  },
  {
   "cell_type": "code",
   "execution_count": 27,
   "id": "e21e2143",
   "metadata": {},
   "outputs": [
    {
     "data": {
      "text/plain": [
       "{'i': 0, 'length': 10}"
      ]
     },
     "execution_count": 27,
     "metadata": {},
     "output_type": "execute_result"
    }
   ],
   "source": [
    "s.__dict__"
   ]
  },
  {
   "cell_type": "code",
   "execution_count": 28,
   "id": "854ac314",
   "metadata": {},
   "outputs": [
    {
     "data": {
      "text/plain": [
       "0"
      ]
     },
     "execution_count": 28,
     "metadata": {},
     "output_type": "execute_result"
    }
   ],
   "source": [
    "s.getnext()"
   ]
  },
  {
   "cell_type": "code",
   "execution_count": 29,
   "id": "e605796c",
   "metadata": {},
   "outputs": [
    {
     "data": {
      "text/plain": [
       "{'i': 1, 'length': 10}"
      ]
     },
     "execution_count": 29,
     "metadata": {},
     "output_type": "execute_result"
    }
   ],
   "source": [
    "s.__dict__"
   ]
  },
  {
   "cell_type": "code",
   "execution_count": 30,
   "id": "c78483cf",
   "metadata": {},
   "outputs": [
    {
     "data": {
      "text/plain": [
       "{'i': 2, 'length': 10}"
      ]
     },
     "execution_count": 30,
     "metadata": {},
     "output_type": "execute_result"
    }
   ],
   "source": [
    "s.getnext()\n",
    "s.__dict__"
   ]
  },
  {
   "cell_type": "code",
   "execution_count": 31,
   "id": "e08609e1",
   "metadata": {},
   "outputs": [
    {
     "data": {
      "text/plain": [
       "{'i': 3, 'length': 10}"
      ]
     },
     "execution_count": 31,
     "metadata": {},
     "output_type": "execute_result"
    }
   ],
   "source": [
    "s.getnext()\n",
    "s.__dict__"
   ]
  },
  {
   "cell_type": "code",
   "execution_count": 32,
   "id": "3e68d278",
   "metadata": {},
   "outputs": [
    {
     "name": "stdout",
     "output_type": "stream",
     "text": [
      "9\n"
     ]
    }
   ],
   "source": [
    "print(s.getnext())"
   ]
  },
  {
   "cell_type": "code",
   "execution_count": 33,
   "id": "2cbeac00",
   "metadata": {},
   "outputs": [
    {
     "name": "stdout",
     "output_type": "stream",
     "text": [
      "16\n"
     ]
    }
   ],
   "source": [
    "print(s.getnext())"
   ]
  },
  {
   "cell_type": "code",
   "execution_count": 34,
   "id": "da6f92bd",
   "metadata": {},
   "outputs": [
    {
     "data": {
      "text/plain": [
       "{'i': 5, 'length': 10}"
      ]
     },
     "execution_count": 34,
     "metadata": {},
     "output_type": "execute_result"
    }
   ],
   "source": [
    "s.__dict__"
   ]
  },
  {
   "cell_type": "markdown",
   "id": "475e4222",
   "metadata": {},
   "source": [
    "# Lets make a few more changes "
   ]
  },
  {
   "cell_type": "code",
   "execution_count": 36,
   "id": "a243441c",
   "metadata": {},
   "outputs": [],
   "source": [
    "class Square:\n",
    "    def __init__(self,length):\n",
    "        self.i = 0 \n",
    "        self.length = length\n",
    "        \n",
    "    def next_(self):\n",
    "        if self.i >= self.length :\n",
    "            raise StopIteration \n",
    "        else:\n",
    "            result = self.i**2\n",
    "            self.i +=1\n",
    "            return result "
   ]
  },
  {
   "cell_type": "code",
   "execution_count": 37,
   "id": "5fb29ad7",
   "metadata": {},
   "outputs": [
    {
     "name": "stdout",
     "output_type": "stream",
     "text": [
      "0\n",
      "1\n",
      "4\n",
      "9\n",
      "16\n",
      "25\n",
      "36\n",
      "49\n",
      "64\n",
      "81\n",
      "Lets see whether it prints or not\n"
     ]
    }
   ],
   "source": [
    "s = Square(10)\n",
    "while True:\n",
    "    try:\n",
    "        item = s.next_()\n",
    "        print(item)\n",
    "    except StopIteration:\n",
    "        print('Lets see whether it prints or not')\n",
    "        break \n",
    "        "
   ]
  },
  {
   "cell_type": "code",
   "execution_count": 38,
   "id": "9b891aa2",
   "metadata": {},
   "outputs": [],
   "source": [
    "class Square:\n",
    "    def __init__(self,length):\n",
    "        self.i = 0 \n",
    "        self.length = length\n",
    "        \n",
    "    def __next__(self):\n",
    "        if self.i >= self.length :\n",
    "            raise StopIteration \n",
    "        else:\n",
    "            result = self.i**2\n",
    "            self.i +=1\n",
    "            return result "
   ]
  },
  {
   "cell_type": "code",
   "execution_count": 39,
   "id": "cf06ed9b",
   "metadata": {},
   "outputs": [],
   "source": [
    "s = Square(5)"
   ]
  },
  {
   "cell_type": "code",
   "execution_count": 40,
   "id": "f94bd449",
   "metadata": {},
   "outputs": [
    {
     "data": {
      "text/plain": [
       "0"
      ]
     },
     "execution_count": 40,
     "metadata": {},
     "output_type": "execute_result"
    }
   ],
   "source": [
    "next(s)"
   ]
  },
  {
   "cell_type": "code",
   "execution_count": 41,
   "id": "cd9308cc",
   "metadata": {},
   "outputs": [
    {
     "data": {
      "text/plain": [
       "{'i': 1, 'length': 5}"
      ]
     },
     "execution_count": 41,
     "metadata": {},
     "output_type": "execute_result"
    }
   ],
   "source": [
    "s.__dict__"
   ]
  },
  {
   "cell_type": "code",
   "execution_count": 42,
   "id": "fa00f395",
   "metadata": {},
   "outputs": [
    {
     "data": {
      "text/plain": [
       "1"
      ]
     },
     "execution_count": 42,
     "metadata": {},
     "output_type": "execute_result"
    }
   ],
   "source": [
    "next(s)"
   ]
  },
  {
   "cell_type": "code",
   "execution_count": 43,
   "id": "82962d79",
   "metadata": {},
   "outputs": [
    {
     "data": {
      "text/plain": [
       "{'i': 2, 'length': 5}"
      ]
     },
     "execution_count": 43,
     "metadata": {},
     "output_type": "execute_result"
    }
   ],
   "source": [
    "s.__dict__"
   ]
  },
  {
   "cell_type": "code",
   "execution_count": 44,
   "id": "24a8f8cb",
   "metadata": {},
   "outputs": [
    {
     "data": {
      "text/plain": [
       "4"
      ]
     },
     "execution_count": 44,
     "metadata": {},
     "output_type": "execute_result"
    }
   ],
   "source": [
    "next(s)"
   ]
  },
  {
   "cell_type": "code",
   "execution_count": 45,
   "id": "21a196c4",
   "metadata": {},
   "outputs": [
    {
     "data": {
      "text/plain": [
       "{'i': 3, 'length': 5}"
      ]
     },
     "execution_count": 45,
     "metadata": {},
     "output_type": "execute_result"
    }
   ],
   "source": [
    "s.__dict__"
   ]
  },
  {
   "cell_type": "code",
   "execution_count": 46,
   "id": "9048e9af",
   "metadata": {},
   "outputs": [
    {
     "data": {
      "text/plain": [
       "9"
      ]
     },
     "execution_count": 46,
     "metadata": {},
     "output_type": "execute_result"
    }
   ],
   "source": [
    "next(s)"
   ]
  },
  {
   "cell_type": "code",
   "execution_count": 47,
   "id": "109a0251",
   "metadata": {},
   "outputs": [
    {
     "data": {
      "text/plain": [
       "{'i': 4, 'length': 5}"
      ]
     },
     "execution_count": 47,
     "metadata": {},
     "output_type": "execute_result"
    }
   ],
   "source": [
    "s.__dict__"
   ]
  },
  {
   "cell_type": "code",
   "execution_count": 48,
   "id": "4a27d4c8",
   "metadata": {},
   "outputs": [
    {
     "data": {
      "text/plain": [
       "16"
      ]
     },
     "execution_count": 48,
     "metadata": {},
     "output_type": "execute_result"
    }
   ],
   "source": [
    "next(s)"
   ]
  },
  {
   "cell_type": "code",
   "execution_count": 49,
   "id": "7f35dfd2",
   "metadata": {},
   "outputs": [
    {
     "data": {
      "text/plain": [
       "{'i': 5, 'length': 5}"
      ]
     },
     "execution_count": 49,
     "metadata": {},
     "output_type": "execute_result"
    }
   ],
   "source": [
    "s.__dict__"
   ]
  },
  {
   "cell_type": "code",
   "execution_count": 50,
   "id": "5d732e09",
   "metadata": {},
   "outputs": [
    {
     "ename": "StopIteration",
     "evalue": "",
     "output_type": "error",
     "traceback": [
      "\u001b[1;31m---------------------------------------------------------------------------\u001b[0m",
      "\u001b[1;31mStopIteration\u001b[0m                             Traceback (most recent call last)",
      "Input \u001b[1;32mIn [50]\u001b[0m, in \u001b[0;36m<cell line: 1>\u001b[1;34m()\u001b[0m\n\u001b[1;32m----> 1\u001b[0m \u001b[38;5;28;43mnext\u001b[39;49m\u001b[43m(\u001b[49m\u001b[43ms\u001b[49m\u001b[43m)\u001b[49m\n",
      "Input \u001b[1;32mIn [38]\u001b[0m, in \u001b[0;36mSquare.__next__\u001b[1;34m(self)\u001b[0m\n\u001b[0;32m      6\u001b[0m \u001b[38;5;28;01mdef\u001b[39;00m \u001b[38;5;21m__next__\u001b[39m(\u001b[38;5;28mself\u001b[39m):\n\u001b[0;32m      7\u001b[0m     \u001b[38;5;28;01mif\u001b[39;00m \u001b[38;5;28mself\u001b[39m\u001b[38;5;241m.\u001b[39mi \u001b[38;5;241m>\u001b[39m\u001b[38;5;241m=\u001b[39m \u001b[38;5;28mself\u001b[39m\u001b[38;5;241m.\u001b[39mlength :\n\u001b[1;32m----> 8\u001b[0m         \u001b[38;5;28;01mraise\u001b[39;00m \u001b[38;5;167;01mStopIteration\u001b[39;00m \n\u001b[0;32m      9\u001b[0m     \u001b[38;5;28;01melse\u001b[39;00m:\n\u001b[0;32m     10\u001b[0m         result \u001b[38;5;241m=\u001b[39m \u001b[38;5;28mself\u001b[39m\u001b[38;5;241m.\u001b[39mi\u001b[38;5;241m*\u001b[39m\u001b[38;5;241m*\u001b[39m\u001b[38;5;241m2\u001b[39m\n",
      "\u001b[1;31mStopIteration\u001b[0m: "
     ]
    }
   ],
   "source": [
    "next(s)"
   ]
  },
  {
   "cell_type": "code",
   "execution_count": 51,
   "id": "52c3c600",
   "metadata": {},
   "outputs": [
    {
     "data": {
      "text/plain": [
       "2"
      ]
     },
     "execution_count": 51,
     "metadata": {},
     "output_type": "execute_result"
    }
   ],
   "source": [
    "[1,2,3][1]"
   ]
  },
  {
   "cell_type": "code",
   "execution_count": 52,
   "id": "b128388e",
   "metadata": {},
   "outputs": [
    {
     "data": {
      "text/plain": [
       "2"
      ]
     },
     "execution_count": 52,
     "metadata": {},
     "output_type": "execute_result"
    }
   ],
   "source": [
    "[1,2,3].__getitem__(1)"
   ]
  },
  {
   "cell_type": "code",
   "execution_count": 63,
   "id": "416af020",
   "metadata": {},
   "outputs": [],
   "source": [
    "class Square:\n",
    "    def __init__(self,length):\n",
    "        self.i = 0 \n",
    "        self.length = length\n",
    "        \n",
    "    def __len__(self):\n",
    "        return self.length \n",
    "    \n",
    "    def __repr__(self):\n",
    "        return 'Square({})'.format(self.length)\n",
    "    \n",
    "    \n",
    "    def __str__(self):\n",
    "        return 'Square object'\n",
    "    \n",
    "    def __getitem__(self,i):\n",
    "        if self.i >= self.length:\n",
    "            raise IndexError\n",
    "        else:\n",
    "            result = self.i**2\n",
    "            self.i+=1\n",
    "            return result \n",
    "\n",
    "    \n",
    "    def __next__(self):\n",
    "        if self.i >= self.length :\n",
    "            raise StopIteration \n",
    "        else:\n",
    "            result = self.i**2\n",
    "            self.i +=1\n",
    "            return result \n",
    "        \n",
    "        \n",
    "        "
   ]
  },
  {
   "cell_type": "code",
   "execution_count": 64,
   "id": "14d5bda2",
   "metadata": {},
   "outputs": [],
   "source": [
    "s = Square(3)"
   ]
  },
  {
   "cell_type": "code",
   "execution_count": 65,
   "id": "8dc5375b",
   "metadata": {},
   "outputs": [
    {
     "data": {
      "text/plain": [
       "0"
      ]
     },
     "execution_count": 65,
     "metadata": {},
     "output_type": "execute_result"
    }
   ],
   "source": [
    "s[1]"
   ]
  },
  {
   "cell_type": "code",
   "execution_count": 66,
   "id": "42a983ef",
   "metadata": {},
   "outputs": [
    {
     "data": {
      "text/plain": [
       "3"
      ]
     },
     "execution_count": 66,
     "metadata": {},
     "output_type": "execute_result"
    }
   ],
   "source": [
    "len(s)"
   ]
  },
  {
   "cell_type": "code",
   "execution_count": 67,
   "id": "308ed57e",
   "metadata": {},
   "outputs": [
    {
     "data": {
      "text/plain": [
       "1"
      ]
     },
     "execution_count": 67,
     "metadata": {},
     "output_type": "execute_result"
    }
   ],
   "source": [
    "s[1]"
   ]
  },
  {
   "cell_type": "code",
   "execution_count": 68,
   "id": "2a31c913",
   "metadata": {},
   "outputs": [
    {
     "data": {
      "text/plain": [
       "4"
      ]
     },
     "execution_count": 68,
     "metadata": {},
     "output_type": "execute_result"
    }
   ],
   "source": [
    "s[1]"
   ]
  },
  {
   "cell_type": "code",
   "execution_count": 69,
   "id": "c5eb35a4",
   "metadata": {},
   "outputs": [
    {
     "ename": "IndexError",
     "evalue": "",
     "output_type": "error",
     "traceback": [
      "\u001b[1;31m---------------------------------------------------------------------------\u001b[0m",
      "\u001b[1;31mIndexError\u001b[0m                                Traceback (most recent call last)",
      "Input \u001b[1;32mIn [69]\u001b[0m, in \u001b[0;36m<cell line: 1>\u001b[1;34m()\u001b[0m\n\u001b[1;32m----> 1\u001b[0m \u001b[43ms\u001b[49m\u001b[43m[\u001b[49m\u001b[38;5;241;43m1\u001b[39;49m\u001b[43m]\u001b[49m\n",
      "Input \u001b[1;32mIn [63]\u001b[0m, in \u001b[0;36mSquare.__getitem__\u001b[1;34m(self, i)\u001b[0m\n\u001b[0;32m     16\u001b[0m \u001b[38;5;28;01mdef\u001b[39;00m \u001b[38;5;21m__getitem__\u001b[39m(\u001b[38;5;28mself\u001b[39m,i):\n\u001b[0;32m     17\u001b[0m     \u001b[38;5;28;01mif\u001b[39;00m \u001b[38;5;28mself\u001b[39m\u001b[38;5;241m.\u001b[39mi \u001b[38;5;241m>\u001b[39m\u001b[38;5;241m=\u001b[39m \u001b[38;5;28mself\u001b[39m\u001b[38;5;241m.\u001b[39mlength:\n\u001b[1;32m---> 18\u001b[0m         \u001b[38;5;28;01mraise\u001b[39;00m \u001b[38;5;167;01mIndexError\u001b[39;00m\n\u001b[0;32m     19\u001b[0m     \u001b[38;5;28;01melse\u001b[39;00m:\n\u001b[0;32m     20\u001b[0m         result \u001b[38;5;241m=\u001b[39m \u001b[38;5;28mself\u001b[39m\u001b[38;5;241m.\u001b[39mi\u001b[38;5;241m*\u001b[39m\u001b[38;5;241m*\u001b[39m\u001b[38;5;241m2\u001b[39m\n",
      "\u001b[1;31mIndexError\u001b[0m: "
     ]
    }
   ],
   "source": [
    "s[1]"
   ]
  },
  {
   "cell_type": "code",
   "execution_count": 70,
   "id": "4cb75e89",
   "metadata": {},
   "outputs": [],
   "source": [
    "s = Square(10)"
   ]
  },
  {
   "cell_type": "code",
   "execution_count": 71,
   "id": "f3487d27",
   "metadata": {},
   "outputs": [
    {
     "name": "stdout",
     "output_type": "stream",
     "text": [
      "0\n",
      "1\n",
      "4\n",
      "9\n",
      "16\n",
      "25\n",
      "36\n",
      "49\n",
      "64\n",
      "81\n"
     ]
    }
   ],
   "source": [
    "for i in range(10):\n",
    "    print(s[i])"
   ]
  },
  {
   "cell_type": "code",
   "execution_count": null,
   "id": "f9b0e70a",
   "metadata": {},
   "outputs": [],
   "source": []
  }
 ],
 "metadata": {
  "kernelspec": {
   "display_name": "Python 3 (ipykernel)",
   "language": "python",
   "name": "python3"
  },
  "language_info": {
   "codemirror_mode": {
    "name": "ipython",
    "version": 3
   },
   "file_extension": ".py",
   "mimetype": "text/x-python",
   "name": "python",
   "nbconvert_exporter": "python",
   "pygments_lexer": "ipython3",
   "version": "3.10.4"
  }
 },
 "nbformat": 4,
 "nbformat_minor": 5
}
