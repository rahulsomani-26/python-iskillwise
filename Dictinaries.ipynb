{
 "cells": [
  {
   "cell_type": "markdown",
   "id": "f224b7bf",
   "metadata": {},
   "source": [
    "# Dicitionaries\n",
    "***\n",
    "Are data structures that have the following properties\n",
    "\n",
    "- Key value pair\n",
    " - Enclosed within {}\n",
    " - Exampkle : {\"name\":'rahul','age':42}\n",
    " -   Can be accessed usin key:value pair\n",
    " -They can also be created using the dict() constructor \n"
   ]
  },
  {
   "cell_type": "code",
   "execution_count": 9,
   "id": "3db9f23b",
   "metadata": {},
   "outputs": [
    {
     "name": "stdout",
     "output_type": "stream",
     "text": [
      "{'\"_id': 101, 'name': 'amit', 'age': 41, 'designation': 'SE'}\t\t<class 'dict'>\n",
      "1607659183808\n"
     ]
    }
   ],
   "source": [
    "emp_details = {'\"_id':101,\"name\":\"amit\",\"age\":41,'designation':'SE'}\n",
    "print(emp_details,end='\\t\\t')\n",
    "print(type(emp_details))\n",
    "print(id(emp_details))"
   ]
  },
  {
   "cell_type": "code",
   "execution_count": 7,
   "id": "bd1f86d4",
   "metadata": {},
   "outputs": [],
   "source": [
    "name = emp_details['name']\n",
    "age = emp_details['age']\n",
    "profile = emp_details['designation']"
   ]
  },
  {
   "cell_type": "markdown",
   "id": "d8561c34",
   "metadata": {},
   "source": []
  },
  {
   "cell_type": "code",
   "execution_count": 8,
   "id": "49da3739",
   "metadata": {},
   "outputs": [
    {
     "data": {
      "text/plain": [
       "('amit', 41, 'SE')"
      ]
     },
     "execution_count": 8,
     "metadata": {},
     "output_type": "execute_result"
    }
   ],
   "source": [
    "name,age,profile"
   ]
  },
  {
   "cell_type": "code",
   "execution_count": 10,
   "id": "83931540",
   "metadata": {},
   "outputs": [
    {
     "name": "stdout",
     "output_type": "stream",
     "text": [
      "['__class__', '__class_getitem__', '__contains__', '__delattr__', '__delitem__', '__dir__', '__doc__', '__eq__', '__format__', '__ge__', '__getattribute__', '__getitem__', '__gt__', '__hash__', '__init__', '__init_subclass__', '__ior__', '__iter__', '__le__', '__len__', '__lt__', '__ne__', '__new__', '__or__', '__reduce__', '__reduce_ex__', '__repr__', '__reversed__', '__ror__', '__setattr__', '__setitem__', '__sizeof__', '__str__', '__subclasshook__', 'clear', 'copy', 'fromkeys', 'get', 'items', 'keys', 'pop', 'popitem', 'setdefault', 'update', 'values']\n"
     ]
    }
   ],
   "source": [
    "print(dir(emp_details))"
   ]
  },
  {
   "cell_type": "code",
   "execution_count": 11,
   "id": "9a485512",
   "metadata": {},
   "outputs": [],
   "source": [
    "items= emp_details.items()\n",
    "values = emp_details.values()\n",
    "keys = emp_details.keys()\n"
   ]
  },
  {
   "cell_type": "code",
   "execution_count": 13,
   "id": "e1c61089",
   "metadata": {},
   "outputs": [
    {
     "data": {
      "text/plain": [
       "(dict_items([('\"_id', 101), ('name', 'amit'), ('age', 41), ('designation', 'SE')]),\n",
       " 4)"
      ]
     },
     "execution_count": 13,
     "metadata": {},
     "output_type": "execute_result"
    }
   ],
   "source": [
    "items, len(items)"
   ]
  },
  {
   "cell_type": "code",
   "execution_count": 14,
   "id": "b562744e",
   "metadata": {},
   "outputs": [
    {
     "data": {
      "text/plain": [
       "dict_values([101, 'amit', 41, 'SE'])"
      ]
     },
     "execution_count": 14,
     "metadata": {},
     "output_type": "execute_result"
    }
   ],
   "source": [
    "values"
   ]
  },
  {
   "cell_type": "code",
   "execution_count": 15,
   "id": "0578f90d",
   "metadata": {},
   "outputs": [
    {
     "data": {
      "text/plain": [
       "dict_keys(['\"_id', 'name', 'age', 'designation'])"
      ]
     },
     "execution_count": 15,
     "metadata": {},
     "output_type": "execute_result"
    }
   ],
   "source": [
    "keys"
   ]
  },
  {
   "cell_type": "code",
   "execution_count": 16,
   "id": "93b57a06",
   "metadata": {},
   "outputs": [
    {
     "data": {
      "text/plain": [
       "<method 'get' of 'dict' objects>"
      ]
     },
     "execution_count": 16,
     "metadata": {},
     "output_type": "execute_result"
    }
   ],
   "source": [
    "dict.get"
   ]
  },
  {
   "cell_type": "code",
   "execution_count": 17,
   "id": "1a39a157",
   "metadata": {},
   "outputs": [
    {
     "data": {
      "text/plain": [
       "'Return the value for key if key is in the dictionary, else default.'"
      ]
     },
     "execution_count": 17,
     "metadata": {},
     "output_type": "execute_result"
    }
   ],
   "source": [
    "dict.get.__doc__"
   ]
  },
  {
   "cell_type": "code",
   "execution_count": 18,
   "id": "49b92a90",
   "metadata": {},
   "outputs": [
    {
     "name": "stdout",
     "output_type": "stream",
     "text": [
      "Help on method_descriptor:\n",
      "\n",
      "get(self, key, default=None, /)\n",
      "    Return the value for key if key is in the dictionary, else default.\n",
      "\n"
     ]
    }
   ],
   "source": [
    "help(dict.get)"
   ]
  },
  {
   "cell_type": "code",
   "execution_count": 22,
   "id": "f157fa74",
   "metadata": {},
   "outputs": [
    {
     "data": {
      "text/plain": [
       "101"
      ]
     },
     "execution_count": 22,
     "metadata": {},
     "output_type": "execute_result"
    }
   ],
   "source": [
    "emp_details.get('\"_id')"
   ]
  },
  {
   "cell_type": "code",
   "execution_count": 21,
   "id": "eb827d9d",
   "metadata": {},
   "outputs": [
    {
     "data": {
      "text/plain": [
       "'amit'"
      ]
     },
     "execution_count": 21,
     "metadata": {},
     "output_type": "execute_result"
    }
   ],
   "source": [
    "emp_details.get('name')"
   ]
  },
  {
   "cell_type": "code",
   "execution_count": 26,
   "id": "77362e82",
   "metadata": {},
   "outputs": [
    {
     "name": "stdout",
     "output_type": "stream",
     "text": [
      "Sorry the key you are looking for is not present in the dictionary\n"
     ]
    }
   ],
   "source": [
    "print(emp_details.get('height',\"Sorry the key you are looking for is not present in the dictionary\"))"
   ]
  },
  {
   "cell_type": "code",
   "execution_count": 27,
   "id": "e147a8f5",
   "metadata": {},
   "outputs": [
    {
     "data": {
      "text/plain": [
       "{'\"_id': 101, 'name': 'amit', 'age': 41, 'designation': 'SE'}"
      ]
     },
     "execution_count": 27,
     "metadata": {},
     "output_type": "execute_result"
    }
   ],
   "source": [
    "emp_details"
   ]
  },
  {
   "cell_type": "code",
   "execution_count": 29,
   "id": "420c50ed",
   "metadata": {},
   "outputs": [
    {
     "data": {
      "text/plain": [
       "41"
      ]
     },
     "execution_count": 29,
     "metadata": {},
     "output_type": "execute_result"
    }
   ],
   "source": [
    "emp_details.pop('age')"
   ]
  },
  {
   "cell_type": "code",
   "execution_count": 30,
   "id": "189f941c",
   "metadata": {},
   "outputs": [
    {
     "data": {
      "text/plain": [
       "{'\"_id': 101, 'name': 'amit', 'designation': 'SE'}"
      ]
     },
     "execution_count": 30,
     "metadata": {},
     "output_type": "execute_result"
    }
   ],
   "source": [
    "emp_details"
   ]
  },
  {
   "cell_type": "code",
   "execution_count": 31,
   "id": "2e0efdde",
   "metadata": {},
   "outputs": [
    {
     "ename": "KeyError",
     "evalue": "'a'",
     "output_type": "error",
     "traceback": [
      "\u001b[1;31m---------------------------------------------------------------------------\u001b[0m",
      "\u001b[1;31mKeyError\u001b[0m                                  Traceback (most recent call last)",
      "Input \u001b[1;32mIn [31]\u001b[0m, in \u001b[0;36m<cell line: 1>\u001b[1;34m()\u001b[0m\n\u001b[1;32m----> 1\u001b[0m \u001b[43memp_details\u001b[49m\u001b[38;5;241;43m.\u001b[39;49m\u001b[43mpop\u001b[49m\u001b[43m(\u001b[49m\u001b[38;5;124;43m'\u001b[39;49m\u001b[38;5;124;43ma\u001b[39;49m\u001b[38;5;124;43m'\u001b[39;49m\u001b[43m)\u001b[49m\n",
      "\u001b[1;31mKeyError\u001b[0m: 'a'"
     ]
    }
   ],
   "source": [
    "emp_details.pop('a')"
   ]
  },
  {
   "cell_type": "code",
   "execution_count": 32,
   "id": "171fdbef",
   "metadata": {},
   "outputs": [
    {
     "data": {
      "text/plain": [
       "'D.pop(k[,d]) -> v, remove specified key and return the corresponding value.\\n\\nIf the key is not found, return the default if given; otherwise,\\nraise a KeyError.'"
      ]
     },
     "execution_count": 32,
     "metadata": {},
     "output_type": "execute_result"
    }
   ],
   "source": [
    "dict.pop.__doc__"
   ]
  },
  {
   "cell_type": "code",
   "execution_count": 33,
   "id": "9d8f486d",
   "metadata": {},
   "outputs": [
    {
     "data": {
      "text/plain": [
       "'Sorry the key u are looking for is not present'"
      ]
     },
     "execution_count": 33,
     "metadata": {},
     "output_type": "execute_result"
    }
   ],
   "source": [
    "emp_details.pop('a','Sorry the key u are looking for is not present')"
   ]
  },
  {
   "cell_type": "code",
   "execution_count": 34,
   "id": "9c483da6",
   "metadata": {},
   "outputs": [
    {
     "data": {
      "text/plain": [
       "('designation', 'SE')"
      ]
     },
     "execution_count": 34,
     "metadata": {},
     "output_type": "execute_result"
    }
   ],
   "source": [
    "emp_details.popitem()"
   ]
  },
  {
   "cell_type": "code",
   "execution_count": 35,
   "id": "922bff8d",
   "metadata": {},
   "outputs": [
    {
     "data": {
      "text/plain": [
       "{'\"_id': 101, 'name': 'amit'}"
      ]
     },
     "execution_count": 35,
     "metadata": {},
     "output_type": "execute_result"
    }
   ],
   "source": [
    "emp_details"
   ]
  },
  {
   "cell_type": "code",
   "execution_count": 36,
   "id": "517ad4a2",
   "metadata": {},
   "outputs": [
    {
     "data": {
      "text/plain": [
       "('name', 'amit')"
      ]
     },
     "execution_count": 36,
     "metadata": {},
     "output_type": "execute_result"
    }
   ],
   "source": [
    "emp_details.popitem()"
   ]
  },
  {
   "cell_type": "code",
   "execution_count": 37,
   "id": "0676194f",
   "metadata": {},
   "outputs": [
    {
     "data": {
      "text/plain": [
       "{'\"_id': 101}"
      ]
     },
     "execution_count": 37,
     "metadata": {},
     "output_type": "execute_result"
    }
   ],
   "source": [
    "emp_details"
   ]
  },
  {
   "cell_type": "code",
   "execution_count": 38,
   "id": "202648eb",
   "metadata": {},
   "outputs": [
    {
     "data": {
      "text/plain": [
       "('\"_id', 101)"
      ]
     },
     "execution_count": 38,
     "metadata": {},
     "output_type": "execute_result"
    }
   ],
   "source": [
    "emp_details.popitem()"
   ]
  },
  {
   "cell_type": "code",
   "execution_count": 39,
   "id": "5da0f751",
   "metadata": {},
   "outputs": [
    {
     "data": {
      "text/plain": [
       "{}"
      ]
     },
     "execution_count": 39,
     "metadata": {},
     "output_type": "execute_result"
    }
   ],
   "source": [
    "emp_details"
   ]
  },
  {
   "cell_type": "code",
   "execution_count": 40,
   "id": "d7fe80d6",
   "metadata": {},
   "outputs": [],
   "source": [
    "a = {1,2,3,2}"
   ]
  },
  {
   "cell_type": "code",
   "execution_count": 41,
   "id": "97496b48",
   "metadata": {},
   "outputs": [],
   "source": [
    "b = {1,2,4}"
   ]
  },
  {
   "cell_type": "code",
   "execution_count": 42,
   "id": "9edf1b38",
   "metadata": {},
   "outputs": [
    {
     "data": {
      "text/plain": [
       "{1, 2, 3, 4}"
      ]
     },
     "execution_count": 42,
     "metadata": {},
     "output_type": "execute_result"
    }
   ],
   "source": [
    "a.union(b)"
   ]
  },
  {
   "cell_type": "code",
   "execution_count": 44,
   "id": "891d1fd5",
   "metadata": {},
   "outputs": [
    {
     "data": {
      "text/plain": [
       "{1, 2}"
      ]
     },
     "execution_count": 44,
     "metadata": {},
     "output_type": "execute_result"
    }
   ],
   "source": [
    "a.intersection(b)"
   ]
  },
  {
   "cell_type": "code",
   "execution_count": 45,
   "id": "04354a60",
   "metadata": {},
   "outputs": [
    {
     "data": {
      "text/plain": [
       "{3}"
      ]
     },
     "execution_count": 45,
     "metadata": {},
     "output_type": "execute_result"
    }
   ],
   "source": [
    "a- b"
   ]
  },
  {
   "cell_type": "code",
   "execution_count": 46,
   "id": "f4f6410a",
   "metadata": {},
   "outputs": [
    {
     "data": {
      "text/plain": [
       "{4}"
      ]
     },
     "execution_count": 46,
     "metadata": {},
     "output_type": "execute_result"
    }
   ],
   "source": [
    "b -a"
   ]
  },
  {
   "cell_type": "code",
   "execution_count": null,
   "id": "4289cd09",
   "metadata": {},
   "outputs": [],
   "source": []
  }
 ],
 "metadata": {
  "kernelspec": {
   "display_name": "Python 3 (ipykernel)",
   "language": "python",
   "name": "python3"
  },
  "language_info": {
   "codemirror_mode": {
    "name": "ipython",
    "version": 3
   },
   "file_extension": ".py",
   "mimetype": "text/x-python",
   "name": "python",
   "nbconvert_exporter": "python",
   "pygments_lexer": "ipython3",
   "version": "3.10.4"
  }
 },
 "nbformat": 4,
 "nbformat_minor": 5
}
