{
 "cells": [
  {
   "cell_type": "markdown",
   "id": "4a5fc31b",
   "metadata": {},
   "source": [
    "# Functions \n",
    "***\n"
   ]
  },
  {
   "cell_type": "markdown",
   "id": "294d9c42",
   "metadata": {},
   "source": [
    "Functions are defined by the keyword `def` followed by the function name and list of arguments"
   ]
  },
  {
   "cell_type": "code",
   "execution_count": 1,
   "id": "5991edf8",
   "metadata": {},
   "outputs": [],
   "source": [
    "def my_func():\n",
    "    print('Hello world')\n",
    "    \n",
    "    "
   ]
  },
  {
   "cell_type": "code",
   "execution_count": 2,
   "id": "2130e27b",
   "metadata": {},
   "outputs": [
    {
     "data": {
      "text/plain": [
       "<function __main__.my_func()>"
      ]
     },
     "execution_count": 2,
     "metadata": {},
     "output_type": "execute_result"
    }
   ],
   "source": [
    "my_func"
   ]
  },
  {
   "cell_type": "code",
   "execution_count": 3,
   "id": "5c0f873b",
   "metadata": {},
   "outputs": [
    {
     "name": "stdout",
     "output_type": "stream",
     "text": [
      "Help on function my_func in module __main__:\n",
      "\n",
      "my_func()\n",
      "\n"
     ]
    }
   ],
   "source": [
    "help(my_func)"
   ]
  },
  {
   "cell_type": "code",
   "execution_count": 4,
   "id": "b57c44fb",
   "metadata": {},
   "outputs": [
    {
     "name": "stdout",
     "output_type": "stream",
     "text": [
      "Hello world\n"
     ]
    }
   ],
   "source": [
    "my_func()"
   ]
  },
  {
   "cell_type": "code",
   "execution_count": 5,
   "id": "822b3c76",
   "metadata": {},
   "outputs": [],
   "source": [
    "def adder(a,b):\n",
    "    print('Within adder')\n",
    "    return a+b \n",
    "    "
   ]
  },
  {
   "cell_type": "code",
   "execution_count": 6,
   "id": "bce72d44",
   "metadata": {},
   "outputs": [
    {
     "data": {
      "text/plain": [
       "<function __main__.adder(a, b)>"
      ]
     },
     "execution_count": 6,
     "metadata": {},
     "output_type": "execute_result"
    }
   ],
   "source": [
    "adder"
   ]
  },
  {
   "cell_type": "code",
   "execution_count": 7,
   "id": "cd58d801",
   "metadata": {},
   "outputs": [
    {
     "name": "stdout",
     "output_type": "stream",
     "text": [
      "Within adder\n"
     ]
    },
    {
     "data": {
      "text/plain": [
       "5"
      ]
     },
     "execution_count": 7,
     "metadata": {},
     "output_type": "execute_result"
    }
   ],
   "source": [
    "adder(2,3)"
   ]
  },
  {
   "cell_type": "code",
   "execution_count": 9,
   "id": "40441cb1",
   "metadata": {},
   "outputs": [
    {
     "data": {
      "text/plain": [
       "(1938558061008, function)"
      ]
     },
     "execution_count": 9,
     "metadata": {},
     "output_type": "execute_result"
    }
   ],
   "source": [
    "id(adder), type(adder)"
   ]
  },
  {
   "cell_type": "code",
   "execution_count": 10,
   "id": "d43956e6",
   "metadata": {},
   "outputs": [
    {
     "name": "stdout",
     "output_type": "stream",
     "text": [
      "Help on function adder in module __main__:\n",
      "\n",
      "adder(a, b)\n",
      "\n"
     ]
    }
   ],
   "source": [
    "help(adder)"
   ]
  },
  {
   "cell_type": "code",
   "execution_count": 11,
   "id": "293dfda5",
   "metadata": {},
   "outputs": [
    {
     "data": {
      "text/plain": [
       "<function globals()>"
      ]
     },
     "execution_count": 11,
     "metadata": {},
     "output_type": "execute_result"
    }
   ],
   "source": [
    "globals"
   ]
  },
  {
   "cell_type": "code",
   "execution_count": 12,
   "id": "3c2ad530",
   "metadata": {},
   "outputs": [
    {
     "data": {
      "text/plain": [
       "{'__name__': '__main__',\n",
       " '__doc__': 'Automatically created module for IPython interactive environment',\n",
       " '__package__': None,\n",
       " '__loader__': None,\n",
       " '__spec__': None,\n",
       " '__builtin__': <module 'builtins' (built-in)>,\n",
       " '__builtins__': <module 'builtins' (built-in)>,\n",
       " '_ih': ['',\n",
       "  \"def my_func():\\n    print('Hello world')\\n    \\n    \",\n",
       "  'my_func',\n",
       "  'help(my_func)',\n",
       "  'my_func()',\n",
       "  \"def adder(a,b):\\n    print('Within adder')\\n    return a+b \\n    \",\n",
       "  'adder',\n",
       "  'adder(2,3)',\n",
       "  'id(adder)',\n",
       "  'id(adder), type(adder)',\n",
       "  'help(adder)',\n",
       "  'globals',\n",
       "  'globals()'],\n",
       " '_oh': {2: <function __main__.my_func()>,\n",
       "  6: <function __main__.adder(a, b)>,\n",
       "  7: 5,\n",
       "  8: 1938558061008,\n",
       "  9: (1938558061008, function),\n",
       "  11: <function globals()>},\n",
       " '_dh': [WindowsPath('C:/Users/Rahul somani/Desktop/iskillbox python/Day-2')],\n",
       " 'In': ['',\n",
       "  \"def my_func():\\n    print('Hello world')\\n    \\n    \",\n",
       "  'my_func',\n",
       "  'help(my_func)',\n",
       "  'my_func()',\n",
       "  \"def adder(a,b):\\n    print('Within adder')\\n    return a+b \\n    \",\n",
       "  'adder',\n",
       "  'adder(2,3)',\n",
       "  'id(adder)',\n",
       "  'id(adder), type(adder)',\n",
       "  'help(adder)',\n",
       "  'globals',\n",
       "  'globals()'],\n",
       " 'Out': {2: <function __main__.my_func()>,\n",
       "  6: <function __main__.adder(a, b)>,\n",
       "  7: 5,\n",
       "  8: 1938558061008,\n",
       "  9: (1938558061008, function),\n",
       "  11: <function globals()>},\n",
       " 'get_ipython': <bound method InteractiveShell.get_ipython of <ipykernel.zmqshell.ZMQInteractiveShell object at 0x000001C35B0A49D0>>,\n",
       " 'exit': <IPython.core.autocall.ZMQExitAutocall at 0x1c35b0a4f40>,\n",
       " 'quit': <IPython.core.autocall.ZMQExitAutocall at 0x1c35b0a4f40>,\n",
       " '_': <function globals()>,\n",
       " '__': (1938558061008, function),\n",
       " '___': 1938558061008,\n",
       " '_i': 'globals',\n",
       " '_ii': 'help(adder)',\n",
       " '_iii': 'id(adder), type(adder)',\n",
       " '_i1': \"def my_func():\\n    print('Hello world')\\n    \\n    \",\n",
       " 'my_func': <function __main__.my_func()>,\n",
       " '_i2': 'my_func',\n",
       " '_2': <function __main__.my_func()>,\n",
       " '_i3': 'help(my_func)',\n",
       " '_i4': 'my_func()',\n",
       " '_i5': \"def adder(a,b):\\n    print('Within adder')\\n    return a+b \\n    \",\n",
       " 'adder': <function __main__.adder(a, b)>,\n",
       " '_i6': 'adder',\n",
       " '_6': <function __main__.adder(a, b)>,\n",
       " '_i7': 'adder(2,3)',\n",
       " '_7': 5,\n",
       " '_i8': 'id(adder)',\n",
       " '_8': 1938558061008,\n",
       " '_i9': 'id(adder), type(adder)',\n",
       " '_9': (1938558061008, function),\n",
       " '_i10': 'help(adder)',\n",
       " '_i11': 'globals',\n",
       " '_11': <function globals()>,\n",
       " '_i12': 'globals()'}"
      ]
     },
     "execution_count": 12,
     "metadata": {},
     "output_type": "execute_result"
    }
   ],
   "source": [
    "globals()"
   ]
  },
  {
   "cell_type": "code",
   "execution_count": 13,
   "id": "c2f70de7",
   "metadata": {},
   "outputs": [
    {
     "data": {
      "text/plain": [
       "'adder'"
      ]
     },
     "execution_count": 13,
     "metadata": {},
     "output_type": "execute_result"
    }
   ],
   "source": [
    "globals()['_i6']"
   ]
  },
  {
   "cell_type": "code",
   "execution_count": 14,
   "id": "2b113fe7",
   "metadata": {},
   "outputs": [
    {
     "ename": "NameError",
     "evalue": "name 'n' is not defined",
     "output_type": "error",
     "traceback": [
      "\u001b[1;31m---------------------------------------------------------------------------\u001b[0m",
      "\u001b[1;31mNameError\u001b[0m                                 Traceback (most recent call last)",
      "Input \u001b[1;32mIn [14]\u001b[0m, in \u001b[0;36m<cell line: 1>\u001b[1;34m()\u001b[0m\n\u001b[1;32m----> 1\u001b[0m \u001b[43mn\u001b[49m\n",
      "\u001b[1;31mNameError\u001b[0m: name 'n' is not defined"
     ]
    }
   ],
   "source": [
    "n"
   ]
  },
  {
   "cell_type": "code",
   "execution_count": 15,
   "id": "7fa0857e",
   "metadata": {},
   "outputs": [],
   "source": [
    "def add(a,b):\n",
    "    print(a+b)"
   ]
  },
  {
   "cell_type": "code",
   "execution_count": 16,
   "id": "30b54b18",
   "metadata": {},
   "outputs": [
    {
     "name": "stdout",
     "output_type": "stream",
     "text": [
      "5\n"
     ]
    }
   ],
   "source": [
    "add(2,3)"
   ]
  },
  {
   "cell_type": "code",
   "execution_count": 17,
   "id": "9de2e598",
   "metadata": {},
   "outputs": [
    {
     "name": "stdout",
     "output_type": "stream",
     "text": [
      "5\n",
      "None\n"
     ]
    }
   ],
   "source": [
    "print(add(2,3))"
   ]
  },
  {
   "cell_type": "code",
   "execution_count": 19,
   "id": "53162415",
   "metadata": {},
   "outputs": [
    {
     "data": {
      "text/plain": [
       "<function __main__.add(a, b)>"
      ]
     },
     "execution_count": 19,
     "metadata": {},
     "output_type": "execute_result"
    }
   ],
   "source": [
    "add"
   ]
  },
  {
   "cell_type": "code",
   "execution_count": 18,
   "id": "46fd5152",
   "metadata": {},
   "outputs": [
    {
     "data": {
      "text/plain": [
       "<function __main__.add(a, b)>"
      ]
     },
     "execution_count": 18,
     "metadata": {},
     "output_type": "execute_result"
    }
   ],
   "source": [
    "globals()['add']"
   ]
  },
  {
   "cell_type": "code",
   "execution_count": 24,
   "id": "fabe1b7b",
   "metadata": {},
   "outputs": [],
   "source": [
    "f = globals()['add']"
   ]
  },
  {
   "cell_type": "code",
   "execution_count": 21,
   "id": "49cec647",
   "metadata": {},
   "outputs": [],
   "source": [
    "def my_func():\n",
    "    return 'hello world'"
   ]
  },
  {
   "cell_type": "code",
   "execution_count": 22,
   "id": "a45f3de7",
   "metadata": {},
   "outputs": [
    {
     "data": {
      "text/plain": [
       "'hello world'"
      ]
     },
     "execution_count": 22,
     "metadata": {},
     "output_type": "execute_result"
    }
   ],
   "source": [
    "my_func()"
   ]
  },
  {
   "cell_type": "code",
   "execution_count": 25,
   "id": "e9bc7af2",
   "metadata": {},
   "outputs": [
    {
     "data": {
      "text/plain": [
       "<function __main__.add(a, b)>"
      ]
     },
     "execution_count": 25,
     "metadata": {},
     "output_type": "execute_result"
    }
   ],
   "source": [
    "f"
   ]
  },
  {
   "cell_type": "code",
   "execution_count": 26,
   "id": "738f4e67",
   "metadata": {},
   "outputs": [
    {
     "name": "stdout",
     "output_type": "stream",
     "text": [
      "30\n"
     ]
    }
   ],
   "source": [
    "f(10,20)"
   ]
  },
  {
   "cell_type": "code",
   "execution_count": 27,
   "id": "d5b85369",
   "metadata": {},
   "outputs": [
    {
     "data": {
      "text/plain": [
       "<function print>"
      ]
     },
     "execution_count": 27,
     "metadata": {},
     "output_type": "execute_result"
    }
   ],
   "source": [
    "print"
   ]
  },
  {
   "cell_type": "code",
   "execution_count": 28,
   "id": "d6048aa2",
   "metadata": {},
   "outputs": [
    {
     "name": "stdout",
     "output_type": "stream",
     "text": [
      "Hello world \n"
     ]
    }
   ],
   "source": [
    "print(\"Hello world \")"
   ]
  },
  {
   "cell_type": "code",
   "execution_count": 29,
   "id": "ddb1721c",
   "metadata": {},
   "outputs": [],
   "source": [
    "def print():\n",
    "    return 'A bad code '"
   ]
  },
  {
   "cell_type": "code",
   "execution_count": 30,
   "id": "80a59495",
   "metadata": {},
   "outputs": [
    {
     "data": {
      "text/plain": [
       "'A bad code '"
      ]
     },
     "execution_count": 30,
     "metadata": {},
     "output_type": "execute_result"
    }
   ],
   "source": [
    "print()"
   ]
  },
  {
   "cell_type": "code",
   "execution_count": 31,
   "id": "3b8cf0dd",
   "metadata": {},
   "outputs": [
    {
     "ename": "TypeError",
     "evalue": "print() takes 0 positional arguments but 1 was given",
     "output_type": "error",
     "traceback": [
      "\u001b[1;31m---------------------------------------------------------------------------\u001b[0m",
      "\u001b[1;31mTypeError\u001b[0m                                 Traceback (most recent call last)",
      "Input \u001b[1;32mIn [31]\u001b[0m, in \u001b[0;36m<cell line: 1>\u001b[1;34m()\u001b[0m\n\u001b[1;32m----> 1\u001b[0m \u001b[38;5;28;43mprint\u001b[39;49m\u001b[43m(\u001b[49m\u001b[38;5;124;43m'\u001b[39;49m\u001b[38;5;124;43mhello \u001b[39;49m\u001b[38;5;124;43m'\u001b[39;49m\u001b[43m)\u001b[49m\n",
      "\u001b[1;31mTypeError\u001b[0m: print() takes 0 positional arguments but 1 was given"
     ]
    }
   ],
   "source": [
    "print('hello ')"
   ]
  },
  {
   "cell_type": "code",
   "execution_count": 32,
   "id": "bb815957",
   "metadata": {},
   "outputs": [],
   "source": [
    "del print"
   ]
  },
  {
   "cell_type": "code",
   "execution_count": 33,
   "id": "84c698ab",
   "metadata": {},
   "outputs": [
    {
     "name": "stdout",
     "output_type": "stream",
     "text": [
      "Help on built-in function print in module builtins:\n",
      "\n",
      "print(...)\n",
      "    print(value, ..., sep=' ', end='\\n', file=sys.stdout, flush=False)\n",
      "    \n",
      "    Prints the values to a stream, or to sys.stdout by default.\n",
      "    Optional keyword arguments:\n",
      "    file:  a file-like object (stream); defaults to the current sys.stdout.\n",
      "    sep:   string inserted between values, default a space.\n",
      "    end:   string appended after the last value, default a newline.\n",
      "    flush: whether to forcibly flush the stream.\n",
      "\n"
     ]
    }
   ],
   "source": [
    "help(print)"
   ]
  },
  {
   "cell_type": "code",
   "execution_count": 34,
   "id": "c6206162",
   "metadata": {},
   "outputs": [],
   "source": [
    "def my_func():\n",
    "    print(\"within a function \")\n",
    "    "
   ]
  },
  {
   "cell_type": "code",
   "execution_count": 35,
   "id": "88307135",
   "metadata": {},
   "outputs": [
    {
     "name": "stdout",
     "output_type": "stream",
     "text": [
      "Help on function my_func in module __main__:\n",
      "\n",
      "my_func()\n",
      "\n"
     ]
    }
   ],
   "source": [
    "help(my_func)"
   ]
  },
  {
   "cell_type": "code",
   "execution_count": 36,
   "id": "0dd6b0d3",
   "metadata": {},
   "outputs": [
    {
     "name": "stdout",
     "output_type": "stream",
     "text": [
      "['__annotations__', '__builtins__', '__call__', '__class__', '__closure__', '__code__', '__defaults__', '__delattr__', '__dict__', '__dir__', '__doc__', '__eq__', '__format__', '__ge__', '__get__', '__getattribute__', '__globals__', '__gt__', '__hash__', '__init__', '__init_subclass__', '__kwdefaults__', '__le__', '__lt__', '__module__', '__name__', '__ne__', '__new__', '__qualname__', '__reduce__', '__reduce_ex__', '__repr__', '__setattr__', '__sizeof__', '__str__', '__subclasshook__']\n"
     ]
    }
   ],
   "source": [
    "print(dir(my_func))"
   ]
  },
  {
   "cell_type": "code",
   "execution_count": 38,
   "id": "02907a49",
   "metadata": {},
   "outputs": [
    {
     "name": "stdout",
     "output_type": "stream",
     "text": [
      "print(value, ..., sep=' ', end='\\n', file=sys.stdout, flush=False)\n",
      "\n",
      "Prints the values to a stream, or to sys.stdout by default.\n",
      "Optional keyword arguments:\n",
      "file:  a file-like object (stream); defaults to the current sys.stdout.\n",
      "sep:   string inserted between values, default a space.\n",
      "end:   string appended after the last value, default a newline.\n",
      "flush: whether to forcibly flush the stream.\n"
     ]
    }
   ],
   "source": [
    "print(print.__doc__)"
   ]
  },
  {
   "cell_type": "code",
   "execution_count": 39,
   "id": "18f86fc5",
   "metadata": {},
   "outputs": [],
   "source": [
    "my_func.__doc__"
   ]
  },
  {
   "cell_type": "markdown",
   "id": "f0e5cc3f",
   "metadata": {},
   "source": [
    "# Docstrings \n",
    "\n",
    "***\n",
    "\n",
    "- Also known as documentation string \n",
    "- The first line of code within a function, enclosed within single, double or tripple quotes "
   ]
  },
  {
   "cell_type": "code",
   "execution_count": 40,
   "id": "1e70ffc9",
   "metadata": {},
   "outputs": [],
   "source": [
    "def adder(a,b):\n",
    "    \"\"\"This is a doc string \n",
    "    >>>adder(2,3)\n",
    "    >>>5\n",
    "    \"\"\"\n",
    "    return a+b\n",
    "    "
   ]
  },
  {
   "cell_type": "code",
   "execution_count": 41,
   "id": "6e99f036",
   "metadata": {},
   "outputs": [
    {
     "data": {
      "text/plain": [
       "<function __main__.adder(a, b)>"
      ]
     },
     "execution_count": 41,
     "metadata": {},
     "output_type": "execute_result"
    }
   ],
   "source": [
    "adder"
   ]
  },
  {
   "cell_type": "code",
   "execution_count": 42,
   "id": "a6d7d848",
   "metadata": {},
   "outputs": [
    {
     "name": "stdout",
     "output_type": "stream",
     "text": [
      "Help on function adder in module __main__:\n",
      "\n",
      "adder(a, b)\n",
      "    This is a doc string \n",
      "    >>>adder(2,3)\n",
      "    >>>5\n",
      "\n"
     ]
    }
   ],
   "source": [
    "help(adder)"
   ]
  },
  {
   "cell_type": "code",
   "execution_count": 43,
   "id": "5289d134",
   "metadata": {},
   "outputs": [
    {
     "data": {
      "text/plain": [
       "'This is a doc string \\n    >>>adder(2,3)\\n    >>>5\\n    '"
      ]
     },
     "execution_count": 43,
     "metadata": {},
     "output_type": "execute_result"
    }
   ],
   "source": [
    "adder.__doc__"
   ]
  },
  {
   "cell_type": "code",
   "execution_count": 44,
   "id": "338838c8",
   "metadata": {},
   "outputs": [
    {
     "name": "stdout",
     "output_type": "stream",
     "text": [
      "This is a doc string \n",
      "    >>>adder(2,3)\n",
      "    >>>5\n",
      "    \n"
     ]
    }
   ],
   "source": [
    "print(adder.__doc__)"
   ]
  },
  {
   "cell_type": "code",
   "execution_count": 45,
   "id": "1ca21eb9",
   "metadata": {},
   "outputs": [
    {
     "data": {
      "text/plain": [
       "'rahu'"
      ]
     },
     "execution_count": 45,
     "metadata": {},
     "output_type": "execute_result"
    }
   ],
   "source": [
    "adder('ra',\"hu\")"
   ]
  },
  {
   "cell_type": "code",
   "execution_count": 47,
   "id": "f6a82178",
   "metadata": {},
   "outputs": [
    {
     "data": {
      "text/plain": [
       "'ra2'"
      ]
     },
     "execution_count": 47,
     "metadata": {},
     "output_type": "execute_result"
    }
   ],
   "source": [
    "adder('ra','2')"
   ]
  },
  {
   "cell_type": "code",
   "execution_count": 48,
   "id": "169ce4ec",
   "metadata": {},
   "outputs": [],
   "source": [
    "# Annotations \n",
    "\n",
    "def adder(a:'integer',b:'integer')->'sum of a and b':\n",
    "    \"\"\">>>adder(2,3)\n",
    "        >>>5\"\"\"\n",
    "    return a+b"
   ]
  },
  {
   "cell_type": "code",
   "execution_count": 49,
   "id": "d3ab3efb",
   "metadata": {},
   "outputs": [
    {
     "data": {
      "text/plain": [
       "<function __main__.adder(a: 'integer', b: 'integer') -> 'sum of a and b'>"
      ]
     },
     "execution_count": 49,
     "metadata": {},
     "output_type": "execute_result"
    }
   ],
   "source": [
    "adder"
   ]
  },
  {
   "cell_type": "code",
   "execution_count": 50,
   "id": "0d2eaef4",
   "metadata": {},
   "outputs": [
    {
     "name": "stdout",
     "output_type": "stream",
     "text": [
      "Help on function adder in module __main__:\n",
      "\n",
      "adder(a: 'integer', b: 'integer') -> 'sum of a and b'\n",
      "    >>>adder(2,3)\n",
      "    >>>5\n",
      "\n"
     ]
    }
   ],
   "source": [
    "help(adder)"
   ]
  },
  {
   "cell_type": "code",
   "execution_count": 51,
   "id": "aa255883",
   "metadata": {},
   "outputs": [
    {
     "data": {
      "text/plain": [
       "{'a': 'integer', 'b': 'integer', 'return': 'sum of a and b'}"
      ]
     },
     "execution_count": 51,
     "metadata": {},
     "output_type": "execute_result"
    }
   ],
   "source": [
    "adder.__annotations__"
   ]
  },
  {
   "cell_type": "code",
   "execution_count": 52,
   "id": "cf8ae1bc",
   "metadata": {},
   "outputs": [],
   "source": [
    "def powerify(a,b):\n",
    "    return a**b"
   ]
  },
  {
   "cell_type": "code",
   "execution_count": 53,
   "id": "270e4fe5",
   "metadata": {},
   "outputs": [
    {
     "data": {
      "text/plain": [
       "8"
      ]
     },
     "execution_count": 53,
     "metadata": {},
     "output_type": "execute_result"
    }
   ],
   "source": [
    "powerify(2,3)"
   ]
  },
  {
   "cell_type": "markdown",
   "id": "9ada75b4",
   "metadata": {},
   "source": [
    "# Default value to an argument \n"
   ]
  },
  {
   "cell_type": "code",
   "execution_count": 54,
   "id": "9982613a",
   "metadata": {},
   "outputs": [],
   "source": [
    "def my_func(a,b=20,c=30):\n",
    "    print('a={} b = {} c = {}'.format(a,b,c))"
   ]
  },
  {
   "cell_type": "code",
   "execution_count": 55,
   "id": "c5b3ca15",
   "metadata": {},
   "outputs": [
    {
     "name": "stdout",
     "output_type": "stream",
     "text": [
      "a=10 b = 20 c = 30\n"
     ]
    }
   ],
   "source": [
    "my_func(10)"
   ]
  },
  {
   "cell_type": "code",
   "execution_count": 56,
   "id": "b6ee60ac",
   "metadata": {},
   "outputs": [
    {
     "name": "stdout",
     "output_type": "stream",
     "text": [
      "a=100 b = 200 c = 30\n"
     ]
    }
   ],
   "source": [
    "my_func(100,200)"
   ]
  },
  {
   "cell_type": "code",
   "execution_count": 57,
   "id": "eda7f8e2",
   "metadata": {},
   "outputs": [
    {
     "name": "stdout",
     "output_type": "stream",
     "text": [
      "a=100 b = 200 c = 300\n"
     ]
    }
   ],
   "source": [
    "my_func(100,200,300)"
   ]
  },
  {
   "cell_type": "markdown",
   "id": "f8d5bffd",
   "metadata": {},
   "source": [
    "# Positional arguments "
   ]
  },
  {
   "cell_type": "code",
   "execution_count": 58,
   "id": "4b5e0082",
   "metadata": {},
   "outputs": [],
   "source": [
    "def positional_arguments(a,b,c):\n",
    "    print(\"a = {0} b= {1} and c = {2}\".format(a,b,c))"
   ]
  },
  {
   "cell_type": "code",
   "execution_count": 59,
   "id": "133e0270",
   "metadata": {},
   "outputs": [
    {
     "name": "stdout",
     "output_type": "stream",
     "text": [
      "a = 10 b= 20 and c = 30\n"
     ]
    }
   ],
   "source": [
    "positional_arguments(10,20,30)"
   ]
  },
  {
   "cell_type": "code",
   "execution_count": 60,
   "id": "abf841a2",
   "metadata": {},
   "outputs": [],
   "source": [
    "def positional_arguments(a,b,c):\n",
    "    print(\"a = {1} b= {0} and c = {2}\".format(a,b,c))"
   ]
  },
  {
   "cell_type": "code",
   "execution_count": 61,
   "id": "2436da47",
   "metadata": {},
   "outputs": [
    {
     "name": "stdout",
     "output_type": "stream",
     "text": [
      "a = 20 b= 10 and c = 30\n"
     ]
    }
   ],
   "source": [
    "positional_arguments(10,20,30)"
   ]
  },
  {
   "cell_type": "code",
   "execution_count": 62,
   "id": "afee4dbe",
   "metadata": {},
   "outputs": [],
   "source": [
    "def positional_arguments(a,b,c):\n",
    "    print(\"a = {2} b= {1} and c = {0}\".format(a,b,c))"
   ]
  },
  {
   "cell_type": "code",
   "execution_count": 63,
   "id": "2fa22d52",
   "metadata": {},
   "outputs": [
    {
     "name": "stdout",
     "output_type": "stream",
     "text": [
      "a = 30 b= 20 and c = 10\n"
     ]
    }
   ],
   "source": [
    "positional_arguments(10,20,30)"
   ]
  },
  {
   "cell_type": "markdown",
   "id": "55fa2744",
   "metadata": {},
   "source": [
    "# Keyword only arguments "
   ]
  },
  {
   "cell_type": "code",
   "execution_count": 64,
   "id": "a3b2ad34",
   "metadata": {},
   "outputs": [],
   "source": [
    "def keyword_only_arguments(name=\"rahul\",age = 42, profession='engineer'):\n",
    "    print(name,age,profession)"
   ]
  },
  {
   "cell_type": "code",
   "execution_count": 65,
   "id": "c2aaf8e8",
   "metadata": {},
   "outputs": [
    {
     "name": "stdout",
     "output_type": "stream",
     "text": [
      "rahul 42 engineer\n"
     ]
    }
   ],
   "source": [
    "keyword_only_arguments()"
   ]
  },
  {
   "cell_type": "code",
   "execution_count": 66,
   "id": "f51e4b03",
   "metadata": {},
   "outputs": [
    {
     "name": "stdout",
     "output_type": "stream",
     "text": [
      "ujjwal 42 engineer\n"
     ]
    }
   ],
   "source": [
    "keyword_only_arguments(name=\"ujjwal\")"
   ]
  },
  {
   "cell_type": "code",
   "execution_count": 67,
   "id": "ecc8c65d",
   "metadata": {},
   "outputs": [],
   "source": [
    "def func(a=10,b=20):\n",
    "    name = 'rahul'\n",
    "    return name,a,b "
   ]
  },
  {
   "cell_type": "code",
   "execution_count": 68,
   "id": "3421be65",
   "metadata": {},
   "outputs": [],
   "source": [
    "t = func()"
   ]
  },
  {
   "cell_type": "code",
   "execution_count": 69,
   "id": "83f2c210",
   "metadata": {},
   "outputs": [
    {
     "data": {
      "text/plain": [
       "('rahul', 10, 20)"
      ]
     },
     "execution_count": 69,
     "metadata": {},
     "output_type": "execute_result"
    }
   ],
   "source": [
    "t"
   ]
  },
  {
   "cell_type": "code",
   "execution_count": 70,
   "id": "186c0e4e",
   "metadata": {},
   "outputs": [
    {
     "data": {
      "text/plain": [
       "tuple"
      ]
     },
     "execution_count": 70,
     "metadata": {},
     "output_type": "execute_result"
    }
   ],
   "source": [
    "type(t)"
   ]
  },
  {
   "cell_type": "code",
   "execution_count": 71,
   "id": "dee77a85",
   "metadata": {},
   "outputs": [
    {
     "data": {
      "text/plain": [
       "{}"
      ]
     },
     "execution_count": 71,
     "metadata": {},
     "output_type": "execute_result"
    }
   ],
   "source": [
    "func.__dict__"
   ]
  },
  {
   "cell_type": "code",
   "execution_count": 72,
   "id": "bee578c7",
   "metadata": {},
   "outputs": [],
   "source": [
    "func.version='1.0.0'\n",
    "func.author = 'rahul'"
   ]
  },
  {
   "cell_type": "code",
   "execution_count": 73,
   "id": "1412b508",
   "metadata": {},
   "outputs": [
    {
     "data": {
      "text/plain": [
       "{'version': '1.0.0', 'author': 'rahul'}"
      ]
     },
     "execution_count": 73,
     "metadata": {},
     "output_type": "execute_result"
    }
   ],
   "source": [
    "func.__dict__"
   ]
  },
  {
   "cell_type": "code",
   "execution_count": 74,
   "id": "594be7ff",
   "metadata": {},
   "outputs": [
    {
     "name": "stdout",
     "output_type": "stream",
     "text": [
      "['__annotations__', '__builtins__', '__call__', '__class__', '__closure__', '__code__', '__defaults__', '__delattr__', '__dict__', '__dir__', '__doc__', '__eq__', '__format__', '__ge__', '__get__', '__getattribute__', '__globals__', '__gt__', '__hash__', '__init__', '__init_subclass__', '__kwdefaults__', '__le__', '__lt__', '__module__', '__name__', '__ne__', '__new__', '__qualname__', '__reduce__', '__reduce_ex__', '__repr__', '__setattr__', '__sizeof__', '__str__', '__subclasshook__', 'author', 'version']\n"
     ]
    }
   ],
   "source": [
    "print(dir(func))"
   ]
  },
  {
   "cell_type": "code",
   "execution_count": 75,
   "id": "b566647c",
   "metadata": {},
   "outputs": [],
   "source": [
    "def func(a,b):\n",
    "    name = 'Rahul'\n",
    "    print(name,a,b)"
   ]
  },
  {
   "cell_type": "code",
   "execution_count": 76,
   "id": "8924dd62",
   "metadata": {},
   "outputs": [
    {
     "name": "stdout",
     "output_type": "stream",
     "text": [
      "['__annotations__', '__builtins__', '__call__', '__class__', '__closure__', '__code__', '__defaults__', '__delattr__', '__dict__', '__dir__', '__doc__', '__eq__', '__format__', '__ge__', '__get__', '__getattribute__', '__globals__', '__gt__', '__hash__', '__init__', '__init_subclass__', '__kwdefaults__', '__le__', '__lt__', '__module__', '__name__', '__ne__', '__new__', '__qualname__', '__reduce__', '__reduce_ex__', '__repr__', '__setattr__', '__sizeof__', '__str__', '__subclasshook__']\n"
     ]
    }
   ],
   "source": [
    "print(dir(func))"
   ]
  },
  {
   "cell_type": "code",
   "execution_count": 77,
   "id": "671a5b5d",
   "metadata": {},
   "outputs": [
    {
     "data": {
      "text/plain": [
       "<code object func at 0x000001C35B0FDDC0, file \"C:\\Users\\Rahul somani\\AppData\\Local\\Temp\\ipykernel_7896\\1566497262.py\", line 1>"
      ]
     },
     "execution_count": 77,
     "metadata": {},
     "output_type": "execute_result"
    }
   ],
   "source": [
    "func.__code__"
   ]
  },
  {
   "cell_type": "code",
   "execution_count": 79,
   "id": "e262884a",
   "metadata": {},
   "outputs": [
    {
     "name": "stdout",
     "output_type": "stream",
     "text": [
      "['__class__', '__delattr__', '__dir__', '__doc__', '__eq__', '__format__', '__ge__', '__getattribute__', '__gt__', '__hash__', '__init__', '__init_subclass__', '__le__', '__lt__', '__ne__', '__new__', '__reduce__', '__reduce_ex__', '__repr__', '__setattr__', '__sizeof__', '__str__', '__subclasshook__', 'co_argcount', 'co_cellvars', 'co_code', 'co_consts', 'co_filename', 'co_firstlineno', 'co_flags', 'co_freevars', 'co_kwonlyargcount', 'co_lines', 'co_linetable', 'co_lnotab', 'co_name', 'co_names', 'co_nlocals', 'co_posonlyargcount', 'co_stacksize', 'co_varnames', 'replace']\n"
     ]
    }
   ],
   "source": [
    "print(dir(func.__code__))"
   ]
  },
  {
   "cell_type": "code",
   "execution_count": 80,
   "id": "fe431ffd",
   "metadata": {},
   "outputs": [
    {
     "data": {
      "text/plain": [
       "b'd\\x01}\\x02t\\x00|\\x02|\\x00|\\x01\\x83\\x03\\x01\\x00d\\x00S\\x00'"
      ]
     },
     "execution_count": 80,
     "metadata": {},
     "output_type": "execute_result"
    }
   ],
   "source": [
    "func.__code__.co_code  # binary code of your function is stored"
   ]
  },
  {
   "cell_type": "code",
   "execution_count": 81,
   "id": "d06e0dc8",
   "metadata": {},
   "outputs": [
    {
     "data": {
      "text/plain": [
       "3"
      ]
     },
     "execution_count": 81,
     "metadata": {},
     "output_type": "execute_result"
    }
   ],
   "source": [
    "func.__code__.co_nlocals"
   ]
  },
  {
   "cell_type": "code",
   "execution_count": 82,
   "id": "e90f1cec",
   "metadata": {},
   "outputs": [],
   "source": [
    "def func(a,b):\n",
    "#     name = 'Rahul'\n",
    "    print(a,b)"
   ]
  },
  {
   "cell_type": "code",
   "execution_count": 83,
   "id": "9115d4c7",
   "metadata": {},
   "outputs": [
    {
     "data": {
      "text/plain": [
       "2"
      ]
     },
     "execution_count": 83,
     "metadata": {},
     "output_type": "execute_result"
    }
   ],
   "source": [
    "func.__code__.co_nlocals"
   ]
  },
  {
   "cell_type": "markdown",
   "id": "ce57644d",
   "metadata": {},
   "source": [
    "# The number of arguments passed to the function "
   ]
  },
  {
   "cell_type": "code",
   "execution_count": 84,
   "id": "b8c8b192",
   "metadata": {},
   "outputs": [
    {
     "data": {
      "text/plain": [
       "2"
      ]
     },
     "execution_count": 84,
     "metadata": {},
     "output_type": "execute_result"
    }
   ],
   "source": [
    "func.__code__.co_argcount"
   ]
  },
  {
   "cell_type": "code",
   "execution_count": null,
   "id": "1c027eb4",
   "metadata": {},
   "outputs": [],
   "source": []
  }
 ],
 "metadata": {
  "kernelspec": {
   "display_name": "Python 3 (ipykernel)",
   "language": "python",
   "name": "python3"
  },
  "language_info": {
   "codemirror_mode": {
    "name": "ipython",
    "version": 3
   },
   "file_extension": ".py",
   "mimetype": "text/x-python",
   "name": "python",
   "nbconvert_exporter": "python",
   "pygments_lexer": "ipython3",
   "version": "3.10.4"
  }
 },
 "nbformat": 4,
 "nbformat_minor": 5
}
