{
 "cells": [
  {
   "cell_type": "markdown",
   "id": "2334f04d",
   "metadata": {},
   "source": [
    "# The list data type, or data structure \n",
    "***\n",
    "- Mutable in nature. can change its state \n",
    "- is created by the [] notation \n",
    "- stores heterogenous values \n",
    "- Can also be created using the list() constructor or factory method "
   ]
  },
  {
   "cell_type": "code",
   "execution_count": 5,
   "id": "1d729403",
   "metadata": {},
   "outputs": [],
   "source": [
    "l  = [] # Empty list \n",
    "m = [10,20,30]# list with homogeneous values ( integers )\n",
    "n = ['Rahul',42,'software trainer'] # list with heterigeneous values\n"
   ]
  },
  {
   "cell_type": "code",
   "execution_count": 6,
   "id": "c10c4148",
   "metadata": {},
   "outputs": [
    {
     "data": {
      "text/plain": [
       "(list, list, list)"
      ]
     },
     "execution_count": 6,
     "metadata": {},
     "output_type": "execute_result"
    }
   ],
   "source": [
    "type(l), type(m), type(n)"
   ]
  },
  {
   "cell_type": "code",
   "execution_count": 7,
   "id": "b8105667",
   "metadata": {},
   "outputs": [
    {
     "data": {
      "text/plain": [
       "(0, 3, 3)"
      ]
     },
     "execution_count": 7,
     "metadata": {},
     "output_type": "execute_result"
    }
   ],
   "source": [
    "len(l), len(m), len(n)"
   ]
  },
  {
   "cell_type": "code",
   "execution_count": 9,
   "id": "1d33cdd8",
   "metadata": {},
   "outputs": [
    {
     "name": "stdout",
     "output_type": "stream",
     "text": [
      "['__add__', '__class__', '__class_getitem__', '__contains__', '__delattr__', '__delitem__', '__dir__', '__doc__', '__eq__', '__format__', '__ge__', '__getattribute__', '__getitem__', '__gt__', '__hash__', '__iadd__', '__imul__', '__init__', '__init_subclass__', '__iter__', '__le__', '__len__', '__lt__', '__mul__', '__ne__', '__new__', '__reduce__', '__reduce_ex__', '__repr__', '__reversed__', '__rmul__', '__setattr__', '__setitem__', '__sizeof__', '__str__', '__subclasshook__', 'append', 'clear', 'copy', 'count', 'extend', 'index', 'insert', 'pop', 'remove', 'reverse', 'sort']\n"
     ]
    }
   ],
   "source": [
    "print(dir(list))"
   ]
  },
  {
   "cell_type": "code",
   "execution_count": 10,
   "id": "adc6ccb3",
   "metadata": {},
   "outputs": [
    {
     "data": {
      "text/plain": [
       "[]"
      ]
     },
     "execution_count": 10,
     "metadata": {},
     "output_type": "execute_result"
    }
   ],
   "source": [
    "l"
   ]
  },
  {
   "cell_type": "code",
   "execution_count": 11,
   "id": "3cbf7192",
   "metadata": {},
   "outputs": [
    {
     "data": {
      "text/plain": [
       "([], 2441131722112, 0)"
      ]
     },
     "execution_count": 11,
     "metadata": {},
     "output_type": "execute_result"
    }
   ],
   "source": [
    "l , id(l), len(l)"
   ]
  },
  {
   "cell_type": "code",
   "execution_count": 12,
   "id": "6845798a",
   "metadata": {},
   "outputs": [
    {
     "data": {
      "text/plain": [
       "<function list.append(object, /)>"
      ]
     },
     "execution_count": 12,
     "metadata": {},
     "output_type": "execute_result"
    }
   ],
   "source": [
    "l.append"
   ]
  },
  {
   "cell_type": "code",
   "execution_count": 13,
   "id": "d7d1e1ee",
   "metadata": {},
   "outputs": [],
   "source": [
    "l.append(100)"
   ]
  },
  {
   "cell_type": "code",
   "execution_count": 14,
   "id": "cd296b3e",
   "metadata": {},
   "outputs": [],
   "source": [
    "l.append(200)"
   ]
  },
  {
   "cell_type": "code",
   "execution_count": 15,
   "id": "9ae7f038",
   "metadata": {},
   "outputs": [
    {
     "data": {
      "text/plain": [
       "([100, 200], 2441131722112, 2)"
      ]
     },
     "execution_count": 15,
     "metadata": {},
     "output_type": "execute_result"
    }
   ],
   "source": [
    "l, id(l), len(l)"
   ]
  },
  {
   "cell_type": "code",
   "execution_count": 16,
   "id": "11585e49",
   "metadata": {},
   "outputs": [
    {
     "data": {
      "text/plain": [
       "[100, 200]"
      ]
     },
     "execution_count": 16,
     "metadata": {},
     "output_type": "execute_result"
    }
   ],
   "source": [
    "l"
   ]
  },
  {
   "cell_type": "code",
   "execution_count": 17,
   "id": "41319673",
   "metadata": {},
   "outputs": [
    {
     "data": {
      "text/plain": [
       "100"
      ]
     },
     "execution_count": 17,
     "metadata": {},
     "output_type": "execute_result"
    }
   ],
   "source": [
    "l[0]"
   ]
  },
  {
   "cell_type": "code",
   "execution_count": 18,
   "id": "4e62cc41",
   "metadata": {},
   "outputs": [
    {
     "data": {
      "text/plain": [
       "200"
      ]
     },
     "execution_count": 18,
     "metadata": {},
     "output_type": "execute_result"
    }
   ],
   "source": [
    "l[-1]"
   ]
  },
  {
   "cell_type": "code",
   "execution_count": 19,
   "id": "7f7ae813",
   "metadata": {},
   "outputs": [],
   "source": [
    "l.append(300)"
   ]
  },
  {
   "cell_type": "code",
   "execution_count": 20,
   "id": "2cd9821f",
   "metadata": {},
   "outputs": [
    {
     "data": {
      "text/plain": [
       "([100, 200, 300], 2441131722112)"
      ]
     },
     "execution_count": 20,
     "metadata": {},
     "output_type": "execute_result"
    }
   ],
   "source": [
    "l, id(l)"
   ]
  },
  {
   "cell_type": "code",
   "execution_count": 21,
   "id": "16d85de0",
   "metadata": {},
   "outputs": [
    {
     "data": {
      "text/plain": [
       "<function list.extend(iterable, /)>"
      ]
     },
     "execution_count": 21,
     "metadata": {},
     "output_type": "execute_result"
    }
   ],
   "source": [
    "l.extend"
   ]
  },
  {
   "cell_type": "code",
   "execution_count": 22,
   "id": "1ee6df2f",
   "metadata": {},
   "outputs": [],
   "source": [
    "l.extend([400,500,600])"
   ]
  },
  {
   "cell_type": "code",
   "execution_count": 23,
   "id": "859c058b",
   "metadata": {},
   "outputs": [
    {
     "data": {
      "text/plain": [
       "([100, 200, 300, 400, 500, 600], 2441131722112)"
      ]
     },
     "execution_count": 23,
     "metadata": {},
     "output_type": "execute_result"
    }
   ],
   "source": [
    "l, id(l)"
   ]
  },
  {
   "cell_type": "code",
   "execution_count": 24,
   "id": "b5bb1661",
   "metadata": {},
   "outputs": [],
   "source": [
    "l.extend(\"Somani\")"
   ]
  },
  {
   "cell_type": "code",
   "execution_count": 25,
   "id": "2b6d0902",
   "metadata": {},
   "outputs": [
    {
     "data": {
      "text/plain": [
       "([100, 200, 300, 400, 500, 600, 'S', 'o', 'm', 'a', 'n', 'i'], 2441131722112)"
      ]
     },
     "execution_count": 25,
     "metadata": {},
     "output_type": "execute_result"
    }
   ],
   "source": [
    "l, id(l)"
   ]
  },
  {
   "cell_type": "code",
   "execution_count": 28,
   "id": "9a3c532c",
   "metadata": {},
   "outputs": [
    {
     "name": "stdout",
     "output_type": "stream",
     "text": [
      "['__add__', '__class__', '__class_getitem__', '__contains__', '__delattr__', '__delitem__', '__dir__', '__doc__', '__eq__', '__format__', '__ge__', '__getattribute__', '__getitem__', '__gt__', '__hash__', '__iadd__', '__imul__', '__init__', '__init_subclass__', '__iter__', '__le__', '__len__', '__lt__', '__mul__', '__ne__', '__new__', '__reduce__', '__reduce_ex__', '__repr__', '__reversed__', '__rmul__', '__setattr__', '__setitem__', '__sizeof__', '__str__', '__subclasshook__', 'append', 'clear', 'copy', 'count', 'extend', 'index', 'insert', 'pop', 'remove', 'reverse', 'sort']\n"
     ]
    }
   ],
   "source": [
    "print(dir(list))"
   ]
  },
  {
   "cell_type": "markdown",
   "id": "bee0dedf",
   "metadata": {},
   "source": [
    "# Nested list' '\n",
    " - list within a list "
   ]
  },
  {
   "cell_type": "code",
   "execution_count": 39,
   "id": "eb31e6b1",
   "metadata": {},
   "outputs": [],
   "source": [
    "a = [1,2,3,[4,5,6,[7,6,8]]]"
   ]
  },
  {
   "cell_type": "code",
   "execution_count": 40,
   "id": "86cf9b74",
   "metadata": {},
   "outputs": [
    {
     "data": {
      "text/plain": [
       "([1, 2, 3, [4, 5, 6, [7, 6, 8]]], 4)"
      ]
     },
     "execution_count": 40,
     "metadata": {},
     "output_type": "execute_result"
    }
   ],
   "source": [
    "a,len(a)"
   ]
  },
  {
   "cell_type": "code",
   "execution_count": 41,
   "id": "d5076fb3",
   "metadata": {},
   "outputs": [
    {
     "data": {
      "text/plain": [
       "(1, [4, 5, 6, [7, 6, 8]])"
      ]
     },
     "execution_count": 41,
     "metadata": {},
     "output_type": "execute_result"
    }
   ],
   "source": [
    "a[0],a[3]"
   ]
  },
  {
   "cell_type": "code",
   "execution_count": null,
   "id": "47e0077a",
   "metadata": {},
   "outputs": [],
   "source": []
  }
 ],
 "metadata": {
  "kernelspec": {
   "display_name": "Python 3 (ipykernel)",
   "language": "python",
   "name": "python3"
  },
  "language_info": {
   "codemirror_mode": {
    "name": "ipython",
    "version": 3
   },
   "file_extension": ".py",
   "mimetype": "text/x-python",
   "name": "python",
   "nbconvert_exporter": "python",
   "pygments_lexer": "ipython3",
   "version": "3.10.4"
  }
 },
 "nbformat": 4,
 "nbformat_minor": 5
}
