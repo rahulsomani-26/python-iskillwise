{
 "cells": [
  {
   "cell_type": "markdown",
   "id": "35f66d77",
   "metadata": {},
   "source": [
    "# Tuples"
   ]
  },
  {
   "cell_type": "code",
   "execution_count": 1,
   "id": "0b66de54",
   "metadata": {},
   "outputs": [],
   "source": [
    "t1 = (2)\n",
    "t2 = 2, \n",
    "t3 = (2,)"
   ]
  },
  {
   "cell_type": "code",
   "execution_count": 2,
   "id": "0d3ba697",
   "metadata": {},
   "outputs": [
    {
     "data": {
      "text/plain": [
       "int"
      ]
     },
     "execution_count": 2,
     "metadata": {},
     "output_type": "execute_result"
    }
   ],
   "source": [
    "type(t1)"
   ]
  },
  {
   "cell_type": "code",
   "execution_count": 4,
   "id": "7c5a7c91",
   "metadata": {},
   "outputs": [
    {
     "data": {
      "text/plain": [
       "tuple"
      ]
     },
     "execution_count": 4,
     "metadata": {},
     "output_type": "execute_result"
    }
   ],
   "source": [
    "type(t2)"
   ]
  },
  {
   "cell_type": "code",
   "execution_count": 5,
   "id": "4cd198ea",
   "metadata": {},
   "outputs": [
    {
     "data": {
      "text/plain": [
       "tuple"
      ]
     },
     "execution_count": 5,
     "metadata": {},
     "output_type": "execute_result"
    }
   ],
   "source": [
    "type(t3)"
   ]
  },
  {
   "cell_type": "markdown",
   "id": "8366acdb",
   "metadata": {},
   "source": [
    "# What makes a tuple is not the parenthesis (), but the comma operator "
   ]
  },
  {
   "cell_type": "markdown",
   "id": "ca535496",
   "metadata": {},
   "source": [
    "` Used for storing homogenoeus values `"
   ]
  },
  {
   "cell_type": "markdown",
   "id": "bbfbbeda",
   "metadata": {},
   "source": [
    "` Are immutabel in nature ``\n",
    "  - They cannot grow or shrink in size at the same memory adderess \n",
    "    "
   ]
  },
  {
   "cell_type": "markdown",
   "id": "4cffa5b7",
   "metadata": {},
   "source": [
    "t1 = 100,200,300,400,500 "
   ]
  },
  {
   "cell_type": "code",
   "execution_count": 8,
   "id": "0d2fed04",
   "metadata": {},
   "outputs": [],
   "source": [
    "t1 = 100,200,300,400,500"
   ]
  },
  {
   "cell_type": "code",
   "execution_count": 11,
   "id": "6ee399b5",
   "metadata": {},
   "outputs": [
    {
     "data": {
      "text/plain": [
       "(300, 300)"
      ]
     },
     "execution_count": 11,
     "metadata": {},
     "output_type": "execute_result"
    }
   ],
   "source": [
    "t1.__getitem__(2), t1[2]"
   ]
  },
  {
   "cell_type": "code",
   "execution_count": 12,
   "id": "1b6ab6bd",
   "metadata": {},
   "outputs": [
    {
     "ename": "AttributeError",
     "evalue": "'tuple' object has no attribute '__setitem__'",
     "output_type": "error",
     "traceback": [
      "\u001b[1;31m---------------------------------------------------------------------------\u001b[0m",
      "\u001b[1;31mAttributeError\u001b[0m                            Traceback (most recent call last)",
      "Input \u001b[1;32mIn [12]\u001b[0m, in \u001b[0;36m<cell line: 1>\u001b[1;34m()\u001b[0m\n\u001b[1;32m----> 1\u001b[0m \u001b[43mt1\u001b[49m\u001b[38;5;241;43m.\u001b[39;49m\u001b[38;5;21;43m__setitem__\u001b[39;49m\n",
      "\u001b[1;31mAttributeError\u001b[0m: 'tuple' object has no attribute '__setitem__'"
     ]
    }
   ],
   "source": [
    "t1.__setitem__"
   ]
  },
  {
   "cell_type": "code",
   "execution_count": 13,
   "id": "08c82b0f",
   "metadata": {},
   "outputs": [
    {
     "data": {
      "text/plain": [
       "2828105028352"
      ]
     },
     "execution_count": 13,
     "metadata": {},
     "output_type": "execute_result"
    }
   ],
   "source": [
    "id(t1)"
   ]
  },
  {
   "cell_type": "code",
   "execution_count": 14,
   "id": "8a221f57",
   "metadata": {},
   "outputs": [
    {
     "data": {
      "text/plain": [
       "(100, 200, 300, 400, 500)"
      ]
     },
     "execution_count": 14,
     "metadata": {},
     "output_type": "execute_result"
    }
   ],
   "source": [
    "t1"
   ]
  },
  {
   "cell_type": "code",
   "execution_count": 15,
   "id": "ea217f7b",
   "metadata": {},
   "outputs": [
    {
     "ename": "TypeError",
     "evalue": "'tuple' object does not support item assignment",
     "output_type": "error",
     "traceback": [
      "\u001b[1;31m---------------------------------------------------------------------------\u001b[0m",
      "\u001b[1;31mTypeError\u001b[0m                                 Traceback (most recent call last)",
      "Input \u001b[1;32mIn [15]\u001b[0m, in \u001b[0;36m<cell line: 1>\u001b[1;34m()\u001b[0m\n\u001b[1;32m----> 1\u001b[0m t1[\u001b[38;5;241m0\u001b[39m]\u001b[38;5;241m=\u001b[39m \u001b[38;5;241m800\u001b[39m\n",
      "\u001b[1;31mTypeError\u001b[0m: 'tuple' object does not support item assignment"
     ]
    }
   ],
   "source": [
    "t1[0]= 800"
   ]
  },
  {
   "cell_type": "code",
   "execution_count": 17,
   "id": "53fdead5",
   "metadata": {
    "collapsed": true
   },
   "outputs": [
    {
     "ename": "AttributeError",
     "evalue": "'tuple' object has no attribute '__setitem__'",
     "output_type": "error",
     "traceback": [
      "\u001b[1;31m---------------------------------------------------------------------------\u001b[0m",
      "\u001b[1;31mAttributeError\u001b[0m                            Traceback (most recent call last)",
      "Input \u001b[1;32mIn [17]\u001b[0m, in \u001b[0;36m<cell line: 1>\u001b[1;34m()\u001b[0m\n\u001b[1;32m----> 1\u001b[0m \u001b[43mt1\u001b[49m\u001b[38;5;241;43m.\u001b[39;49m\u001b[38;5;21;43m__setitem__\u001b[39;49m(\u001b[38;5;241m0\u001b[39m,\u001b[38;5;241m200\u001b[39m)\n",
      "\u001b[1;31mAttributeError\u001b[0m: 'tuple' object has no attribute '__setitem__'"
     ]
    }
   ],
   "source": [
    "t1.__setitem__(0,200)"
   ]
  },
  {
   "cell_type": "markdown",
   "id": "36f15d32",
   "metadata": {},
   "source": [
    "# changing the valeue of a tuple \n",
    "   - We know that tuple does not support item assignment \n",
    "    - but list do support \n",
    "    \n",
    "    `\n",
    "    step1  convert the tuple into a list \n",
    "    step2   make the necessary changes in the list '\n",
    "    step3   reconvert the list into a tupe \n",
    "  `"
   ]
  },
  {
   "cell_type": "code",
   "execution_count": 18,
   "id": "ce88b714",
   "metadata": {},
   "outputs": [
    {
     "name": "stdout",
     "output_type": "stream",
     "text": [
      "['rahul', 'somani', 42, 'Trainer'] <class 'list'>\n",
      "<class 'tuple'>\n",
      "('rahul', 'somani', 50, 'Retired')\n"
     ]
    }
   ],
   "source": [
    "t1 = 'rahul','somani',42, 'Trainer'\n",
    "temp = list(t1)\n",
    "print(temp,type(temp))\n",
    "\n",
    "# Make changes in the list \n",
    "temp[2]= 50 \n",
    "temp[3]= 'Retired'\n",
    "# reconvert the list into a tuple \n",
    "\n",
    "t1 = tuple(temp)\n",
    "print(type(t1))\n",
    "print(t1)"
   ]
  },
  {
   "cell_type": "code",
   "execution_count": null,
   "id": "ed383254",
   "metadata": {},
   "outputs": [],
   "source": []
  }
 ],
 "metadata": {
  "kernelspec": {
   "display_name": "Python 3 (ipykernel)",
   "language": "python",
   "name": "python3"
  },
  "language_info": {
   "codemirror_mode": {
    "name": "ipython",
    "version": 3
   },
   "file_extension": ".py",
   "mimetype": "text/x-python",
   "name": "python",
   "nbconvert_exporter": "python",
   "pygments_lexer": "ipython3",
   "version": "3.10.4"
  }
 },
 "nbformat": 4,
 "nbformat_minor": 5
}
