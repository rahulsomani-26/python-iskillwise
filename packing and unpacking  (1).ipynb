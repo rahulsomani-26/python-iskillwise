{
 "cells": [
  {
   "cell_type": "markdown",
   "id": "5987a050",
   "metadata": {},
   "source": [
    "# Packing and Unpacking \n",
    "***\n",
    "- Packing is the process of putting items in a container \n",
    "- Unpacking is the reverse of packing "
   ]
  },
  {
   "cell_type": "code",
   "execution_count": 1,
   "id": "41089ca2",
   "metadata": {},
   "outputs": [],
   "source": [
    "e1 = 'rainy'\n",
    "e2 = [1,2,3]\n",
    "e3 = 100,200,'sunny',20.3\n",
    "e4 = {'fname':'Amit','lname':'Kumar'}"
   ]
  },
  {
   "cell_type": "code",
   "execution_count": 2,
   "id": "24bd9725",
   "metadata": {},
   "outputs": [
    {
     "data": {
      "text/plain": [
       "('r', 2, 'sunny', 'Amit')"
      ]
     },
     "execution_count": 2,
     "metadata": {},
     "output_type": "execute_result"
    }
   ],
   "source": [
    "e1[0], e2[1],e3[2],e4['fname']"
   ]
  },
  {
   "cell_type": "code",
   "execution_count": 3,
   "id": "a0628c76",
   "metadata": {},
   "outputs": [
    {
     "name": "stdout",
     "output_type": "stream",
     "text": [
      "r\n",
      "a\n",
      "i\n",
      "n\n",
      "y\n"
     ]
    }
   ],
   "source": [
    "for element in e1:\n",
    "    print(element)"
   ]
  },
  {
   "cell_type": "code",
   "execution_count": 4,
   "id": "a3429c23",
   "metadata": {},
   "outputs": [
    {
     "name": "stdout",
     "output_type": "stream",
     "text": [
      "1\n",
      "2\n",
      "3\n"
     ]
    }
   ],
   "source": [
    "for element in e2:\n",
    "    print(element)"
   ]
  },
  {
   "cell_type": "code",
   "execution_count": 5,
   "id": "3069a23a",
   "metadata": {},
   "outputs": [
    {
     "name": "stdout",
     "output_type": "stream",
     "text": [
      "100\n",
      "200\n",
      "sunny\n",
      "20.3\n"
     ]
    }
   ],
   "source": [
    "for element in e3:\n",
    "    print(element)"
   ]
  },
  {
   "cell_type": "code",
   "execution_count": 6,
   "id": "5442b574",
   "metadata": {},
   "outputs": [
    {
     "name": "stdout",
     "output_type": "stream",
     "text": [
      "fname\n",
      "lname\n"
     ]
    }
   ],
   "source": [
    "for element in e4:\n",
    "    print(element)"
   ]
  },
  {
   "cell_type": "code",
   "execution_count": 7,
   "id": "eb3566e9",
   "metadata": {},
   "outputs": [],
   "source": [
    "a,b,c,d,e = e1 "
   ]
  },
  {
   "cell_type": "code",
   "execution_count": 8,
   "id": "39677d5c",
   "metadata": {},
   "outputs": [
    {
     "data": {
      "text/plain": [
       "'r'"
      ]
     },
     "execution_count": 8,
     "metadata": {},
     "output_type": "execute_result"
    }
   ],
   "source": [
    "a"
   ]
  },
  {
   "cell_type": "code",
   "execution_count": 9,
   "id": "3eefef2f",
   "metadata": {},
   "outputs": [
    {
     "data": {
      "text/plain": [
       "'a'"
      ]
     },
     "execution_count": 9,
     "metadata": {},
     "output_type": "execute_result"
    }
   ],
   "source": [
    "b"
   ]
  },
  {
   "cell_type": "code",
   "execution_count": 10,
   "id": "3ff6c704",
   "metadata": {},
   "outputs": [
    {
     "data": {
      "text/plain": [
       "'i'"
      ]
     },
     "execution_count": 10,
     "metadata": {},
     "output_type": "execute_result"
    }
   ],
   "source": [
    "c"
   ]
  },
  {
   "cell_type": "code",
   "execution_count": 11,
   "id": "9c369854",
   "metadata": {},
   "outputs": [
    {
     "data": {
      "text/plain": [
       "'n'"
      ]
     },
     "execution_count": 11,
     "metadata": {},
     "output_type": "execute_result"
    }
   ],
   "source": [
    "d"
   ]
  },
  {
   "cell_type": "code",
   "execution_count": 12,
   "id": "e5de1831",
   "metadata": {},
   "outputs": [
    {
     "data": {
      "text/plain": [
       "'y'"
      ]
     },
     "execution_count": 12,
     "metadata": {},
     "output_type": "execute_result"
    }
   ],
   "source": [
    "e"
   ]
  },
  {
   "cell_type": "code",
   "execution_count": 13,
   "id": "ec56e959",
   "metadata": {},
   "outputs": [],
   "source": [
    "l = [1,2,3,'python']"
   ]
  },
  {
   "cell_type": "code",
   "execution_count": 14,
   "id": "cde54e9f",
   "metadata": {},
   "outputs": [
    {
     "ename": "ValueError",
     "evalue": "too many values to unpack (expected 3)",
     "output_type": "error",
     "traceback": [
      "\u001b[1;31m---------------------------------------------------------------------------\u001b[0m",
      "\u001b[1;31mValueError\u001b[0m                                Traceback (most recent call last)",
      "Input \u001b[1;32mIn [14]\u001b[0m, in \u001b[0;36m<cell line: 1>\u001b[1;34m()\u001b[0m\n\u001b[1;32m----> 1\u001b[0m a,b,c \u001b[38;5;241m=\u001b[39m l\n",
      "\u001b[1;31mValueError\u001b[0m: too many values to unpack (expected 3)"
     ]
    }
   ],
   "source": [
    "a,b,c = l "
   ]
  },
  {
   "cell_type": "markdown",
   "id": "8b760701",
   "metadata": {},
   "source": [
    "# Let us introduce the  ` * ` operator "
   ]
  },
  {
   "cell_type": "code",
   "execution_count": 15,
   "id": "00aa1c62",
   "metadata": {},
   "outputs": [],
   "source": [
    "a,b,*c = l "
   ]
  },
  {
   "cell_type": "code",
   "execution_count": 16,
   "id": "861f6891",
   "metadata": {},
   "outputs": [
    {
     "data": {
      "text/plain": [
       "1"
      ]
     },
     "execution_count": 16,
     "metadata": {},
     "output_type": "execute_result"
    }
   ],
   "source": [
    "a"
   ]
  },
  {
   "cell_type": "code",
   "execution_count": 17,
   "id": "2e5047f1",
   "metadata": {},
   "outputs": [
    {
     "data": {
      "text/plain": [
       "2"
      ]
     },
     "execution_count": 17,
     "metadata": {},
     "output_type": "execute_result"
    }
   ],
   "source": [
    "b"
   ]
  },
  {
   "cell_type": "code",
   "execution_count": 18,
   "id": "b61e1cc9",
   "metadata": {},
   "outputs": [
    {
     "data": {
      "text/plain": [
       "[3, 'python']"
      ]
     },
     "execution_count": 18,
     "metadata": {},
     "output_type": "execute_result"
    }
   ],
   "source": [
    "c"
   ]
  },
  {
   "cell_type": "code",
   "execution_count": 19,
   "id": "bec433f9",
   "metadata": {},
   "outputs": [],
   "source": [
    "a = 1,2,3,\"somani\",\"ujjwal\",23.56\n"
   ]
  },
  {
   "cell_type": "code",
   "execution_count": 20,
   "id": "24d93790",
   "metadata": {},
   "outputs": [],
   "source": [
    "first,*second,third = a "
   ]
  },
  {
   "cell_type": "code",
   "execution_count": 21,
   "id": "6ce4e7ab",
   "metadata": {},
   "outputs": [
    {
     "data": {
      "text/plain": [
       "(1, 23.56, [2, 3, 'somani', 'ujjwal'])"
      ]
     },
     "execution_count": 21,
     "metadata": {},
     "output_type": "execute_result"
    }
   ],
   "source": [
    "first , third, second "
   ]
  },
  {
   "cell_type": "markdown",
   "id": "9f4c1b39",
   "metadata": {},
   "source": [
    "# Points to ponder \n",
    "l = [1,2,3,'python']\n",
    "a,*b,(*c,d) = l "
   ]
  },
  {
   "cell_type": "markdown",
   "id": "4c0680d3",
   "metadata": {},
   "source": [
    "Given a list l = [1,2,3,4,5,6], write a code that assigns the first value of the list into a variable and \n",
    "the rest in another variable \n",
    "write 2 codes to achieve the same "
   ]
  },
  {
   "cell_type": "code",
   "execution_count": 24,
   "id": "6ab598c5",
   "metadata": {},
   "outputs": [
    {
     "data": {
      "text/plain": [
       "enumerate"
      ]
     },
     "execution_count": 24,
     "metadata": {},
     "output_type": "execute_result"
    }
   ],
   "source": [
    "enumerate "
   ]
  },
  {
   "cell_type": "code",
   "execution_count": 25,
   "id": "3ec69b72",
   "metadata": {},
   "outputs": [
    {
     "data": {
      "text/plain": [
       "type"
      ]
     },
     "execution_count": 25,
     "metadata": {},
     "output_type": "execute_result"
    }
   ],
   "source": [
    "type(enumerate)"
   ]
  },
  {
   "cell_type": "code",
   "execution_count": 26,
   "id": "55c8862a",
   "metadata": {},
   "outputs": [
    {
     "name": "stdout",
     "output_type": "stream",
     "text": [
      "Help on class enumerate in module builtins:\n",
      "\n",
      "class enumerate(object)\n",
      " |  enumerate(iterable, start=0)\n",
      " |  \n",
      " |  Return an enumerate object.\n",
      " |  \n",
      " |    iterable\n",
      " |      an object supporting iteration\n",
      " |  \n",
      " |  The enumerate object yields pairs containing a count (from start, which\n",
      " |  defaults to zero) and a value yielded by the iterable argument.\n",
      " |  \n",
      " |  enumerate is useful for obtaining an indexed list:\n",
      " |      (0, seq[0]), (1, seq[1]), (2, seq[2]), ...\n",
      " |  \n",
      " |  Methods defined here:\n",
      " |  \n",
      " |  __getattribute__(self, name, /)\n",
      " |      Return getattr(self, name).\n",
      " |  \n",
      " |  __iter__(self, /)\n",
      " |      Implement iter(self).\n",
      " |  \n",
      " |  __next__(self, /)\n",
      " |      Implement next(self).\n",
      " |  \n",
      " |  __reduce__(...)\n",
      " |      Return state information for pickling.\n",
      " |  \n",
      " |  ----------------------------------------------------------------------\n",
      " |  Class methods defined here:\n",
      " |  \n",
      " |  __class_getitem__(...) from builtins.type\n",
      " |      See PEP 585\n",
      " |  \n",
      " |  ----------------------------------------------------------------------\n",
      " |  Static methods defined here:\n",
      " |  \n",
      " |  __new__(*args, **kwargs) from builtins.type\n",
      " |      Create and return a new object.  See help(type) for accurate signature.\n",
      "\n"
     ]
    }
   ],
   "source": [
    "help(enumerate)"
   ]
  },
  {
   "cell_type": "markdown",
   "id": "ad80bc0a",
   "metadata": {},
   "source": [
    "` enumerate(iterable, start=0) `"
   ]
  },
  {
   "cell_type": "code",
   "execution_count": 27,
   "id": "bbe097be",
   "metadata": {},
   "outputs": [
    {
     "data": {
      "text/plain": [
       "<enumerate at 0x20372a5bcc0>"
      ]
     },
     "execution_count": 27,
     "metadata": {},
     "output_type": "execute_result"
    }
   ],
   "source": [
    "enumerate('xyz')"
   ]
  },
  {
   "cell_type": "code",
   "execution_count": 28,
   "id": "548117cb",
   "metadata": {},
   "outputs": [],
   "source": [
    "f = enumerate('xyz')"
   ]
  },
  {
   "cell_type": "code",
   "execution_count": 29,
   "id": "2cba586e",
   "metadata": {},
   "outputs": [
    {
     "data": {
      "text/plain": [
       "<enumerate at 0x203726c30c0>"
      ]
     },
     "execution_count": 29,
     "metadata": {},
     "output_type": "execute_result"
    }
   ],
   "source": [
    "f"
   ]
  },
  {
   "cell_type": "code",
   "execution_count": 30,
   "id": "fcd60fe4",
   "metadata": {},
   "outputs": [
    {
     "data": {
      "text/plain": [
       "[(0, 'x'), (1, 'y'), (2, 'z')]"
      ]
     },
     "execution_count": 30,
     "metadata": {},
     "output_type": "execute_result"
    }
   ],
   "source": [
    "list(f)"
   ]
  },
  {
   "cell_type": "code",
   "execution_count": 31,
   "id": "54589e59",
   "metadata": {},
   "outputs": [
    {
     "data": {
      "text/plain": [
       "[(1, 'r'), (2, 'a'), (3, 'h'), (4, 'i')]"
      ]
     },
     "execution_count": 31,
     "metadata": {},
     "output_type": "execute_result"
    }
   ],
   "source": [
    "list(enumerate('rahi',1))"
   ]
  },
  {
   "cell_type": "code",
   "execution_count": 32,
   "id": "2f4b1531",
   "metadata": {},
   "outputs": [
    {
     "data": {
      "text/plain": [
       "enumerate"
      ]
     },
     "execution_count": 32,
     "metadata": {},
     "output_type": "execute_result"
    }
   ],
   "source": [
    "type(enumerate('somani'))"
   ]
  },
  {
   "cell_type": "code",
   "execution_count": 33,
   "id": "59fec81a",
   "metadata": {},
   "outputs": [
    {
     "data": {
      "text/plain": [
       "((1, 'r'), (2, 'a'), (3, 'h'), (4, 'i'))"
      ]
     },
     "execution_count": 33,
     "metadata": {},
     "output_type": "execute_result"
    }
   ],
   "source": [
    "tuple(enumerate('rahi',1))"
   ]
  },
  {
   "cell_type": "code",
   "execution_count": 34,
   "id": "0e422731",
   "metadata": {},
   "outputs": [
    {
     "name": "stdout",
     "output_type": "stream",
     "text": [
      "Index = 0 value = T\n",
      "Index = 1 value = h\n",
      "Index = 2 value = i\n",
      "Index = 3 value = s\n",
      "Index = 4 value =  \n",
      "Index = 5 value = i\n",
      "Index = 6 value = s\n",
      "Index = 7 value =  \n",
      "Index = 8 value = l\n",
      "Index = 9 value = i\n",
      "Index = 10 value = f\n",
      "Index = 11 value = e\n"
     ]
    }
   ],
   "source": [
    "msg = 'This is life'\n",
    "for i,v in enumerate(msg):\n",
    "    print('Index = {} value = {}'.format(i,v))"
   ]
  },
  {
   "cell_type": "code",
   "execution_count": 35,
   "id": "702911a7",
   "metadata": {},
   "outputs": [
    {
     "name": "stdout",
     "output_type": "stream",
     "text": [
      "Index = T value = 0\n",
      "Index = h value = 1\n",
      "Index = i value = 2\n",
      "Index = s value = 3\n",
      "Index =   value = 4\n",
      "Index = i value = 5\n",
      "Index = s value = 6\n",
      "Index =   value = 7\n",
      "Index = l value = 8\n",
      "Index = i value = 9\n",
      "Index = f value = 10\n",
      "Index = e value = 11\n"
     ]
    }
   ],
   "source": [
    "msg = 'This is life'\n",
    "for i,v in enumerate(msg):\n",
    "    print('Index = {1} value = {0}'.format(i,v))"
   ]
  },
  {
   "cell_type": "code",
   "execution_count": 36,
   "id": "5c64c843",
   "metadata": {},
   "outputs": [],
   "source": [
    "result = enumerate([1,2,3,4,5])"
   ]
  },
  {
   "cell_type": "code",
   "execution_count": 37,
   "id": "efcdc7b0",
   "metadata": {},
   "outputs": [
    {
     "name": "stdout",
     "output_type": "stream",
     "text": [
      "['__class__', '__class_getitem__', '__delattr__', '__dir__', '__doc__', '__eq__', '__format__', '__ge__', '__getattribute__', '__gt__', '__hash__', '__init__', '__init_subclass__', '__iter__', '__le__', '__lt__', '__ne__', '__new__', '__next__', '__reduce__', '__reduce_ex__', '__repr__', '__setattr__', '__sizeof__', '__str__', '__subclasshook__']\n"
     ]
    }
   ],
   "source": [
    "print(dir(result))"
   ]
  },
  {
   "cell_type": "code",
   "execution_count": 38,
   "id": "20c55912",
   "metadata": {},
   "outputs": [
    {
     "data": {
      "text/plain": [
       "<method-wrapper '__next__' of enumerate object at 0x00000203729A9940>"
      ]
     },
     "execution_count": 38,
     "metadata": {},
     "output_type": "execute_result"
    }
   ],
   "source": [
    "result.__next__"
   ]
  },
  {
   "cell_type": "code",
   "execution_count": 43,
   "id": "07a2b83b",
   "metadata": {},
   "outputs": [
    {
     "data": {
      "text/plain": [
       "(3, 4)"
      ]
     },
     "execution_count": 43,
     "metadata": {},
     "output_type": "execute_result"
    }
   ],
   "source": [
    "next(result)"
   ]
  },
  {
   "cell_type": "code",
   "execution_count": 44,
   "id": "fbb3e398",
   "metadata": {},
   "outputs": [
    {
     "data": {
      "text/plain": [
       "(4, 5)"
      ]
     },
     "execution_count": 44,
     "metadata": {},
     "output_type": "execute_result"
    }
   ],
   "source": [
    "next(result)"
   ]
  },
  {
   "cell_type": "code",
   "execution_count": 45,
   "id": "31b26556",
   "metadata": {},
   "outputs": [
    {
     "ename": "StopIteration",
     "evalue": "",
     "output_type": "error",
     "traceback": [
      "\u001b[1;31m---------------------------------------------------------------------------\u001b[0m",
      "\u001b[1;31mStopIteration\u001b[0m                             Traceback (most recent call last)",
      "Input \u001b[1;32mIn [45]\u001b[0m, in \u001b[0;36m<cell line: 1>\u001b[1;34m()\u001b[0m\n\u001b[1;32m----> 1\u001b[0m \u001b[38;5;28;43mnext\u001b[39;49m\u001b[43m(\u001b[49m\u001b[43mresult\u001b[49m\u001b[43m)\u001b[49m\n",
      "\u001b[1;31mStopIteration\u001b[0m: "
     ]
    }
   ],
   "source": [
    "next(result)"
   ]
  },
  {
   "cell_type": "code",
   "execution_count": 49,
   "id": "ed129900",
   "metadata": {},
   "outputs": [],
   "source": [
    "def my_func():\n",
    "    yield \"Amit\"\n",
    "    yield \"Shekhar\"\n",
    "    yield \"Shweta\"\n",
    "    yield 'Goswami'\n",
    "    yield 12\n",
    "    yield 34.56"
   ]
  },
  {
   "cell_type": "code",
   "execution_count": 50,
   "id": "130cf8da",
   "metadata": {},
   "outputs": [
    {
     "data": {
      "text/plain": [
       "<function __main__.my_func()>"
      ]
     },
     "execution_count": 50,
     "metadata": {},
     "output_type": "execute_result"
    }
   ],
   "source": [
    "my_func"
   ]
  },
  {
   "cell_type": "code",
   "execution_count": 51,
   "id": "fd5a0237",
   "metadata": {},
   "outputs": [
    {
     "data": {
      "text/plain": [
       "<generator object my_func at 0x0000020372A8C660>"
      ]
     },
     "execution_count": 51,
     "metadata": {},
     "output_type": "execute_result"
    }
   ],
   "source": [
    "my_func()"
   ]
  },
  {
   "cell_type": "code",
   "execution_count": 54,
   "id": "f318ddd7",
   "metadata": {},
   "outputs": [],
   "source": [
    "f = my_func()"
   ]
  },
  {
   "cell_type": "code",
   "execution_count": 55,
   "id": "be60cbe7",
   "metadata": {},
   "outputs": [
    {
     "data": {
      "text/plain": [
       "'Amit'"
      ]
     },
     "execution_count": 55,
     "metadata": {},
     "output_type": "execute_result"
    }
   ],
   "source": [
    "next(f)"
   ]
  },
  {
   "cell_type": "code",
   "execution_count": 61,
   "id": "f5f5ae06",
   "metadata": {},
   "outputs": [
    {
     "ename": "StopIteration",
     "evalue": "",
     "output_type": "error",
     "traceback": [
      "\u001b[1;31m---------------------------------------------------------------------------\u001b[0m",
      "\u001b[1;31mStopIteration\u001b[0m                             Traceback (most recent call last)",
      "Input \u001b[1;32mIn [61]\u001b[0m, in \u001b[0;36m<cell line: 1>\u001b[1;34m()\u001b[0m\n\u001b[1;32m----> 1\u001b[0m \u001b[38;5;28;43mnext\u001b[39;49m\u001b[43m(\u001b[49m\u001b[43mf\u001b[49m\u001b[43m)\u001b[49m\n",
      "\u001b[1;31mStopIteration\u001b[0m: "
     ]
    }
   ],
   "source": [
    "next(f)"
   ]
  },
  {
   "cell_type": "markdown",
   "id": "6f0dc256",
   "metadata": {},
   "source": [
    "The very presence of the yield keyword within a function, makes the function a generator function. This \n",
    "gives you values on demand, i.e whenever asked for by calling the __next__ of the next() functiomn \n",
    "on the object. "
   ]
  },
  {
   "cell_type": "code",
   "execution_count": 62,
   "id": "57d09fad",
   "metadata": {},
   "outputs": [],
   "source": [
    "def my_func():\n",
    "    yield \"Amit\"\n",
    "    yield \"Shekhar\"\n",
    "    yield \"Shweta\"\n",
    "    yield 'Goswami'\n",
    "    yield 12\n",
    "    yield 34.56"
   ]
  },
  {
   "cell_type": "code",
   "execution_count": 66,
   "id": "01f24c9f",
   "metadata": {},
   "outputs": [
    {
     "name": "stdout",
     "output_type": "stream",
     "text": [
      "['__annotations__', '__builtins__', '__call__', '__class__', '__closure__', '__code__', '__defaults__', '__delattr__', '__dict__', '__dir__', '__doc__', '__eq__', '__format__', '__ge__', '__get__', '__getattribute__', '__globals__', '__gt__', '__hash__', '__init__', '__init_subclass__', '__kwdefaults__', '__le__', '__lt__', '__module__', '__name__', '__ne__', '__new__', '__qualname__', '__reduce__', '__reduce_ex__', '__repr__', '__setattr__', '__sizeof__', '__str__', '__subclasshook__']\n"
     ]
    }
   ],
   "source": [
    "print(dir(my_func))"
   ]
  },
  {
   "cell_type": "code",
   "execution_count": 67,
   "id": "28fdb904",
   "metadata": {},
   "outputs": [
    {
     "data": {
      "text/plain": [
       "False"
      ]
     },
     "execution_count": 67,
     "metadata": {},
     "output_type": "execute_result"
    }
   ],
   "source": [
    "'__next__' in dir(my_func)"
   ]
  },
  {
   "cell_type": "code",
   "execution_count": 68,
   "id": "4c5cabf4",
   "metadata": {},
   "outputs": [],
   "source": [
    "obj = my_func()"
   ]
  },
  {
   "cell_type": "code",
   "execution_count": 69,
   "id": "9ab4df0c",
   "metadata": {},
   "outputs": [
    {
     "data": {
      "text/plain": [
       "True"
      ]
     },
     "execution_count": 69,
     "metadata": {},
     "output_type": "execute_result"
    }
   ],
   "source": [
    "'__next__' in dir(obj)"
   ]
  },
  {
   "cell_type": "code",
   "execution_count": 70,
   "id": "adb8b77d",
   "metadata": {},
   "outputs": [
    {
     "data": {
      "text/plain": [
       "'Amit'"
      ]
     },
     "execution_count": 70,
     "metadata": {},
     "output_type": "execute_result"
    }
   ],
   "source": [
    "obj.__next__()"
   ]
  },
  {
   "cell_type": "code",
   "execution_count": 71,
   "id": "598a3e89",
   "metadata": {},
   "outputs": [
    {
     "data": {
      "text/plain": [
       "'Shekhar'"
      ]
     },
     "execution_count": 71,
     "metadata": {},
     "output_type": "execute_result"
    }
   ],
   "source": [
    "obj.__next__()"
   ]
  },
  {
   "cell_type": "code",
   "execution_count": 72,
   "id": "e26af0ac",
   "metadata": {},
   "outputs": [
    {
     "data": {
      "text/plain": [
       "'Shweta'"
      ]
     },
     "execution_count": 72,
     "metadata": {},
     "output_type": "execute_result"
    }
   ],
   "source": [
    "obj.__next__()"
   ]
  },
  {
   "cell_type": "code",
   "execution_count": null,
   "id": "d99a0be2",
   "metadata": {},
   "outputs": [],
   "source": []
  }
 ],
 "metadata": {
  "kernelspec": {
   "display_name": "Python 3 (ipykernel)",
   "language": "python",
   "name": "python3"
  },
  "language_info": {
   "codemirror_mode": {
    "name": "ipython",
    "version": 3
   },
   "file_extension": ".py",
   "mimetype": "text/x-python",
   "name": "python",
   "nbconvert_exporter": "python",
   "pygments_lexer": "ipython3",
   "version": "3.10.4"
  }
 },
 "nbformat": 4,
 "nbformat_minor": 5
}
