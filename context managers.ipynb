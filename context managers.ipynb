{
 "cells": [
  {
   "cell_type": "markdown",
   "id": "d4df1e91",
   "metadata": {},
   "source": [
    "# Context Managers \n",
    "***\n",
    "   - Usually used by us in file operations\n",
    "   - They follow a particular protocol \n",
    "   - So, in our classes ( custom class ) if we can implement those protocol, our class can be used in the same way \n",
    "\n",
    "***\n"
   ]
  },
  {
   "cell_type": "code",
   "execution_count": 1,
   "id": "a4805f36",
   "metadata": {},
   "outputs": [],
   "source": [
    "f = open('test.txt','w')\n",
    "f.write(\"hello world\")\n",
    "# more code \n",
    "\n",
    "# at the end \n",
    "f.close()"
   ]
  },
  {
   "cell_type": "code",
   "execution_count": 3,
   "id": "ec319adc",
   "metadata": {},
   "outputs": [
    {
     "name": "stdout",
     "output_type": "stream",
     "text": [
      "Hello world \n"
     ]
    }
   ],
   "source": [
    "with open('test2.txt','w') as f:\n",
    "    f.write('Hello world ')\n",
    "    \n",
    "with open('test2.txt','r') as f:\n",
    "    print(next(f))"
   ]
  },
  {
   "cell_type": "markdown",
   "id": "f920ab42",
   "metadata": {},
   "source": [
    "Context managers implements two special magic methods \n",
    "\n",
    "    - ` __enter__ ` \n",
    "    - ` __exit__` "
   ]
  },
  {
   "cell_type": "code",
   "execution_count": 7,
   "id": "6af1fcf0",
   "metadata": {},
   "outputs": [],
   "source": [
    "class MyContext:\n",
    "    def __init__(self):\n",
    "        self.obj = None \n",
    "        \n",
    "    def __enter__(self):\n",
    "        print(\" Entering the __enter__ function \")\n",
    "        self.obj = 'Rahul Somani'\n",
    "        return self.obj \n",
    "    \n",
    "    def __exit__(self,exc_type,exc_value,exc_tb):\n",
    "        print(\"Exiting\")\n",
    "        if exc_type:\n",
    "            print('Error occured with {} , {}'.format(exc_type,exc_value))\n",
    "        return False \n",
    "    \n",
    "    def __repr__(self):\n",
    "        return 'Lux soap'\n",
    "            "
   ]
  },
  {
   "cell_type": "code",
   "execution_count": 8,
   "id": "9b39f352",
   "metadata": {},
   "outputs": [],
   "source": [
    "soap = MyContext()"
   ]
  },
  {
   "cell_type": "code",
   "execution_count": 9,
   "id": "bef15235",
   "metadata": {},
   "outputs": [
    {
     "data": {
      "text/plain": [
       "Lux soap"
      ]
     },
     "execution_count": 9,
     "metadata": {},
     "output_type": "execute_result"
    }
   ],
   "source": [
    "soap"
   ]
  },
  {
   "cell_type": "code",
   "execution_count": 11,
   "id": "fb6d22a6",
   "metadata": {},
   "outputs": [
    {
     "name": "stdout",
     "output_type": "stream",
     "text": [
      "Hello world \n",
      "<class 'int'>\n",
      "<class 'int'>\n",
      "everything good till now \n"
     ]
    },
    {
     "ename": "ZeroDivisionError",
     "evalue": "division by zero",
     "output_type": "error",
     "traceback": [
      "\u001b[1;31m---------------------------------------------------------------------------\u001b[0m",
      "\u001b[1;31mZeroDivisionError\u001b[0m                         Traceback (most recent call last)",
      "Input \u001b[1;32mIn [11]\u001b[0m, in \u001b[0;36m<cell line: 6>\u001b[1;34m()\u001b[0m\n\u001b[0;32m      4\u001b[0m \u001b[38;5;28mprint\u001b[39m(\u001b[38;5;28mtype\u001b[39m(c))\n\u001b[0;32m      5\u001b[0m \u001b[38;5;28mprint\u001b[39m(\u001b[38;5;124m\"\u001b[39m\u001b[38;5;124meverything good till now \u001b[39m\u001b[38;5;124m\"\u001b[39m)\n\u001b[1;32m----> 6\u001b[0m \u001b[38;5;28mprint\u001b[39m(\u001b[38;5;241;43m1\u001b[39;49m\u001b[38;5;241;43m/\u001b[39;49m\u001b[38;5;241;43m0\u001b[39;49m)\n\u001b[0;32m      7\u001b[0m \u001b[38;5;28mprint\u001b[39m(\u001b[38;5;124m\"\u001b[39m\u001b[38;5;124mNow what \u001b[39m\u001b[38;5;124m\"\u001b[39m)\n\u001b[0;32m      8\u001b[0m \u001b[38;5;28mprint\u001b[39m(\u001b[38;5;124m\"\u001b[39m\u001b[38;5;124mEnd\u001b[39m\u001b[38;5;124m\"\u001b[39m\u001b[38;5;241m.\u001b[39mcenter(\u001b[38;5;241m100\u001b[39m,\u001b[38;5;124m'\u001b[39m\u001b[38;5;124m*\u001b[39m\u001b[38;5;124m'\u001b[39m))\n",
      "\u001b[1;31mZeroDivisionError\u001b[0m: division by zero"
     ]
    }
   ],
   "source": [
    "print('Hello world ')\n",
    "a,c = 10,20\n",
    "print(type(a))\n",
    "print(type(c))\n",
    "print(\"everything good till now \")\n",
    "print(1/0)\n",
    "print(\"Now what \")\n",
    "print(\"End\".center(100,'*'))"
   ]
  },
  {
   "cell_type": "code",
   "execution_count": 12,
   "id": "36de8728",
   "metadata": {},
   "outputs": [],
   "source": [
    "class MyContext:\n",
    "    def __init__(self):\n",
    "        self.obj = None \n",
    "        \n",
    "    def __enter__(self):\n",
    "        print(\" Entering the __enter__ function \")\n",
    "        self.obj = 'Rahul Somani'\n",
    "        return self.obj \n",
    "    \n",
    "    def __exit__(self,exc_type,exc_value,exc_tb):\n",
    "        print(\"Exiting\")\n",
    "        if exc_type:\n",
    "            print('Error occured with {} , {}'.format(exc_type,exc_value))\n",
    "        return False \n",
    "    \n",
    "    def __repr__(self):\n",
    "        return 'Lux soap'\n",
    "            "
   ]
  },
  {
   "cell_type": "code",
   "execution_count": 13,
   "id": "a2f08090",
   "metadata": {},
   "outputs": [],
   "source": [
    "soap = MyContext()"
   ]
  },
  {
   "cell_type": "code",
   "execution_count": 14,
   "id": "d5b24ada",
   "metadata": {},
   "outputs": [
    {
     "data": {
      "text/plain": [
       "{'obj': None}"
      ]
     },
     "execution_count": 14,
     "metadata": {},
     "output_type": "execute_result"
    }
   ],
   "source": [
    "soap.__dict__"
   ]
  },
  {
   "cell_type": "code",
   "execution_count": 15,
   "id": "36eb1f36",
   "metadata": {},
   "outputs": [
    {
     "name": "stdout",
     "output_type": "stream",
     "text": [
      " Entering the __enter__ function \n"
     ]
    },
    {
     "data": {
      "text/plain": [
       "'Rahul Somani'"
      ]
     },
     "execution_count": 15,
     "metadata": {},
     "output_type": "execute_result"
    }
   ],
   "source": [
    "soap.__enter__()"
   ]
  },
  {
   "cell_type": "code",
   "execution_count": 16,
   "id": "9a8ea43c",
   "metadata": {},
   "outputs": [
    {
     "name": "stdout",
     "output_type": "stream",
     "text": [
      " Entering the __enter__ function \n",
      "Inside the with block\n",
      "Exiting\n"
     ]
    }
   ],
   "source": [
    "with soap as obj:\n",
    "    print(\"Inside the with block\")\n",
    "    \n",
    "    "
   ]
  },
  {
   "cell_type": "code",
   "execution_count": 17,
   "id": "9f2824db",
   "metadata": {},
   "outputs": [
    {
     "name": "stdout",
     "output_type": "stream",
     "text": [
      " Entering the __enter__ function \n",
      "Inside the with block\n",
      "Exiting\n",
      "Error occured with <class 'ValueError'> , Value error Exception raised \n"
     ]
    },
    {
     "ename": "ValueError",
     "evalue": "Value error Exception raised ",
     "output_type": "error",
     "traceback": [
      "\u001b[1;31m---------------------------------------------------------------------------\u001b[0m",
      "\u001b[1;31mValueError\u001b[0m                                Traceback (most recent call last)",
      "Input \u001b[1;32mIn [17]\u001b[0m, in \u001b[0;36m<cell line: 1>\u001b[1;34m()\u001b[0m\n\u001b[0;32m      1\u001b[0m \u001b[38;5;28;01mwith\u001b[39;00m soap \u001b[38;5;28;01mas\u001b[39;00m obj:\n\u001b[0;32m      2\u001b[0m     \u001b[38;5;28mprint\u001b[39m(\u001b[38;5;124m\"\u001b[39m\u001b[38;5;124mInside the with block\u001b[39m\u001b[38;5;124m\"\u001b[39m)\n\u001b[1;32m----> 3\u001b[0m     \u001b[38;5;28;01mraise\u001b[39;00m \u001b[38;5;167;01mValueError\u001b[39;00m(\u001b[38;5;124m\"\u001b[39m\u001b[38;5;124mValue error Exception raised \u001b[39m\u001b[38;5;124m\"\u001b[39m)\n",
      "\u001b[1;31mValueError\u001b[0m: Value error Exception raised "
     ]
    }
   ],
   "source": [
    "with soap as obj:\n",
    "    print(\"Inside the with block\")\n",
    "    raise ValueError(\"Value error Exception raised \")\n",
    "    "
   ]
  },
  {
   "cell_type": "code",
   "execution_count": 18,
   "id": "9cf799c5",
   "metadata": {},
   "outputs": [],
   "source": [
    "def my_func():\n",
    "    with soap as obj:\n",
    "        print(\"Within the function with block\")\n",
    "        try:\n",
    "            print(name)\n",
    "        except NameError as e:\n",
    "            print(\"Silenced the exception .. {}\".format(repr(e)))"
   ]
  },
  {
   "cell_type": "code",
   "execution_count": 19,
   "id": "2d2e54b2",
   "metadata": {},
   "outputs": [
    {
     "name": "stdout",
     "output_type": "stream",
     "text": [
      " Entering the __enter__ function \n",
      "Within the function with block\n",
      "Silenced the exception .. NameError(\"name 'name' is not defined\")\n",
      "Exiting\n"
     ]
    }
   ],
   "source": [
    "my_func()"
   ]
  },
  {
   "cell_type": "code",
   "execution_count": 20,
   "id": "f2d923f5",
   "metadata": {},
   "outputs": [],
   "source": [
    "class MyContext:\n",
    "    def __init__(self):\n",
    "        self.obj = None \n",
    "        \n",
    "    def __enter__(self):\n",
    "        print(\" Entering the __enter__ function \")\n",
    "        self.obj = 'Rahul Somani'\n",
    "        return self.obj \n",
    "    \n",
    "    def __exit__(self,exc_type,exc_value,exc_tb):\n",
    "        print(\"Exiting\")\n",
    "        if exc_type:\n",
    "            print('Error occured with {} , {}'.format(exc_type,exc_value))\n",
    "        return False \n",
    "    \n",
    "    def __repr__(self):\n",
    "        return 'Lux soap'\n",
    "            "
   ]
  },
  {
   "cell_type": "code",
   "execution_count": 21,
   "id": "f66dbe35",
   "metadata": {},
   "outputs": [
    {
     "name": "stdout",
     "output_type": "stream",
     "text": [
      " Entering the __enter__ function \n",
      "Classes can be used ? \n",
      "Exiting\n"
     ]
    }
   ],
   "source": [
    "with MyContext() as f:\n",
    "    print(\"Classes can be used ? \")"
   ]
  },
  {
   "cell_type": "markdown",
   "id": "bafd08f1",
   "metadata": {},
   "source": [
    "### Write a class that returns a list of square of numbers [1,4,9,16,25] when the __enter__ is called \n",
    "and returns a list of cubes when __exit__ is called . "
   ]
  },
  {
   "cell_type": "code",
   "execution_count": null,
   "id": "a36f4751",
   "metadata": {},
   "outputs": [],
   "source": []
  }
 ],
 "metadata": {
  "kernelspec": {
   "display_name": "Python 3 (ipykernel)",
   "language": "python",
   "name": "python3"
  },
  "language_info": {
   "codemirror_mode": {
    "name": "ipython",
    "version": 3
   },
   "file_extension": ".py",
   "mimetype": "text/x-python",
   "name": "python",
   "nbconvert_exporter": "python",
   "pygments_lexer": "ipython3",
   "version": "3.10.4"
  }
 },
 "nbformat": 4,
 "nbformat_minor": 5
}
